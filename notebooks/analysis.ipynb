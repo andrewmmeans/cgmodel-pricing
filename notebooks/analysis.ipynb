{
 "cells": [
  {
   "cell_type": "code",
   "execution_count": 94,
   "metadata": {},
   "outputs": [],
   "source": [
    "import matplotlib.pyplot as plt\n",
    "import numpy as np\n",
    "import pandas as pd\n",
    "\n",
    "import warnings\n",
    "warnings.filterwarnings(\"ignore\")"
   ]
  },
  {
   "cell_type": "code",
   "execution_count": 95,
   "metadata": {},
   "outputs": [],
   "source": [
    "df = pd.read_pickle('../data/raw/model_df.pkl')"
   ]
  },
  {
   "cell_type": "code",
   "execution_count": 96,
   "metadata": {},
   "outputs": [],
   "source": [
    "import nltk\n",
    "from nltk.tokenize import RegexpTokenizer\n",
    "tokenizer = RegexpTokenizer('\\w+|\\(\\d+\\*\\d+\\)|\\(\\d+.\\d+,\\d+\\)')"
   ]
  },
  {
   "cell_type": "code",
   "execution_count": 97,
   "metadata": {},
   "outputs": [],
   "source": [
    "regexed = []\n",
    "\n",
    "for desc in list(df.model_description):\n",
    "    regexed.append([x.lower() for x in tokenizer.tokenize(desc)])"
   ]
  },
  {
   "cell_type": "code",
   "execution_count": 98,
   "metadata": {},
   "outputs": [],
   "source": [
    "import gensim.downloader as api"
   ]
  },
  {
   "cell_type": "code",
   "execution_count": 72,
   "metadata": {
    "collapsed": true,
    "jupyter": {
     "outputs_hidden": true
    }
   },
   "outputs": [
    {
     "name": "stdout",
     "output_type": "stream",
     "text": [
      "[--------------------------------------------------] 1.4% 23.4/1662.8MB downloaded"
     ]
    },
    {
     "name": "stderr",
     "output_type": "stream",
     "text": [
      "IOPub message rate exceeded.\n",
      "The notebook server will temporarily stop sending output\n",
      "to the client in order to avoid crashing it.\n",
      "To change this limit, set the config variable\n",
      "`--NotebookApp.iopub_msg_rate_limit`.\n",
      "\n",
      "Current values:\n",
      "NotebookApp.iopub_msg_rate_limit=1000.0 (msgs/sec)\n",
      "NotebookApp.rate_limit_window=3.0 (secs)\n",
      "\n"
     ]
    },
    {
     "name": "stdout",
     "output_type": "stream",
     "text": [
      "[=-------------------------------------------------] 3.7% 61.9/1662.8MB downloaded"
     ]
    },
    {
     "name": "stderr",
     "output_type": "stream",
     "text": [
      "IOPub message rate exceeded.\n",
      "The notebook server will temporarily stop sending output\n",
      "to the client in order to avoid crashing it.\n",
      "To change this limit, set the config variable\n",
      "`--NotebookApp.iopub_msg_rate_limit`.\n",
      "\n",
      "Current values:\n",
      "NotebookApp.iopub_msg_rate_limit=1000.0 (msgs/sec)\n",
      "NotebookApp.rate_limit_window=3.0 (secs)\n",
      "\n"
     ]
    },
    {
     "name": "stdout",
     "output_type": "stream",
     "text": [
      "[===-----------------------------------------------] 6.0% 100.1/1662.8MB downloaded"
     ]
    },
    {
     "name": "stderr",
     "output_type": "stream",
     "text": [
      "IOPub message rate exceeded.\n",
      "The notebook server will temporarily stop sending output\n",
      "to the client in order to avoid crashing it.\n",
      "To change this limit, set the config variable\n",
      "`--NotebookApp.iopub_msg_rate_limit`.\n",
      "\n",
      "Current values:\n",
      "NotebookApp.iopub_msg_rate_limit=1000.0 (msgs/sec)\n",
      "NotebookApp.rate_limit_window=3.0 (secs)\n",
      "\n"
     ]
    },
    {
     "name": "stdout",
     "output_type": "stream",
     "text": [
      "[====----------------------------------------------] 8.3% 137.4/1662.8MB downloaded"
     ]
    },
    {
     "name": "stderr",
     "output_type": "stream",
     "text": [
      "IOPub message rate exceeded.\n",
      "The notebook server will temporarily stop sending output\n",
      "to the client in order to avoid crashing it.\n",
      "To change this limit, set the config variable\n",
      "`--NotebookApp.iopub_msg_rate_limit`.\n",
      "\n",
      "Current values:\n",
      "NotebookApp.iopub_msg_rate_limit=1000.0 (msgs/sec)\n",
      "NotebookApp.rate_limit_window=3.0 (secs)\n",
      "\n"
     ]
    },
    {
     "name": "stdout",
     "output_type": "stream",
     "text": [
      "[=====---------------------------------------------] 10.5% 174.3/1662.8MB downloaded"
     ]
    },
    {
     "name": "stderr",
     "output_type": "stream",
     "text": [
      "IOPub message rate exceeded.\n",
      "The notebook server will temporarily stop sending output\n",
      "to the client in order to avoid crashing it.\n",
      "To change this limit, set the config variable\n",
      "`--NotebookApp.iopub_msg_rate_limit`.\n",
      "\n",
      "Current values:\n",
      "NotebookApp.iopub_msg_rate_limit=1000.0 (msgs/sec)\n",
      "NotebookApp.rate_limit_window=3.0 (secs)\n",
      "\n"
     ]
    },
    {
     "name": "stdout",
     "output_type": "stream",
     "text": [
      "[======--------------------------------------------] 12.7% 210.7/1662.8MB downloaded"
     ]
    },
    {
     "name": "stderr",
     "output_type": "stream",
     "text": [
      "IOPub message rate exceeded.\n",
      "The notebook server will temporarily stop sending output\n",
      "to the client in order to avoid crashing it.\n",
      "To change this limit, set the config variable\n",
      "`--NotebookApp.iopub_msg_rate_limit`.\n",
      "\n",
      "Current values:\n",
      "NotebookApp.iopub_msg_rate_limit=1000.0 (msgs/sec)\n",
      "NotebookApp.rate_limit_window=3.0 (secs)\n",
      "\n"
     ]
    },
    {
     "name": "stdout",
     "output_type": "stream",
     "text": [
      "[=======-------------------------------------------] 14.7% 244.8/1662.8MB downloaded"
     ]
    },
    {
     "name": "stderr",
     "output_type": "stream",
     "text": [
      "IOPub message rate exceeded.\n",
      "The notebook server will temporarily stop sending output\n",
      "to the client in order to avoid crashing it.\n",
      "To change this limit, set the config variable\n",
      "`--NotebookApp.iopub_msg_rate_limit`.\n",
      "\n",
      "Current values:\n",
      "NotebookApp.iopub_msg_rate_limit=1000.0 (msgs/sec)\n",
      "NotebookApp.rate_limit_window=3.0 (secs)\n",
      "\n"
     ]
    },
    {
     "name": "stdout",
     "output_type": "stream",
     "text": [
      "[========------------------------------------------] 16.8% 280.1/1662.8MB downloaded"
     ]
    },
    {
     "name": "stderr",
     "output_type": "stream",
     "text": [
      "IOPub message rate exceeded.\n",
      "The notebook server will temporarily stop sending output\n",
      "to the client in order to avoid crashing it.\n",
      "To change this limit, set the config variable\n",
      "`--NotebookApp.iopub_msg_rate_limit`.\n",
      "\n",
      "Current values:\n",
      "NotebookApp.iopub_msg_rate_limit=1000.0 (msgs/sec)\n",
      "NotebookApp.rate_limit_window=3.0 (secs)\n",
      "\n"
     ]
    },
    {
     "name": "stdout",
     "output_type": "stream",
     "text": [
      "[=========-----------------------------------------] 19.0% 316.5/1662.8MB downloaded"
     ]
    },
    {
     "name": "stderr",
     "output_type": "stream",
     "text": [
      "IOPub message rate exceeded.\n",
      "The notebook server will temporarily stop sending output\n",
      "to the client in order to avoid crashing it.\n",
      "To change this limit, set the config variable\n",
      "`--NotebookApp.iopub_msg_rate_limit`.\n",
      "\n",
      "Current values:\n",
      "NotebookApp.iopub_msg_rate_limit=1000.0 (msgs/sec)\n",
      "NotebookApp.rate_limit_window=3.0 (secs)\n",
      "\n"
     ]
    },
    {
     "name": "stdout",
     "output_type": "stream",
     "text": [
      "[===========---------------------------------------] 22.5% 374.4/1662.8MB downloaded"
     ]
    },
    {
     "name": "stderr",
     "output_type": "stream",
     "text": [
      "IOPub message rate exceeded.\n",
      "The notebook server will temporarily stop sending output\n",
      "to the client in order to avoid crashing it.\n",
      "To change this limit, set the config variable\n",
      "`--NotebookApp.iopub_msg_rate_limit`.\n",
      "\n",
      "Current values:\n",
      "NotebookApp.iopub_msg_rate_limit=1000.0 (msgs/sec)\n",
      "NotebookApp.rate_limit_window=3.0 (secs)\n",
      "\n"
     ]
    },
    {
     "name": "stdout",
     "output_type": "stream",
     "text": [
      "[============--------------------------------------] 25.9% 431.4/1662.8MB downloaded"
     ]
    },
    {
     "name": "stderr",
     "output_type": "stream",
     "text": [
      "IOPub message rate exceeded.\n",
      "The notebook server will temporarily stop sending output\n",
      "to the client in order to avoid crashing it.\n",
      "To change this limit, set the config variable\n",
      "`--NotebookApp.iopub_msg_rate_limit`.\n",
      "\n",
      "Current values:\n",
      "NotebookApp.iopub_msg_rate_limit=1000.0 (msgs/sec)\n",
      "NotebookApp.rate_limit_window=3.0 (secs)\n",
      "\n"
     ]
    },
    {
     "name": "stdout",
     "output_type": "stream",
     "text": [
      "[==============------------------------------------] 29.1% 483.8/1662.8MB downloaded"
     ]
    },
    {
     "name": "stderr",
     "output_type": "stream",
     "text": [
      "IOPub message rate exceeded.\n",
      "The notebook server will temporarily stop sending output\n",
      "to the client in order to avoid crashing it.\n",
      "To change this limit, set the config variable\n",
      "`--NotebookApp.iopub_msg_rate_limit`.\n",
      "\n",
      "Current values:\n",
      "NotebookApp.iopub_msg_rate_limit=1000.0 (msgs/sec)\n",
      "NotebookApp.rate_limit_window=3.0 (secs)\n",
      "\n"
     ]
    },
    {
     "name": "stdout",
     "output_type": "stream",
     "text": [
      "[================----------------------------------] 32.5% 541.2/1662.8MB downloaded"
     ]
    },
    {
     "name": "stderr",
     "output_type": "stream",
     "text": [
      "IOPub message rate exceeded.\n",
      "The notebook server will temporarily stop sending output\n",
      "to the client in order to avoid crashing it.\n",
      "To change this limit, set the config variable\n",
      "`--NotebookApp.iopub_msg_rate_limit`.\n",
      "\n",
      "Current values:\n",
      "NotebookApp.iopub_msg_rate_limit=1000.0 (msgs/sec)\n",
      "NotebookApp.rate_limit_window=3.0 (secs)\n",
      "\n"
     ]
    },
    {
     "name": "stdout",
     "output_type": "stream",
     "text": [
      "[=================---------------------------------] 34.5% 573.8/1662.8MB downloaded"
     ]
    },
    {
     "name": "stderr",
     "output_type": "stream",
     "text": [
      "IOPub message rate exceeded.\n",
      "The notebook server will temporarily stop sending output\n",
      "to the client in order to avoid crashing it.\n",
      "To change this limit, set the config variable\n",
      "`--NotebookApp.iopub_msg_rate_limit`.\n",
      "\n",
      "Current values:\n",
      "NotebookApp.iopub_msg_rate_limit=1000.0 (msgs/sec)\n",
      "NotebookApp.rate_limit_window=3.0 (secs)\n",
      "\n"
     ]
    },
    {
     "name": "stdout",
     "output_type": "stream",
     "text": [
      "[===================-------------------------------] 38.2% 634.5/1662.8MB downloaded"
     ]
    },
    {
     "name": "stderr",
     "output_type": "stream",
     "text": [
      "IOPub message rate exceeded.\n",
      "The notebook server will temporarily stop sending output\n",
      "to the client in order to avoid crashing it.\n",
      "To change this limit, set the config variable\n",
      "`--NotebookApp.iopub_msg_rate_limit`.\n",
      "\n",
      "Current values:\n",
      "NotebookApp.iopub_msg_rate_limit=1000.0 (msgs/sec)\n",
      "NotebookApp.rate_limit_window=3.0 (secs)\n",
      "\n"
     ]
    },
    {
     "name": "stdout",
     "output_type": "stream",
     "text": [
      "[====================------------------------------] 40.3% 669.9/1662.8MB downloaded"
     ]
    },
    {
     "name": "stderr",
     "output_type": "stream",
     "text": [
      "IOPub message rate exceeded.\n",
      "The notebook server will temporarily stop sending output\n",
      "to the client in order to avoid crashing it.\n",
      "To change this limit, set the config variable\n",
      "`--NotebookApp.iopub_msg_rate_limit`.\n",
      "\n",
      "Current values:\n",
      "NotebookApp.iopub_msg_rate_limit=1000.0 (msgs/sec)\n",
      "NotebookApp.rate_limit_window=3.0 (secs)\n",
      "\n"
     ]
    },
    {
     "name": "stdout",
     "output_type": "stream",
     "text": [
      "[======================----------------------------] 44.2% 735.6/1662.8MB downloaded"
     ]
    },
    {
     "name": "stderr",
     "output_type": "stream",
     "text": [
      "IOPub message rate exceeded.\n",
      "The notebook server will temporarily stop sending output\n",
      "to the client in order to avoid crashing it.\n",
      "To change this limit, set the config variable\n",
      "`--NotebookApp.iopub_msg_rate_limit`.\n",
      "\n",
      "Current values:\n",
      "NotebookApp.iopub_msg_rate_limit=1000.0 (msgs/sec)\n",
      "NotebookApp.rate_limit_window=3.0 (secs)\n",
      "\n"
     ]
    },
    {
     "name": "stdout",
     "output_type": "stream",
     "text": [
      "[=======================---------------------------] 46.8% 778.2/1662.8MB downloaded"
     ]
    },
    {
     "name": "stderr",
     "output_type": "stream",
     "text": [
      "IOPub message rate exceeded.\n",
      "The notebook server will temporarily stop sending output\n",
      "to the client in order to avoid crashing it.\n",
      "To change this limit, set the config variable\n",
      "`--NotebookApp.iopub_msg_rate_limit`.\n",
      "\n",
      "Current values:\n",
      "NotebookApp.iopub_msg_rate_limit=1000.0 (msgs/sec)\n",
      "NotebookApp.rate_limit_window=3.0 (secs)\n",
      "\n"
     ]
    },
    {
     "name": "stdout",
     "output_type": "stream",
     "text": [
      "[=========================-------------------------] 50.2% 834.3/1662.8MB downloaded"
     ]
    },
    {
     "name": "stderr",
     "output_type": "stream",
     "text": [
      "IOPub message rate exceeded.\n",
      "The notebook server will temporarily stop sending output\n",
      "to the client in order to avoid crashing it.\n",
      "To change this limit, set the config variable\n",
      "`--NotebookApp.iopub_msg_rate_limit`.\n",
      "\n",
      "Current values:\n",
      "NotebookApp.iopub_msg_rate_limit=1000.0 (msgs/sec)\n",
      "NotebookApp.rate_limit_window=3.0 (secs)\n",
      "\n"
     ]
    },
    {
     "name": "stdout",
     "output_type": "stream",
     "text": [
      "[==========================------------------------] 53.8% 894.4/1662.8MB downloaded"
     ]
    },
    {
     "name": "stderr",
     "output_type": "stream",
     "text": [
      "IOPub message rate exceeded.\n",
      "The notebook server will temporarily stop sending output\n",
      "to the client in order to avoid crashing it.\n",
      "To change this limit, set the config variable\n",
      "`--NotebookApp.iopub_msg_rate_limit`.\n",
      "\n",
      "Current values:\n",
      "NotebookApp.iopub_msg_rate_limit=1000.0 (msgs/sec)\n",
      "NotebookApp.rate_limit_window=3.0 (secs)\n",
      "\n"
     ]
    },
    {
     "name": "stdout",
     "output_type": "stream",
     "text": [
      "[============================----------------------] 56.3% 936.0/1662.8MB downloaded"
     ]
    },
    {
     "name": "stderr",
     "output_type": "stream",
     "text": [
      "IOPub message rate exceeded.\n",
      "The notebook server will temporarily stop sending output\n",
      "to the client in order to avoid crashing it.\n",
      "To change this limit, set the config variable\n",
      "`--NotebookApp.iopub_msg_rate_limit`.\n",
      "\n",
      "Current values:\n",
      "NotebookApp.iopub_msg_rate_limit=1000.0 (msgs/sec)\n",
      "NotebookApp.rate_limit_window=3.0 (secs)\n",
      "\n"
     ]
    },
    {
     "name": "stdout",
     "output_type": "stream",
     "text": [
      "[=============================---------------------] 59.3% 985.3/1662.8MB downloaded"
     ]
    },
    {
     "name": "stderr",
     "output_type": "stream",
     "text": [
      "IOPub message rate exceeded.\n",
      "The notebook server will temporarily stop sending output\n",
      "to the client in order to avoid crashing it.\n",
      "To change this limit, set the config variable\n",
      "`--NotebookApp.iopub_msg_rate_limit`.\n",
      "\n",
      "Current values:\n",
      "NotebookApp.iopub_msg_rate_limit=1000.0 (msgs/sec)\n",
      "NotebookApp.rate_limit_window=3.0 (secs)\n",
      "\n"
     ]
    },
    {
     "name": "stdout",
     "output_type": "stream",
     "text": [
      "[==============================--------------------] 61.2% 1017.7/1662.8MB downloaded"
     ]
    },
    {
     "name": "stderr",
     "output_type": "stream",
     "text": [
      "IOPub message rate exceeded.\n",
      "The notebook server will temporarily stop sending output\n",
      "to the client in order to avoid crashing it.\n",
      "To change this limit, set the config variable\n",
      "`--NotebookApp.iopub_msg_rate_limit`.\n",
      "\n",
      "Current values:\n",
      "NotebookApp.iopub_msg_rate_limit=1000.0 (msgs/sec)\n",
      "NotebookApp.rate_limit_window=3.0 (secs)\n",
      "\n"
     ]
    },
    {
     "name": "stdout",
     "output_type": "stream",
     "text": [
      "[===============================-------------------] 63.4% 1054.2/1662.8MB downloaded"
     ]
    },
    {
     "name": "stderr",
     "output_type": "stream",
     "text": [
      "IOPub message rate exceeded.\n",
      "The notebook server will temporarily stop sending output\n",
      "to the client in order to avoid crashing it.\n",
      "To change this limit, set the config variable\n",
      "`--NotebookApp.iopub_msg_rate_limit`.\n",
      "\n",
      "Current values:\n",
      "NotebookApp.iopub_msg_rate_limit=1000.0 (msgs/sec)\n",
      "NotebookApp.rate_limit_window=3.0 (secs)\n",
      "\n"
     ]
    },
    {
     "name": "stdout",
     "output_type": "stream",
     "text": [
      "[================================------------------] 65.6% 1091.4/1662.8MB downloaded"
     ]
    },
    {
     "name": "stderr",
     "output_type": "stream",
     "text": [
      "IOPub message rate exceeded.\n",
      "The notebook server will temporarily stop sending output\n",
      "to the client in order to avoid crashing it.\n",
      "To change this limit, set the config variable\n",
      "`--NotebookApp.iopub_msg_rate_limit`.\n",
      "\n",
      "Current values:\n",
      "NotebookApp.iopub_msg_rate_limit=1000.0 (msgs/sec)\n",
      "NotebookApp.rate_limit_window=3.0 (secs)\n",
      "\n"
     ]
    },
    {
     "name": "stdout",
     "output_type": "stream",
     "text": [
      "[==================================----------------] 68.9% 1145.6/1662.8MB downloaded"
     ]
    },
    {
     "name": "stderr",
     "output_type": "stream",
     "text": [
      "IOPub message rate exceeded.\n",
      "The notebook server will temporarily stop sending output\n",
      "to the client in order to avoid crashing it.\n",
      "To change this limit, set the config variable\n",
      "`--NotebookApp.iopub_msg_rate_limit`.\n",
      "\n",
      "Current values:\n",
      "NotebookApp.iopub_msg_rate_limit=1000.0 (msgs/sec)\n",
      "NotebookApp.rate_limit_window=3.0 (secs)\n",
      "\n"
     ]
    },
    {
     "name": "stdout",
     "output_type": "stream",
     "text": [
      "[===================================---------------] 71.9% 1195.1/1662.8MB downloaded"
     ]
    },
    {
     "name": "stderr",
     "output_type": "stream",
     "text": [
      "IOPub message rate exceeded.\n",
      "The notebook server will temporarily stop sending output\n",
      "to the client in order to avoid crashing it.\n",
      "To change this limit, set the config variable\n",
      "`--NotebookApp.iopub_msg_rate_limit`.\n",
      "\n",
      "Current values:\n",
      "NotebookApp.iopub_msg_rate_limit=1000.0 (msgs/sec)\n",
      "NotebookApp.rate_limit_window=3.0 (secs)\n",
      "\n"
     ]
    },
    {
     "name": "stdout",
     "output_type": "stream",
     "text": [
      "[====================================--------------] 73.9% 1228.9/1662.8MB downloaded"
     ]
    },
    {
     "name": "stderr",
     "output_type": "stream",
     "text": [
      "IOPub message rate exceeded.\n",
      "The notebook server will temporarily stop sending output\n",
      "to the client in order to avoid crashing it.\n",
      "To change this limit, set the config variable\n",
      "`--NotebookApp.iopub_msg_rate_limit`.\n",
      "\n",
      "Current values:\n",
      "NotebookApp.iopub_msg_rate_limit=1000.0 (msgs/sec)\n",
      "NotebookApp.rate_limit_window=3.0 (secs)\n",
      "\n"
     ]
    },
    {
     "name": "stdout",
     "output_type": "stream",
     "text": [
      "[======================================------------] 77.5% 1288.3/1662.8MB downloaded"
     ]
    },
    {
     "name": "stderr",
     "output_type": "stream",
     "text": [
      "IOPub message rate exceeded.\n",
      "The notebook server will temporarily stop sending output\n",
      "to the client in order to avoid crashing it.\n",
      "To change this limit, set the config variable\n",
      "`--NotebookApp.iopub_msg_rate_limit`.\n",
      "\n",
      "Current values:\n",
      "NotebookApp.iopub_msg_rate_limit=1000.0 (msgs/sec)\n",
      "NotebookApp.rate_limit_window=3.0 (secs)\n",
      "\n"
     ]
    },
    {
     "name": "stdout",
     "output_type": "stream",
     "text": [
      "[========================================----------] 80.4% 1336.1/1662.8MB downloaded"
     ]
    },
    {
     "name": "stderr",
     "output_type": "stream",
     "text": [
      "IOPub message rate exceeded.\n",
      "The notebook server will temporarily stop sending output\n",
      "to the client in order to avoid crashing it.\n",
      "To change this limit, set the config variable\n",
      "`--NotebookApp.iopub_msg_rate_limit`.\n",
      "\n",
      "Current values:\n",
      "NotebookApp.iopub_msg_rate_limit=1000.0 (msgs/sec)\n",
      "NotebookApp.rate_limit_window=3.0 (secs)\n",
      "\n"
     ]
    },
    {
     "name": "stdout",
     "output_type": "stream",
     "text": [
      "[=========================================---------] 82.6% 1373.2/1662.8MB downloaded"
     ]
    },
    {
     "name": "stderr",
     "output_type": "stream",
     "text": [
      "IOPub message rate exceeded.\n",
      "The notebook server will temporarily stop sending output\n",
      "to the client in order to avoid crashing it.\n",
      "To change this limit, set the config variable\n",
      "`--NotebookApp.iopub_msg_rate_limit`.\n",
      "\n",
      "Current values:\n",
      "NotebookApp.iopub_msg_rate_limit=1000.0 (msgs/sec)\n",
      "NotebookApp.rate_limit_window=3.0 (secs)\n",
      "\n"
     ]
    },
    {
     "name": "stdout",
     "output_type": "stream",
     "text": [
      "[==========================================--------] 85.6% 1423.8/1662.8MB downloaded"
     ]
    },
    {
     "name": "stderr",
     "output_type": "stream",
     "text": [
      "IOPub message rate exceeded.\n",
      "The notebook server will temporarily stop sending output\n",
      "to the client in order to avoid crashing it.\n",
      "To change this limit, set the config variable\n",
      "`--NotebookApp.iopub_msg_rate_limit`.\n",
      "\n",
      "Current values:\n",
      "NotebookApp.iopub_msg_rate_limit=1000.0 (msgs/sec)\n",
      "NotebookApp.rate_limit_window=3.0 (secs)\n",
      "\n"
     ]
    },
    {
     "name": "stdout",
     "output_type": "stream",
     "text": [
      "[===========================================-------] 87.9% 1462.1/1662.8MB downloaded"
     ]
    },
    {
     "name": "stderr",
     "output_type": "stream",
     "text": [
      "IOPub message rate exceeded.\n",
      "The notebook server will temporarily stop sending output\n",
      "to the client in order to avoid crashing it.\n",
      "To change this limit, set the config variable\n",
      "`--NotebookApp.iopub_msg_rate_limit`.\n",
      "\n",
      "Current values:\n",
      "NotebookApp.iopub_msg_rate_limit=1000.0 (msgs/sec)\n",
      "NotebookApp.rate_limit_window=3.0 (secs)\n",
      "\n"
     ]
    },
    {
     "name": "stdout",
     "output_type": "stream",
     "text": [
      "[============================================------] 89.9% 1494.8/1662.8MB downloaded"
     ]
    },
    {
     "name": "stderr",
     "output_type": "stream",
     "text": [
      "IOPub message rate exceeded.\n",
      "The notebook server will temporarily stop sending output\n",
      "to the client in order to avoid crashing it.\n",
      "To change this limit, set the config variable\n",
      "`--NotebookApp.iopub_msg_rate_limit`.\n",
      "\n",
      "Current values:\n",
      "NotebookApp.iopub_msg_rate_limit=1000.0 (msgs/sec)\n",
      "NotebookApp.rate_limit_window=3.0 (secs)\n",
      "\n"
     ]
    },
    {
     "name": "stdout",
     "output_type": "stream",
     "text": [
      "[===============================================---] 94.2% 1565.8/1662.8MB downloaded"
     ]
    },
    {
     "name": "stderr",
     "output_type": "stream",
     "text": [
      "IOPub message rate exceeded.\n",
      "The notebook server will temporarily stop sending output\n",
      "to the client in order to avoid crashing it.\n",
      "To change this limit, set the config variable\n",
      "`--NotebookApp.iopub_msg_rate_limit`.\n",
      "\n",
      "Current values:\n",
      "NotebookApp.iopub_msg_rate_limit=1000.0 (msgs/sec)\n",
      "NotebookApp.rate_limit_window=3.0 (secs)\n",
      "\n"
     ]
    },
    {
     "name": "stdout",
     "output_type": "stream",
     "text": [
      "[=================================================-] 98.1% 1631.3/1662.8MB downloaded"
     ]
    },
    {
     "name": "stderr",
     "output_type": "stream",
     "text": [
      "IOPub message rate exceeded.\n",
      "The notebook server will temporarily stop sending output\n",
      "to the client in order to avoid crashing it.\n",
      "To change this limit, set the config variable\n",
      "`--NotebookApp.iopub_msg_rate_limit`.\n",
      "\n",
      "Current values:\n",
      "NotebookApp.iopub_msg_rate_limit=1000.0 (msgs/sec)\n",
      "NotebookApp.rate_limit_window=3.0 (secs)\n",
      "\n"
     ]
    },
    {
     "name": "stdout",
     "output_type": "stream",
     "text": [
      "[==================================================] 100.0% 1662.8/1662.8MB downloaded\n"
     ]
    }
   ],
   "source": [
    "wv = api.load('word2vec-google-news-300')"
   ]
  },
  {
   "cell_type": "code",
   "execution_count": 99,
   "metadata": {},
   "outputs": [],
   "source": [
    "def get_avg(phrase, wv):\n",
    "    vec_result = []\n",
    "    tokens = phrase.split(' ')    \n",
    "    for t in tokens:\n",
    "        if t in wv:\n",
    "            vec_result.append(wv[t].tolist())\n",
    "        else:\n",
    "            #300 is the dimension of the Google wv model\n",
    "            vec_result.append([0.0]*300)    \n",
    "    return np.average(vec_result, axis=0)"
   ]
  },
  {
   "cell_type": "code",
   "execution_count": 101,
   "metadata": {},
   "outputs": [
    {
     "data": {
      "text/plain": [
       "array([ 3.22265625e-02, -2.88940430e-02, -2.28973389e-02,  1.06347656e-01,\n",
       "        2.54211426e-02,  1.26770020e-02,  5.33508301e-02, -1.26373291e-01,\n",
       "        3.60107422e-02,  5.10498047e-02, -1.04101562e-01, -7.87231445e-02,\n",
       "       -7.68432617e-03, -3.55468750e-02, -7.52166748e-02,  4.91821289e-02,\n",
       "       -1.13403320e-02,  3.73046875e-02, -5.38818359e-02, -6.73461914e-02,\n",
       "       -7.85644531e-02,  4.57031250e-02, -2.46337891e-02, -1.82739258e-02,\n",
       "       -3.96728516e-05,  1.18408203e-03, -3.35327148e-02,  6.91528320e-02,\n",
       "       -1.19720459e-02, -1.49804688e-01, -3.84521484e-02,  1.05810547e-01,\n",
       "       -8.76220703e-02,  9.65694427e-02, -1.43447876e-02, -9.17060852e-02,\n",
       "       -8.34960938e-03, -1.06506348e-02, -1.94580078e-02, -3.25420380e-02,\n",
       "        5.65124512e-02, -2.81982422e-03,  3.28979492e-02,  6.49616241e-02,\n",
       "        7.03369141e-02, -5.50811768e-02, -5.28320313e-02,  2.06298828e-03,\n",
       "        9.82727051e-02,  3.93310547e-02,  7.36083984e-02, -1.13281250e-02,\n",
       "       -3.97949219e-03, -7.29919434e-02,  1.04614258e-02,  5.34194946e-02,\n",
       "        4.24011230e-02, -1.44921875e-01,  3.01635742e-02, -4.24316406e-02,\n",
       "       -3.15887451e-02,  6.37023926e-02, -1.22259521e-01, -8.55895996e-02,\n",
       "       -3.42498779e-02, -1.06201172e-03, -7.51098633e-02,  6.95068359e-02,\n",
       "        3.83300781e-02,  1.12626648e-01,  1.02855301e-01, -4.01916504e-03,\n",
       "        7.94343948e-02,  2.43896484e-02, -2.59338379e-02,  3.89404297e-03,\n",
       "        1.19677734e-01,  9.20989990e-02,  3.14880371e-02,  3.24523926e-02,\n",
       "        3.97583008e-02, -1.99035645e-02,  4.03594971e-04, -1.27136230e-02,\n",
       "        8.30810547e-02, -3.44726562e-02, -1.75903320e-02,  1.69116211e-01,\n",
       "       -1.60949707e-02,  3.13949585e-03,  4.73632812e-03, -1.05541992e-01,\n",
       "       -7.12219238e-02,  2.88574219e-02,  5.18798828e-03,  8.69140625e-03,\n",
       "       -9.59472656e-02, -1.03549194e-01,  9.75585938e-02, -8.17871094e-04,\n",
       "       -8.59375000e-03, -8.39477539e-02, -4.51965332e-02, -3.46557617e-02,\n",
       "       -1.19531250e-01,  5.10803223e-02,  2.68798828e-02,  4.27246094e-02,\n",
       "       -2.01660156e-02, -1.20605469e-02, -9.99076843e-02, -2.17041016e-02,\n",
       "       -4.88525391e-02, -5.10498047e-02,  1.24804687e-01, -4.02954102e-02,\n",
       "       -6.12304688e-02, -5.59387207e-02,  1.17324829e-01,  7.05566406e-02,\n",
       "       -6.02783203e-02, -5.40222168e-02, -1.33056641e-02,  1.32324219e-02,\n",
       "        4.26391602e-02,  2.29125977e-02, -7.44628906e-02,  1.59786224e-02,\n",
       "        1.75048828e-02,  8.01803589e-02, -6.46903992e-02,  5.17578125e-03,\n",
       "       -1.40136719e-01,  1.32141113e-02,  1.74316406e-02,  4.32983398e-02,\n",
       "       -1.02416992e-02, -7.77587891e-03,  1.86706543e-02,  5.02197266e-02,\n",
       "        7.36450195e-02,  7.06329346e-03, -4.02084351e-02, -1.26831055e-02,\n",
       "       -4.77905273e-02,  5.02929688e-02, -8.42285156e-03,  4.60449219e-02,\n",
       "       -1.01013184e-01,  4.85717773e-02,  8.51440430e-03, -7.45117187e-02,\n",
       "        1.30752087e-02,  3.57223511e-02,  1.63448334e-02, -4.02832031e-02,\n",
       "       -3.61694336e-02,  2.36572266e-02, -5.82778931e-02,  3.56567383e-02,\n",
       "        2.11425781e-02,  2.09960938e-02,  7.86193848e-02,  8.17260742e-02,\n",
       "       -3.70605469e-02,  2.82440186e-02,  9.08889771e-02, -2.80761719e-04,\n",
       "       -9.07150269e-02, -1.70410156e-02, -6.64367676e-03, -2.05474854e-02,\n",
       "       -9.85778809e-02, -2.58789062e-02,  1.24267578e-02,  2.69226074e-02,\n",
       "        6.67480469e-02, -1.42272949e-01, -7.60986328e-02,  4.09179687e-02,\n",
       "       -1.01813698e-01, -6.43798828e-02, -8.38623047e-03, -2.10739136e-02,\n",
       "        1.93328857e-03, -3.76892090e-02,  1.57241821e-02, -1.98974609e-03,\n",
       "        2.02148437e-02, -5.53833008e-02,  2.18276978e-02, -3.71093750e-02,\n",
       "       -2.43682861e-02, -1.04270458e-01,  5.90515137e-02,  7.04345703e-02,\n",
       "        2.28759766e-02, -6.66748047e-02,  1.90948486e-02, -5.26367187e-02,\n",
       "       -1.62216187e-02,  1.36827850e-01, -1.43933105e-01,  3.25714111e-02,\n",
       "       -7.52563477e-03, -2.14294434e-02, -2.86867142e-02, -1.01330566e-01,\n",
       "       -2.47089386e-02, -3.33251953e-02, -9.05632019e-02,  1.39208984e-01,\n",
       "       -2.58728027e-02,  2.42568970e-02, -2.95471191e-02, -5.66650391e-02,\n",
       "        7.52853394e-02,  4.69848633e-02, -6.36535645e-02,  4.22729492e-02,\n",
       "       -7.57568359e-02,  4.09790039e-02, -7.73193359e-02,  9.17236328e-02,\n",
       "       -2.93121338e-03, -6.08947754e-02, -8.50830078e-03,  2.99880981e-02,\n",
       "        4.78515625e-02, -2.55249023e-02, -3.47900391e-03, -8.03222656e-02,\n",
       "        3.19793701e-02, -6.66259766e-02, -9.06158447e-02,  3.21105957e-02,\n",
       "       -1.04248047e-02,  3.40209961e-02,  1.05786133e-01, -3.77304077e-02,\n",
       "        5.45532227e-02, -8.35937500e-02, -1.35406494e-02, -9.96795654e-02,\n",
       "       -1.14257812e-02, -1.19323730e-03, -3.05969238e-02,  6.93893433e-02,\n",
       "       -1.17889404e-02, -5.43212891e-02,  6.30371094e-02,  6.20452881e-02,\n",
       "        5.83419800e-02, -1.95068359e-02,  2.27661133e-03, -3.61938477e-02,\n",
       "       -6.30981445e-02,  4.77905273e-02, -4.34082031e-02, -1.03347778e-02,\n",
       "        8.75244141e-02, -1.20239258e-02, -7.35107422e-02, -2.60421753e-02,\n",
       "        5.01342773e-02,  2.00244141e-01, -3.18176270e-02, -1.13635254e-01,\n",
       "       -1.05468750e-01,  9.65499878e-03,  5.60302734e-02,  1.14477539e-01,\n",
       "       -1.02691650e-02,  4.43542480e-02,  3.51379395e-02,  1.13071442e-02,\n",
       "       -1.29089355e-02, -7.32421875e-03, -5.27832031e-02,  7.62634277e-03,\n",
       "       -3.52416992e-02,  1.34704590e-01,  3.51135254e-02,  4.39819336e-02,\n",
       "        1.16601563e-01,  1.08947754e-02, -8.53027344e-02, -9.07836914e-02,\n",
       "        8.96240234e-02,  8.35205078e-02, -2.21923828e-01,  1.94793701e-02,\n",
       "       -7.23815918e-02,  4.27612305e-02,  3.24829102e-02, -3.26293945e-02,\n",
       "        4.03709412e-02, -6.95648193e-02,  1.68640137e-02, -7.39746094e-02])"
      ]
     },
     "execution_count": 101,
     "metadata": {},
     "output_type": "execute_result"
    }
   ],
   "source": [
    "get_avg('this 3d model sofa has a fully textured detailed design', wv)"
   ]
  },
  {
   "cell_type": "code",
   "execution_count": 85,
   "metadata": {},
   "outputs": [
    {
     "data": {
      "text/plain": [
       "array([4.750e+00, 6.000e+00, 8.000e+00, 1.000e+01, 1.448e+01, 1.899e+01,\n",
       "       2.414e+01, 3.900e+01, 8.900e+01, 1.000e+04])"
      ]
     },
     "execution_count": 85,
     "metadata": {},
     "output_type": "execute_result"
    }
   ],
   "source": [
    "np.quantile(df['price_usd'], [0.1, 0.2, 0.3, 0.4, 0.5, 0.6, 0.7, 0.8, 0.9, 1.0])"
   ]
  },
  {
   "cell_type": "code",
   "execution_count": null,
   "metadata": {},
   "outputs": [],
   "source": []
  },
  {
   "cell_type": "code",
   "execution_count": 86,
   "metadata": {},
   "outputs": [],
   "source": [
    "price_df = df[df['price_usd'] < 1000]"
   ]
  },
  {
   "cell_type": "code",
   "execution_count": 87,
   "metadata": {},
   "outputs": [],
   "source": [
    "X = np.array([get_avg(phrase, wv) for phrase in price_df['model_description']])\n",
    "y = np.array(price_df['price_usd'])"
   ]
  },
  {
   "cell_type": "code",
   "execution_count": 90,
   "metadata": {},
   "outputs": [],
   "source": [
    "from sklearn.ensemble import RandomForestRegressor\n",
    "\n",
    "# baseline including zero parameters\n",
    "reg = RandomForestRegressor(random_state=0, max_depth=5, n_jobs=8)\n"
   ]
  },
  {
   "cell_type": "code",
   "execution_count": null,
   "metadata": {},
   "outputs": [],
   "source": [
    "from gensim.test.utils import common_texts\n",
    "from gensim.models import Phrases\n",
    "\n"
   ]
  },
  {
   "cell_type": "code",
   "execution_count": 135,
   "metadata": {},
   "outputs": [
    {
     "name": "stdout",
     "output_type": "stream",
     "text": [
      "38.86260494044945\n",
      "38.898444160425754\n",
      "39.60405279471748\n",
      "34.40896510063067\n",
      "40.485906250669004\n",
      "37.770815038395725\n",
      "43.33310338213382\n",
      "43.088396238041575\n",
      "44.098067881202915\n",
      "40.2219829136661\n"
     ]
    }
   ],
   "source": [
    "from sklearn.model_selection import KFold\n",
    "from sklearn.metrics import mean_squared_error\n",
    "\n",
    "#10-fold cross validation\n",
    "kf = KFold(n_splits=10)\n",
    "for train_index, test_index in kf.split(X):\n",
    "    X_train, X_test = X[train_index], X[test_index]\n",
    "    y_train, y_test = y[train_index], y[test_index]    \n",
    "    reg.fit(X_train, y_train)\n",
    "    \n",
    "    print(mean_squared_error(y_test, reg.predict(X_test)) ** 0.5)"
   ]
  },
  {
   "cell_type": "code",
   "execution_count": 84,
   "metadata": {},
   "outputs": [
    {
     "data": {
      "text/plain": [
       "<bound method RegressorMixin.score of RandomForestRegressor(random_state=0)>"
      ]
     },
     "execution_count": 84,
     "metadata": {},
     "output_type": "execute_result"
    }
   ],
   "source": []
  },
  {
   "cell_type": "code",
   "execution_count": 3,
   "metadata": {},
   "outputs": [],
   "source": [
    "from textblob import TextBlob"
   ]
  },
  {
   "cell_type": "code",
   "execution_count": 4,
   "metadata": {},
   "outputs": [],
   "source": [
    "example_blob = TextBlob(list(df.model_description)[0])"
   ]
  },
  {
   "cell_type": "code",
   "execution_count": 5,
   "metadata": {},
   "outputs": [],
   "source": [
    "blobs = []\n",
    "\n",
    "for x in df.model_description:\n",
    "    blobs.append(TextBlob(x))"
   ]
  },
  {
   "cell_type": "code",
   "execution_count": 6,
   "metadata": {},
   "outputs": [],
   "source": [
    "polarities = []\n",
    "\n",
    "for blob in blobs:\n",
    "    polarities.append(blob.polarity)"
   ]
  },
  {
   "cell_type": "code",
   "execution_count": 10,
   "metadata": {},
   "outputs": [
    {
     "data": {
      "text/plain": [
       "(array([7.0000e+00, 0.0000e+00, 0.0000e+00, 2.0000e+00, 3.0000e+00,\n",
       "        5.1000e+01, 1.2000e+01, 2.4000e+01, 0.0000e+00, 1.2000e+01,\n",
       "        1.7000e+01, 2.0000e+00, 3.9000e+01, 1.4000e+01, 2.0000e+01,\n",
       "        3.2000e+02, 1.2100e+02, 1.1500e+02, 1.7900e+02, 3.2400e+02,\n",
       "        2.6000e+02, 6.1600e+02, 9.4900e+02, 1.0400e+03, 1.8280e+03,\n",
       "        1.5743e+04, 3.7590e+03, 5.4970e+03, 7.1120e+03, 6.8620e+03,\n",
       "        6.8310e+03, 4.1770e+03, 3.9630e+03, 2.0520e+03, 2.5200e+03,\n",
       "        1.0240e+03, 6.4400e+02, 6.4500e+02, 3.6000e+02, 1.8600e+02,\n",
       "        7.9000e+01, 6.6000e+01, 2.2500e+02, 4.2000e+01, 1.9000e+01,\n",
       "        4.6000e+01, 5.5000e+01, 2.8000e+01, 1.0000e+00, 1.4800e+02]),\n",
       " array([-1.  , -0.96, -0.92, -0.88, -0.84, -0.8 , -0.76, -0.72, -0.68,\n",
       "        -0.64, -0.6 , -0.56, -0.52, -0.48, -0.44, -0.4 , -0.36, -0.32,\n",
       "        -0.28, -0.24, -0.2 , -0.16, -0.12, -0.08, -0.04,  0.  ,  0.04,\n",
       "         0.08,  0.12,  0.16,  0.2 ,  0.24,  0.28,  0.32,  0.36,  0.4 ,\n",
       "         0.44,  0.48,  0.52,  0.56,  0.6 ,  0.64,  0.68,  0.72,  0.76,\n",
       "         0.8 ,  0.84,  0.88,  0.92,  0.96,  1.  ]),\n",
       " <a list of 50 Patch objects>)"
      ]
     },
     "execution_count": 10,
     "metadata": {},
     "output_type": "execute_result"
    },
    {
     "data": {
      "image/png": "[encoded data removed]",
      "text/plain": [
       "<Figure size 432x288 with 1 Axes>"
      ]
     },
     "metadata": {
      "needs_background": "light"
     },
     "output_type": "display_data"
    }
   ],
   "source": [
    "plt.hist(polarities, bins=50)"
   ]
  },
  {
   "cell_type": "code",
   "execution_count": 15,
   "metadata": {
    "collapsed": true,
    "jupyter": {
     "outputs_hidden": true
    }
   },
   "outputs": [
    {
     "data": {
      "text/plain": [
       "array([TextBlob(\"Restoration Hardware Dixon Upholstered Base Leather Armchair https://www.restorationhardware.com/catalog/product/product.jsp?productId=prod17510046&categoryId=search V-Ray render and materials All textures include in *.rar files Lighting setup is not included in the file \"),\n",
       "       TextBlob(\"2301CarpenterSofaC3seats_2280x974x1020 2638100F Fabric JY5680-3 2638800F Fabric ST9-4 230-1 Carpenter Sofa C 3-seats 2280x974x1020Polys: 59547 Verts: c \"),\n",
       "       TextBlob(\"Product: Tika lantern steel base Materials: HDPE wicker | powder coated aluminium frame | steel base Dimensions: 59 cm x 35 cm \"),\n",
       "       TextBlob(\"Please let me know before making bad comments for mistakes and problems so l can fix them. And please do not hesitate to ask questions.   In the format ztl (Zbrush)Separately hair,body,dress  \"),\n",
       "       TextBlob(\"army jeep 3d model with 2k and 4k pbr textures.made in 3d max 2014 and render in marmoset toolbag. model characteristics: .quad based topology .uv unwrapped (non overlaping) .(2048*2048)(4096*4096) textures (base color,normal,spacular,gloss,ao) .polygons 10643 .verts 10598 file formats:  (max,obj,fbx,stl) thankx for viewing like ,comment. \"),\n",
       "       TextBlob(\"This pack contains 11 heads, 6 man and 5 woman. Each head is in folder with its texture. (FBX and mb file) There is also a file with all the head in it (FBX, OBJ and mb) Polycount: Each Head Tris 14466   Texture: Metalness workflow for heads and Base color, Alpha, NormalMap, Specular for eyes *Texture resolution * 2048*2048 texture \"),\n",
       "       TextBlob(\"1470 polygons / 1665 vertices per base unit 2 premade structuresformats: .obj .fbxmodules: banner, flag-pole, walls, roof, support, window frame, window plane, window section, stairs, doors, door frame, chimney, vine, cratetexture: 2048x2048 .tga diffuse \"),\n",
       "       TextBlob(\"Ribbed Series RS-21: 21tall - 24 dia. - 11\" base (53cm - 61cm - 28cm) 145 lb. Manufacturer - Kornegay Design Country of Origin - Phoenix, Arizon (USA) Site - http://kornegaydesign.com \"),\n",
       "       TextBlob(\"simpl restaurant table mad of board and ss pipe for use at restaurnt inerior 3d seen \"),\n",
       "       TextBlob(\"3D low-poly model with base rig, materials and textures \"),\n",
       "       TextBlob(\"Photogrammetry model scanned with DLSRs. Guy standing pose with a casual look. Looking towards something. \"),\n",
       "       TextBlob(\"modeling in fusion 360 and moi3d and render in keyshot 6 unite used: mm file formated: (3dm-obj-fbx-step-iges-stl)and keyshot file \"),\n",
       "       TextBlob(\"Ribbed Series RS-27: 27tall - 33 dia. - 18\" base (69cm - 84cm - 46cm) 370 lb. Manufacturer - Kornegay Design Country of Origin - Phoenix, Arizon (USA) Site - http://kornegaydesign.com \"),\n",
       "       TextBlob(\"chair Beetles Chair metal dining casual sitting seat furniture; Max 2013, no materials, tree options \"),\n",
       "       TextBlob(\"Please let me know before making bad comments for mistakes and problems so l can fix them. And please do not hesitate to ask questions.   In the format ztl (Zbrush)Separately hair,body,dress  \"),\n",
       "       TextBlob(\"Photogrammetry model scanned with DLSRs. Guy standing pose with a casual look. Looking towards something. \"),\n",
       "       TextBlob(\"I present to your attention low-poly model of soviet telephone kd-6. Model contains PBR textures set for game engines: Unity and Unreal Engine 4. Textures resolution: 4096x4096px. One texture set. Format: tga and png (8 bit). I created two base materials with textures in Unity and Unreal Engine 4. NOT rigged or animated. If you need help or you habe any questions, please contact me. I hope you like it! \"),\n",
       "       TextBlob(\"Dune Series DS-16: 16tall - 24 dia. - 12base (41cm x 61cm x 30cm) 180 lb. DS-17.5: 17.5 tall - 44dia. - 20 base (44cm x 112cm x 51cm) 555 lb. DS-23: 23tall - 36 dia. - 16base (58cm x 91cm x 41cm) 515 lb. DS-29: 29 tall - 72dia. - 29.75 base (74cm x 183cm x 76cm) 2280 lb. DS-32: 32tall - 44 dia. - 20base (81cm x 112cm x 51cm) 1020 lb. DS-38: 38 tall - 38dia. - 23 base (97cm x 97cm x 58cm) 1400 lb. DS-40: 40tall - 60 dia. - 28\" base (102cm x 152cm x 71cm) 2280 lb. All weights are approximate Manufacturer - Kornegay Design Country of Origin - Phoenix, Arizon (USA) Site - http://kornegaydesign.com \"),\n",
       "       TextBlob(\"smallalleway lamp based on the resident evil survivor lamp \"),\n",
       "       TextBlob(\"This is a single pokeball sphere made with substance designer with different variation as it shown in the renders. With the purchase of this pokeball you will obtain the sbs and .sbsar file if you want to play with the design or even change it. Though, I also provide you the base of the pokeball and it's textures, in case you like the base and want to use it. I hope you like it! \"),\n",
       "       TextBlob(\"Units: mm Turbosmooth is on  JFK Desk - Living, Palisander by NORR11 DIMENSIONS: Width: 130 cm Depth: 65 cm Height: 76 cm Le Six Table Lamp, Brass by NORR11 DIMENSIONS: Width: 13 cm Depth: 41,5 cm Height: 42,5 Harbour Chair Swivel Base with Casters by MENU Dimensions: H: 82 cm  SH: 45 cm  D: 55,7 cm W: 58,5 cm Harbour Swivel Side Chair by MENU Dimensions: H: 81 cm SH: 45 cm D: 56 cm  W: 53 cm MANGO | Countertop mirror by 101 Copenhagen Dimensions : DIA 30xH50 cm \"),\n",
       "       TextBlob(\"base for walking robot, this base is like this video one https://www.youtube.com/watch?v=qC9eMtSK5LA this is for move the Kuka Robot over  base Krc2 \"),\n",
       "       TextBlob(\"CH24 CHAIR Dimensions: (WxHxD) 55 x 76 x 51 cm Dining table by wiener gtv design H740 L1000 W1800 \"),\n",
       "       TextBlob(\"The 3D model was created on Blender 2.8 Model is included in 3 file formats. .Blend .FBX .OBJ Texture include  Base Color Metallic Roughness  4096x4096 PNG texture 1242 poly    3726 vert Blender PBR shader using the Princlipled shader. Lighting and camera setup are included in the blender file. \"),\n",
       "       TextBlob(\"EQUIPE Chevron/Patchwork/Color/Blanco/Crema/Gris/Marron/Negro Manufacturer: Equipe Collection: Chevron Patchwork Color (52 textures) Category: Porcelain Tiles Size: 90x205 mm Manufacturer: Equipe Collection: Blanco matte (1 texture) Category: Porcelain Tiles Size: 90x205 mm Manufacturer: Equipe Collection: Crema matte (1 texture) Category: Porcelain Tiles Size: 90x205 mm Manufacturer: Equipe Collection: Gris matte (1 texture) Category: Porcelain Tiles Size: 90x205 mm Manufacturer: Equipe Collection: Marron matte (1 texture) Category: Porcelain Tiles Size: 90x205 mm Manufacturer: Equipe Collection: Negro matte (1 texture) Category: Porcelain Tiles Size: 90x205 mm The 3d file has 4 tile layouts For random texture use Seed                                          in MaterialByElement Texture size: 3017x1063 Px / 2608x1090 Px Using software: 3ds max 2010, 2013, 2016 Visualizer: Corona, Vray No plugins! Multi / Sub-Object Who has Vray below 3.4 version, change BRDF at your discretion! \"),\n",
       "       TextBlob(\"Wood Cutting Board \"),\n",
       "       TextBlob(\"archivo rar descomprimir y esta el STL  troncos, brazas, base  ,para chimeneas decoracion \"),\n",
       "       TextBlob(\"The 3D model was created base IronMan head with out body parts. No separated. Head models with materials.Model formats: -*blend (with subdiv or without subdiv) (Blender 2.76) -*3ds (multi format) -*obj (multi format) -*fbx (multi format) If you need any other formats I make them for you. Renders are made in Blender using Cycles render.Thank you for choosing to my 3D models and I hope will be useful.Sincerely Yours, David \"),\n",
       "       TextBlob(\"Photogrammetry model scanned with DLSRs. Guy standing pose with a casual look. Looking towards something. \"),\n",
       "       TextBlob(\"THIS IS A CONCEPT FOR MY COLLEGE PRESENTATION WHERE IT IS A GROUP OF FLYING DRONE ATTACKING PEOPLE AND IS CONTROLLED BY AI. IT WAS CREATED IN BLENDER AND IS TEXTURED IN SUBSTANCE PAINTER AND IS RENDERED IN BLENDER CYCLES AND IS SUPPORTABLE IN OBJ FORMAT. IT IS A ROOKIE MODEL SO PLEASE DONT GET ANGRY IF THE POLYGONS ARE UPTO THE EXPECTATIONS \"),\n",
       "       TextBlob(\"Carper grass tile File: Carpet.zip  Carpet.obj (File) Carpet_Edge_Fur.obj (File) Maya 2018 (File) Substance Painter 2018 (File) Base color (Png Texture, 4096x4096) Hight(displacement) (Png Texture, 4096x4096)  \"),\n",
       "       TextBlob(\"Please let me know before making bad comments for mistakes and problems so l can fix them. And please do not hesitate to ask questions.   In the format ztl (Zbrush)Separately hair,body,dress  \"),\n",
       "       TextBlob(\"Bremach t-rex motorhome base \"),\n",
       "       TextBlob(\"Optimized Mobile Foliage Pack  3D Models  :  The textures are included in the rar file and the size is 2048x2048 or 4096x4096. Alpha map is included in Base Color + Opacity Map if you need  - DirectX BaseColor,Normal,Roughness,Opacity Average Tris : 20  Rendered  Unreal Engine!   Formats:  FBX Textures/TGA/PNG  -  Grass -  Bushes -  Fern -  Flowers -  Plant -  Reed \"),\n",
       "       TextBlob(\"Water-Town 27420 polygons / 35066 verticesWater-Home 1275 polygons / 1538 vertices per base unitThe Merchant City of Gdina created with Water-Home base units.   Models are compatible with castle_101 plugin. https://youtu.be/qMVJWGAHIOo https://youtu.be/pFi14luGCQ8  The package contains both: a Water-Home base unit and an example seaport as seen on the preview images.textures: 2x 2048x2048 .tga diffuse \"),\n",
       "       TextBlob(\"frog crazy cartoon 3D modeling download \"),\n",
       "       TextBlob(\"CH24 CHAIR Dimensions: (WxHxD) 55 x 76 x 51 cm Dining table by wiener gtv design H740 L1000 W1800 \"),\n",
       "       TextBlob(\"I present to your attention low-poly model of soviet electric stove. Model contains PBR textures set for game engines: Unity and Unreal Engine 4. Textures resolution: 4096x4096px. One texture set. Format: tga and png (8 bit). I created two base materials with textures in Unity and Unreal Engine 4. NOT rigged or animated. If you need help or you habe any questions, please contact me. I hope you like it! \"),\n",
       "       TextBlob(\"Table lamps from the company Marioni, Notorious collection, models:Goldie A - 02822A Table lamp with column shape ceramic base and brass structure. WxHxD: 140x700x600  Goldie B - 02822B Table lamp with double cone shape ceramic base and brass structure WxHxD: 160x700x600  Goldie C - 02822C Table lamp with pyramid shape ceramic base and brass structure. WxHxD: 160x700x600  Malibu A - 02930A WxHxD: 160x840x360 Malibu B - 02930B WxHxD: 120x840x360  Malibu C - 02930C WxHxD: 120x820x360  \"),\n",
       "       TextBlob(\"Pipes cutting tool \"),\n",
       "       TextBlob(\"Photogrammetry model scanned with DLSRs. Guy standing pose with a casual look. Looking towards something. \"),\n",
       "       TextBlob(\"Cutting boards Collection.  The model includes: .MAX, .FBX, .MTL, .OBJ files. \"),\n",
       "       TextBlob(\"Smania Figi chair Figi - cod. PLFIGI01 Poltrona imbottita fissa rivestita in “EcoSun”, n. 1 cuscino poggiareni in tessuto per esterni, base in legno di teak, dettagli in acciaio lucido. V-Ray render and materials (1.50 SP4a) All textures include in *.rar files Lighting setup is not included in the file! \"),\n",
       "       TextBlob(\"Chia Chair Wood Base http://living.giuliomarelli.com/chairs/chia/ \"),\n",
       "       TextBlob(\"Please let me know before making bad comments for mistakes and problems so l can fix them. And please do not hesitate to ask questions.   In the format Separately hair,body,dress  \"),\n",
       "       TextBlob(\"Kitchen interior. The scene is made in 3ds max 2017 render Corona. Models in the scene - kitchen set, sink, oven, shelves, sofa, Ottoman, wardrobe, blinds, plates, chair, table, kitchen area, kettle, vase with flowers, basket wicker, cutting Board, rolling pin, towel, kitchen rag, hood, shelves, window, door, painting, carpet. There are formats - 3ds max 2017, 2016, 2014, obj, fbx.  In obj and fbx formats on some models you need to enable antialiasing in Editable Poly or throw the Turbosmooth modifier \"),\n",
       "       TextBlob(\"Material:  Gloss paint finish aluminum shade Chrome plated fittings Cast Iron base with steel cover aluminum arms  Dimensions:  Shade diameter: 14.5cm Shade height: 15cm Max reach: 60cm (from base to shade) Base size: 15 x 15cm Cable length: 200cm  \"),\n",
       "       TextBlob(\"Evil Joker \"),\n",
       "       TextBlob(\"AAAA - quality Created in Blender 2.83.13 and substance painter 2019.3.3 (steam edition). The archive includes all files (FBX, OBJ, BLEND, TXT) except one, it is a file of the substance painter (.spp) that takes up a lot of space and a link to it is in the archive “readme”. Textures are included in the archive for UNREAL ENGINE 4 and UNITY5 (metallic) and base textures. In the substance painter you can change the size to any. Tris: 38 591 / Verts: 20 060 Textures:  EOTECH553_GLASS: 2k EOTECH553_METAL: 4k EOTECH553_PLASTIC: 4k EOTECH553_RED_SIGHT: 1k MP9_DETAILS: 4k MP9_PLASTIC: 8k (1/2) MP9MAG: 4k MP9SUP: 4k WLIGHTX400V_BODY: 4k WLIGHTX400V_GLASS: 1k  \"),\n",
       "       TextBlob(\"City Block Base  City Block Base is model for placing buildings for mobile/console games for a city level.. Polys : - 4,864  Tris : - 11,364  Edges : - 14,124  Verts : - 9,264 \"),\n",
       "       TextBlob(\"Photogrammetry model scanned with DLSRs. Guy standing pose with a casual look. Looking towards something. \"),\n",
       "       TextBlob(\"Phoenix base model for Genesis 3 \"),\n",
       "       TextBlob(\"Description: Soda Model & Soda Cold, in archive .blend \"),\n",
       "       TextBlob(\"The Soviet secret police official in 1937. Because of his sadistic personality, he had a nickname The Bloody Dwarf. The model hasn't a mouth and a body under a cloth. \"),\n",
       "       TextBlob(\"BASE Bed size: 2315x2170x H990 mm Nightstand size: 500x525x505 mm Torchere size with cord: 1275x1380x2110 mm Chandelier size with cord: 110x110x1890 mm Wall  size: 11770x200x3100 mm Floor size: 8890x2700x10 mm DÉCOR Bowl size: 165x165x45 mm Saucer size: 115x115x80 mm Another décor size: 55x55x220 mm Modifier Turbosmooth applied in the mode render iters The model was created in 3ds max 2017 and converted in 3ds max 2014 The model uses Corona render materials The model includes files as: 3ds, obj, fbx   \"),\n",
       "       TextBlob(\"Drake base head \"),\n",
       "       TextBlob(\"Please let me know before making bad comments for mistakes and problems so l can fix them. And please do not hesitate to ask questions.   In the format ztl (Zbrush)Separately hair,body,dress \"),\n",
       "       TextBlob(\"Cartoon Food Pack 3d models in cartoon style.  Preview images are rendered in Vray.   This pack contains 15 foods.   Chicken Leg  [328 poly]  Popcorn  [8,901 poly]  Pizza  [693 poly]  Pancake  [1,649 poly]  Ham  [752 poly]  Hotdog  [1,312 poly]  Fried Egg  [608 poly]  Donut  [2,166 poly]  Cookie  [1,156 poly]  Chocolate  [1,707 poly]  Cake  [777 poly]  Burger  [3,890 poly]  Sandwich  [2,318 poly]  Taco  [14,116 poly]  Pie  [434 poly]   Formats  .max 2014   .FBX   .OBJ    2048x2048 JPG textures \"),\n",
       "       TextBlob(\"This 3 guns are usable for 3d visualization. They represent 3 base tips of guns. Contend :Polygonal modeled base meshes in 3d max 2013. (with modificators) Zbrush file detailed meshes and base meshes. OBJ files. \"),\n",
       "       TextBlob(\"Weird Head \"),\n",
       "       TextBlob(\"Photogrammetry model scanned with DLSRs. Guy standing pose with a casual look. Looking towards something. \"),\n",
       "       TextBlob(\"Pack with alphas/height maps (For substance painter, Zbrush, Blender or Quixel). 4096x4096 images, .jpg  and .png (achive for each).  90 ornamental images 32 heraldic  bonus (7 random images).  \"),\n",
       "       TextBlob(\"Casual man figurine. Made using a photogrammetry 3D scanning setup. 45.000 Poly OBJ file and 8192*8192px JPG texture Map Provided. \"),\n",
       "       TextBlob(\"A corinthian capital for use in arquitectural models,OBJ´s and ZTL from 30K polys to 1.900K polys,the base of the capital is the diameter of the column,unwraped and textured. \"),\n",
       "       TextBlob(\"Product: Tika lantern steel base Materials: HDPE wicker | powder coated aluminum frame | steel base Dimensions: 69 cm x 47 cm \"),\n",
       "       TextBlob(\"Polys: 900,561 Verts: 1,073,127 Units: Centimeter Dimension: (Lenght) 32cm x (Width) 200cm x (Height) 250cm Format: 3Ds Max 2013, OBJ Render: V-Ray All objects, textures are named and grouped in the scene. \"),\n",
       "       TextBlob(\"Please let me know before making bad comments for mistakes and problems so l can fix them. And please do not hesitate to ask questions.   In the format ztl (Zbrush)Separately hair,body,dress  \"),\n",
       "       TextBlob(\"There are 4 sets of files here (for each variant) and one with *max file that include all variants in accordance with the layers. Some parts of the model have TurboSmooth modifier in stack.  All objects are named and linked Rendered with V-Ray 3.20.03 File units: centimeters Contains materials and textures. Cameras, lights and HDRI are NOT included in files Saved as '3ds Max 2014' Skull Bomb (variant 1): Model size: 20.33cm x 22.12cm x 28.52cm Polygons: 31591 Skull Bomb (variant 2): Model size: 17.7cm x 18.4cm x 28.34cm Polygons: 45110 Skull Bomb (variant 3): Model size: 18.9cm x 19.66cm x 28.38cm Polygons: 54234 Skull Bomb (variant 4): Model size: 17.08cm x 18.7cm x 28.38cm Polygons: 27459 created by Alexander Nozdrenkov (aka Brutal) \"),\n",
       "       TextBlob(\"chair Eiffel Handle metal fame upholstered dining casual sitting seat furniture designer Max 2013, no materials \"),\n",
       "       TextBlob(\"Antique Cutting Boards Archive include: 2011 max, fbx, textures. \"),\n",
       "       TextBlob(\"This is a cyberpunk car, based on the MAD MAX movie. \"),\n",
       "       TextBlob(\"This is a sci fi sentry turret that mounts to walls and ceilings. It is designed to be an industrial grade auto sentry defense platform. It has the rate of fire and the large caliber to turn any wannabe intruder into a pin cushion within a matter of seconds. length: 9.3m Height: 4.2m Width: 6.5m Base Diameter: 6.5m / 3.25r It comes with   Obj, FBX file  2k texture map sizes  2x Texture Sets, each with  Base Colour  Emissive Metallic  Normals  Roughness AO  \"),\n",
       "       TextBlob(\"Please let me know before making bad comments for mistakes and problems so l can fix them. And please do not hesitate to ask questions.   In the format ztl (Zbrush)Separately hair,body,dress  \"),\n",
       "       TextBlob(\"Dimensions:  (chair): length: 480mm width: 530mm height: 800mm (table): length: 1920mm width: 790mm height: 750mm Unwrap UVW. Vray and Corona versions included. No unhide objects. Preview rendered in v-Ray. Opensubdiv recommended. \"),\n",
       "       TextBlob(\"The 3D model was created on Blender 2.8 Model is included in 3 file formats. .Blend .FBX .OBJ Texture include  Base Color Metallic Roughness Normal(directX,openGL)  4096x4096 PNG texture 24832 poly 17363 vert Blender PBR shader using the Princlipled shader. Lighting and camera setup are included in the blender file. \"),\n",
       "       TextBlob(\"Photogrammetry model scanned with DLSRs. Guy standing pose with a casual look. Looking towards something. \"),\n",
       "       TextBlob(\"Some parts of the model have TurboSmooth modifier in stack.  All objects are named and linked Rendered with V-Ray 3.20.03 File units: centimeters Model size: 17.7cm x 18.4cm x 28.34cm Contains materials and textures. Cameras, lights and HDRI are NOT included in files Saved as '3ds Max 2014' created by Alexander Nozdrenkov (aka Brutal) \"),\n",
       "       TextBlob(\"aereomobile a gonfdole rotanti   adecollo verticale  inpiego multi ruolo  realizzato in lightwave dalla mia fantasia  modello base    possibilita di portellone pèosteriore per trasportio merci e truppe  esportato in bryce eli renderizato marco lovi italia \"),\n",
       "       TextBlob(\"caccia creato da me dalla mia fantasia  in ligtwave  nevtek                                                 adecolloverticale  per trasporto truppe e merce portello posteriore apribile gondole orientabili  inpiego  militare che civile  con possente armamento   etipo il facocero degli stati uniti un caccia carrarmati abassa quota  era questo il mio intento forme rozze   munito grosssi cannoncini davanti edietro provisti di camera einfrarossi  con mitragliatrici acanna rotante   questa euna versione base  marco lovi italia \"),\n",
       "       TextBlob(\"Low polygonal textured model of Mad Hatter from Alice in Wonderland. Textures: 4096*4096 Diffuse, Glossy, Roughness, Normal.In blender file objects have subdivision surface-modifier. ! Model have Ngons ! \"),\n",
       "       TextBlob(\"Photogrammetry model scanned with DLSRs. Guy standing pose with a casual look. Looking towards something. \"),\n",
       "       TextBlob(\"COLUMBUS TALL Columbus Tall Lamp Lamp Base LUI/COLUMBUS TAL Lamp Shade Turquoise 41cm \"),\n",
       "       TextBlob(\"Estudio Frame15 Decor/Arrow/Gloucester/Kali/Newport/Providence/Clover/Origami/Star/Stripes/Tie Manufacturer: Estudio Frame15 Collection: Decor Arrow Chiс Category: Porcelain Tiles Size: 150x150 mm Country: Spain Surface Type: Matte Manufacturer: Estudio Frame15 Collection: Decor Gloucester Chic Category: Porcelain Tiles Size: 150x150 mm Country: Spain Surface Type: Matte Manufacturer: Estudio Frame15 Collection: Decor Kali Chic Category: Porcelain Tiles Size: 150x150 mm Country: Spain Surface Type: Matte Manufacturer: Estudio Frame15 Collection: Decor Newport Chic Category: Porcelain Tiles Size: 150x150 mm Country: Spain Surface Type: Matte Manufacturer: Estudio Frame15 Collection: Decor Providence Chic Category: Porcelain Tiles Size: 150x150 mm Country: Spain Surface Type: Matte Manufacturer: Estudio Frame15 Collection: Decor Clover B&W Category: Porcelain Tiles Size: 150x150 mm Country: Spain Surface Type: Matte Manufacturer: Estudio Frame15 Collection: Decor Origami B&W Category: Porcelain Tiles Size: 150x150 mm Country: Spain Surface Type: Matte Manufacturer: Estudio Frame15 Collection: Decor Star B&W Category: Porcelain Tiles Size: 150x150 mm Country: Spain Surface Type: Matte Manufacturer: Estudio Frame15 Collection: Decor Stripes B&W Category: Porcelain Tiles Size: 150x150 mm Country: Spain Surface Type: Matte Manufacturer: Estudio Frame15 Collection: Decor Tie B&W Category: Porcelain Tiles Size: 150x150 mm Country: Spain Surface Type: Matte For random texture use Seed                                        in MaterialByElement Tile in 2 variations of the layout. Texture size: 1600x1600 Px Using software: 3ds max 2010, 2013, 2016 Visualizer: Corona, Vray No plugins! Multi / Sub-Object Who has Vray below 3.4 version, change BRDF at your discretion! \"),\n",
       "       TextBlob(\"Textures size:  carLift (diffuse, specular, ao + additional dirty version) 2048x2048  \"),\n",
       "       TextBlob(\"Vives/Rift Hexagono/Bushmills/Fingal/Igneus Cemento/Kunashir/Yereban Manufacturer: Vives Collection: Rift Hexagono (8 textures / 4 colors) Category: Porcelain Tiles Size: 230x266 mm Country: Spain Surface Type: Matte Manufacturer: Vives Collection: Rift Hexagono Bushmills Multicolor (7 textures) Category: Porcelain Tiles Size: 230x266 mm Country: Spain Surface Type: Matte Manufacturer: Vives Collection: Rift Hexagono Fingal (6 textures) Category: Porcelain Tiles Size: 230x266 mm Country: Spain Surface Type: Matte Manufacturer: Vives Collection: Rift Hexagono Igneus Cemento (5 textures) Category: Porcelain Tiles Size: 230x266 mm Country: Spain Surface Type: Matte Manufacturer: Vives Collection: Rift Hexagono Kunashir (5 textures) Category: Porcelain Tiles Size: 230x266 mm Country: Spain Surface Type: Matte Manufacturer: Vives Collection: Rift Hexagono Yereban (5 textures) Category: Porcelain Tiles Size: 230x266 mm Country: Spain Surface Type: Matte For random texture use Seed                                        in MaterialByElement Tile in 4 layout variations Texture size: 2265x1965 Px / 815x707 Px Using software: 3ds max 2010, 2013, 2016 Visualizer: Corona, Vray Additional format: FBX / OBJ / MTL No plugins! Multi / Sub-Object In the BRDF section is Microfaset GTR (GGX), if the version of Vray is lower than 3.1, then change it as you wish. I put Blinn. Corona is also tuned for PBR. If the version is lower than 1.5, then there will be a change to Legacy Mode. \"),\n",
       "       TextBlob(\"Kitchen Cutting Board Butcher Block for Game or arch viz  \"),\n",
       "       TextBlob(\"Ribbed Series RS-12: 12tall - 28 dia. - 20.5\" base (31cm - 71cm - 52cm) 155 lb. Manufacturer - Kornegay Design Country of Origin - Phoenix, Arizon (USA) Site - http://kornegaydesign.com \"),\n",
       "       TextBlob(\"3D Scan Model of Onion. (scan+low) File was created in blender 2.79 (cycles). Asset includes Scan 3D (403k tris) and lowpoly model (3k tris) with textures 4k (Base color, normalmap). formats: blend obj fbx \"),\n",
       "       TextBlob(\"Model of LED lamp with e27 base is created in the program 3 ds max, the render is made in the programs 3ds max, Blender and KeShot. Other formats: .fbx, .obj, .blend Model of an LED lamp with a cartridge e 27. \"),\n",
       "       TextBlob(\"Who is this creature? Will he help your adventurer or will he be an evil villain? Add this brutal to your game and you decide!polys: 13612 animation: WALK ATTACK-3This product includes a .unitypackage file and requires Unity 4.5.4 or higher.This product is licensed for use in games and apps.Original model made by Moscowich80; uploaded and sold here with permission. \"),\n",
       "       TextBlob(\"Suspended ceiling lamp on a metal frame with decor in polished nickel finish and bronzed copper. Designed for one 50-watt bulb with base GU10. Dimensions H * D, cm: 10x12 (diameter). \"),\n",
       "       TextBlob(\"Casual man figurine. Made using a photogrammetry 3D scanning setup. 45.000 Poly OBJ file and 8192*8192px JPG texture Map Provided. \"),\n",
       "       TextBlob(\"casual sports high-heeled sandal # 36 \"),\n",
       "       TextBlob(\"cartoon girl base. obj and fbx files included. \"),\n",
       "       TextBlob(\"Sword for your game. On render texture with a resolution of 2048. But in the archive I put textures with a resolution of 4096 in PNG format (NormalOpenGL, Roughness, Metallic, AO, Base color) Polycount - 7404 tris. Archived Files: obj, fbx, 3dsmax (2016, 2017,2018,2019) Model created in 3ds max. \"),\n",
       "       TextBlob(\"Polys: 916,900 Verts: 1,088,749 Units: Centimeter Dimension: (Lenght) 320mm x (Width) 3000mm x (Height) 2500mm Format: 3Ds Max 2013, OBJ Render: V-Ray All objects are named and grouped in the scene. \"),\n",
       "       TextBlob(\"Photogrammetry model scanned with DSLRs. The guy has a casual look and he stares forward. \"),\n",
       "       TextBlob(\"Base Woman 2 for game \"),\n",
       "       TextBlob(\"grim modelled on 3dsmax with uvs and materials \"),\n",
       "       TextBlob(\"casual restaurant \"),\n",
       "       TextBlob(\"Low-poly 3d model of Diablo Barbarian. All textures are included. \"),\n",
       "       TextBlob(\"The 3D model was created AmericanMan helmet design with out body parts. No separated. Helmet models with texutres 2k and 4k file. (base color,roughness,metallic,normal,emissive(only 2k)). Base texture made in Substance Painter and finish material made in Substance Designer.Model formats: -*blend (with subdiv or without subdiv) (Blender 2.76) -*3ds (multi format) -*obj (multi format) -*fbx (multi format) If you need any other formats I make them for you. Renders are made in Substance Designer and Blender.Thank you for choosing to my 3D models and I hope will be useful.Sincerely Yours, David \"),\n",
       "       TextBlob(\"A pack with a piece of meat, a cutting board and some chopped onions. \"),\n",
       "       TextBlob(\"Model Blanca Capiz-Painted Buffet Bernhardt collection Horchow Dimensions: 66.625'W x 22.5'D x 36'T Handcrafted of maple with alabaster finish Metal base with decorative X-shaped stretchers Three doors with inset antiqued silver-leaf carved panels The archive contains file max2012 + FBX + library of the materials \"),\n",
       "       TextBlob(\"Photogrammetry model scanned with DLSRs. Guy standing pose with a casual look. Looking towards something. \"),\n",
       "       TextBlob(\"Please let me know before making bad comments for mistakes and problems so l can fix them. And please do not hesitate to ask questions.   In the format ztl (Zbrush)Separately hair,body,dress  \"),\n",
       "       TextBlob(\"Photogrammetry model scanned with DLSRs. Guy standing pose with a casual look. Looking towards something. \"),\n",
       "       TextBlob(\"Grim Reaper  Rigged with Scythe This is a model with body skin and CATrig.  Robe - 2125 poly Scythe - 8409 poly Skeleton - have 2 variant - 24176 polys and 61297 poly TEXTURES It has three texture sets, one for the Skeleton, one for the robe and one for scythe ..etc. All texture sets are 4096x4096 and they are include BaseColor,Haight,Normal,Roughness, AO All the textures are in PNG format. \"),\n",
       "       TextBlob(\"Dimensions:  (chair): length: 480mm width: 530mm height: 800mm (table): length: 1920mm width: 790mm height: 750mm Unwrap UVW. Vray and Corona versions included. No unhide objects. Preview rendered in v-Ray. Opensubdiv recommended. \"),\n",
       "       TextBlob(\"Dimensions:  (chair): length: 480mm width: 530mm height: 800mm Unwrap UVW. Vray and Corona versions included. No unhide objects. Preview rendered in v-Ray. Opensubdiv recommended. \"),\n",
       "       TextBlob(\"Inspired by late 60's/early70's sports touring cars from europe.  Model consists of :  Car  model without wheels: (34786 poly, 36347 verts) 32 objects and 12 predescribed materials. Car model objects names starts with PSB and materials naming as well. Car model origins are set to surface Wheel: (11609poly, 11976 verts) 2 objects and 4 predescribed materials. Wheel origins are set to volume  Car model with wheels: (81218 poly, 84251 verts): model does not include surrounding scene. **predescribed materials. **model is a shell with a dummy interior. \"),\n",
       "       TextBlob(\"Generic Base Mesh ! \"),\n",
       "       TextBlob(\"Please let me know before making bad comments for mistakes and problems so l can fix them. And please do not hesitate to ask questions.   In the format ztl (Zbrush)Separately hair,body,dress  \"),\n",
       "       TextBlob(\"Please let me know before making bad comments for mistakes and problems so l can fix them. And please do not hesitate to ask questions.   In the format ztl (Zbrush)Separately hair,body,dress  \"),\n",
       "       TextBlob(\"This high-quality model of Tunnel Boring Machine TBM was created in 3DS MAX 2013. Please note that textures included in the 3ds Max zip file, and there are no errors. The preview is presented in vray. I wish you like it. \"),\n",
       "       TextBlob(\"Lowpoly Soviet Oldschool Teeter :  Base Color,Normal,Roughness,Height,Metallic   The textures are included in the rar file and the size is 2048x2048.  Formats:  FBX Textures/TGA  \"),\n",
       "       TextBlob(\"Poliform Mad Joker https://www.poliform.it/en-us/products/armchairs/mad-joker V-Ray render and materials All textures include in *.rar files Lighting setup is not included in the file \"),\n",
       "       TextBlob(\"Crazy Duck Monster \"),\n",
       "       TextBlob(\"Photogrammetry model scanned with DLSRs. Guy standing pose with a casual look. Looking towards something. \"),\n",
       "       TextBlob(\" Product Dimensions Height: 205.2cm Width: 64 cm Height: 45 cm Polys: 128,659 Verts: 129,000 Formats: 3Ds Max 2013 (Vray 3.4 + Corona 1.6), OBJ, MTL , Fbx, DWG, File Textures.zip For small file size (TurboSmooth is turned off) → turn it on when rendering I hope you like this! Thank you!!!  \"),\n",
       "       TextBlob(\"submarine 3d model with 1k,2k,4k pbr textures.made in 3d max 2014 and render in marmoset toolbag. model characteristics: .quad based topology .uv unwrapped (non overlaping) .(1024*1024),(2048* 2048),(4096*4096) textures (base color,normal,metalness,roughness,ao) .polygons 1284 .verts 1393 file formats:  (max,obj,fbx) thankx for viewing like ,comment. \"),\n",
       "       TextBlob(\"Please let me know before making bad comments for mistakes and problems so l can fix them. And please do not hesitate to ask questions.   In the format ztl (Zbrush)Separately hair,body,dress  \"),\n",
       "       TextBlob(\"Vases Vol 01 - PBR 5 x Vases  Objects in obj and fbx format PBR texture maps 2048 x 2048 png format Base color map Metalic map Roughness map Height map Ambient Occlusion map Verticess = 5299 Pollygons = 5240 \"),\n",
       "       TextBlob(\"3D model of a Wood Cutting Board \"),\n",
       "       TextBlob(\"Please let me know before making bad comments for mistakes and problems so l can fix them. And please do not hesitate to ask questions.   In the format ztl (Zbrush)Separately hair,body,dress  \"),\n",
       "       TextBlob(\"Decorative Eucalyptus in a vase for decor and interior design. Eucalyptus ashen - Eucalyptus cinerea Argyle Apple \"),\n",
       "       TextBlob(\"Photogrammetry model scanned with DLSRs. Guy standing pose with a casual look. Looking towards something. \"),\n",
       "       TextBlob(\"Geometry base of stylized male face Includes files (ztl fbx obj) tool with subdivision 1-3, base model of the face to learn its base forms. Intuitive learning for beginner and experts. \"),\n",
       "       TextBlob(\"Photogrammetry model scanned with DLSRs. Guy standing pose with a casual look. Looking towards something. \"),\n",
       "       TextBlob(\"For cutting , you may need it.... \"),\n",
       "       TextBlob(\"Copper Base Wall Lamp \"),\n",
       "       TextBlob(\"This pack contains 5 tools (hammer, saw, nippers, spanner, screwer) and a tool box (2 colors). Each model has 2 LODs and comes with PBR 2048*2048 textures (Albedo, Base color, Metalic/Roughness, OcclusionRoughnessMetallic, AO, Normal).-tool box LOD0 = 392 tri. -saw LOD0 = 160 tri. -hammer LOD0 = 150 tri. -spanner LOD0 = 300 tri. -screwer LOD = 192 tri. -nippers LOD0 = 248 tri.The pack contains 2 levels of details for each model.*Images rendered in Unity 5* \"),\n",
       "       TextBlob(\"This high-quality model of Tunnel Boring Machine Scence was created in 3DS MAX 2013. Please note that textures included in the 3ds Max zip file, and there are no errors. The preview is presented in vray. I wish you like it. \"),\n",
       "       TextBlob(\"Kitchen items to enhance your architectural or decorating project. Contains as native file 3D Studio Max 2017, also including file in FBX and OBJ.  The kit contains:  01 coffee pot  01 sugar pot  01 oil jar  01 pepper jar  01 cutting board   01 bowl stack.  \"),\n",
       "       TextBlob(\"Photogrammetry model scanned with DLSRs. Guy standing pose with a casual look. Looking towards something. \"),\n",
       "       TextBlob(\"The table lamp by Eichholtz have textile lampshade and metallic base. The model have disconnectable editor TurboSmooth (4575 polys, 4686 verts).  http://www.eichholtz.com/lamp-table-la-mode-nickel-0085002626114.aspx \"),\n",
       "       TextBlob(\"Scandinavian pendant lamp with glass shades Reference: HAGGE01 Material Metal, Glass Frame Color Gold Shade Color Smoky Gray, Transparent Dimensions 4 shades (vertical) 40 x H 135 cm 6 shades (horizontal) 135 x 40cm Cover D 15 cm Wire length 100 cm Type of lamp base E27 https://www.lampatron.ru/cat/item/design-lamps-hagge/   The stack is not collapsed, you can adjust the iterations of TurboSmooth, OBJ saved with TurboSmooth - 1. ** For users of V-ray below 3.1, switch in the materials in the BRDF scroll to Blinn, Phong or Ward.  MAX 2015, 2012 (Vray 4, Corona 4), OBJ, FBX \"),\n",
       "       TextBlob(\"Please let me know before making bad comments for mistakes and problems so l can fix them. And please do not hesitate to ask questions.   In the format ztl (Zbrush)Separately hair,body,dress  \"),\n",
       "       TextBlob(\"Casual man figurine. Made using a photogrammetry 3D scanning setup. 45.000 Poly OBJ file and 8192*8192px JPG texture Map Provided. \"),\n",
       "       TextBlob(\"Floor tiles CERAMICA RIBESALBES ANTIGUA Base blanco The size 20x20 cm vendor code PT01949 Floor tiles CERAMICA RIBESALBES ANTIGUA Base beige The size 20x20 cm vendor code PT02103 Floor tiles CERAMICA RIBESALBES ANTIGUA Base gris The size 20x20 cm vendor code PT02104 Floor tiles CERAMICA RIBESALBES ANTIGUA Base azul The size 20x20 cm vendor code PT02102 Decorative elements for the floor CERAMICA RIBESALBES ANTIGUA Beige 001 The size 20x20 cm vendor code PT02109 Decorative elements for the floor CERAMICA RIBESALBES ANTIGUA Beige 002 The size 20x20 cm vendor code PT02110 Decorative elements for the floor CERAMICA RIBESALBES ANTIGUA Beige 004 The size 20x20 cm vendor code PT02112 Decorative elements for the floor CERAMICA RIBESALBES ANTIGUA Beige 003 The size 20x20 cm Decorative elements for the floor CERAMICA RIBESALBES ANTIGUA Gris 001 The size 20x20 cm vendor code PT02113 Decorative elements for the floor CERAMICA RIBESALBES ANTIGUA Gris 002 The size 20x20 cm vendor code PT02114 Decorative elements for the floor CERAMICA RIBESALBES ANTIGUA Gris 004 The size 20x20 cm vendor code PT02116 Decorative elements for the floor CERAMICA RIBESALBES ANTIGUA Gris 003 The size 20x20 cm Decorative elements for the floor CERAMICA RIBESALBES ANTIGUA Azul 001 The size 20x20 cm vendor code PT02105 Decorative elements for the floor CERAMICA RIBESALBES ANTIGUA Azul 002 The size 20x20 cm vendor code PT02106 Decorative elements for the floor CERAMICA RIBESALBES ANTIGUA Azul 004 The size 20x20 cm vendor code PT02108 Decorative elements for the floor CERAMICA RIBESALBES ANTIGUA Azul 003 The size 20x20 cm Decorative elements for the floor CERAMICA RIBESALBES ANTIGUA Decor Beige (16 kinds of pattern) The size 20x20 cm Decorative elements for the floor CERAMICA RIBESALBES ANTIGUA Decor Gris (16 kinds of pattern) The size 20x20 cm vendor code PT01951 Decorative elements for the floor CERAMICA RIBESALBES ANTIGUA Decor Azul (16 kinds of pattern) The size 20x20 cm vendor code PT01950 \"),\n",
       "       TextBlob(\"Material (s)  Fabric + Pu leather & Steel base  Measurement (s)  W750 x D760 x H815 \"),\n",
       "       TextBlob(\"Buttoned Swivel Chair by Dolfi Italy BUTTONED SWIVEL CHAIR WITH STEEL BASE, GOLD FINISH Ø 63 X 73 CM \"),\n",
       "       TextBlob(\"This is a model of Willem Dafoe in Beyond Two Souls as Natham Dawkins. Model extracted from the game, rigged from myself and textures included (already assigned) This is just an sample model to show you my rigging services that I am offering.  •Rig game-ready! •Full biped rig (including finger & toes when applied) •Facial rig Additional description of my services: See in my profile No IK/FK support at moment You can load this model in XNAlara pose program Program source: http://webcache.googleusercontent.com/search?q=cache:http://www.core-design.com/community_xps.html&gws_rd=cr&dcr=0&ei=tshwWo36GsiIwgTWuZOIAQ \"),\n",
       "       TextBlob(\"Sorry it's don't have UV texture \"),\n",
       "       TextBlob(\"Photogrammetry model scanned with DLSRs. Guy standing pose with a casual look. Looking towards something. \"),\n",
       "       TextBlob(\"Base: 9½W x 4¾D x 30½H Cord: 9L Weight: 18 lbs. https://www.restorationhardware.com/catalog/product/product.jsp?productId=prod8900755 I hope you like it.  \"),\n",
       "       TextBlob(\"Poltrona com assento estofado e base em metal folheado. (L) X (P) X (H) cm 70 x 67 x 77 \"),\n",
       "       TextBlob(\"Please let me know before making bad comments for mistakes and problems so l can fix them. And please do not hesitate to ask questions.   In the format ztl (Zbrush)Separately hair,body,dress \"),\n",
       "       TextBlob(\"Software: 3dmax2014 rendering: V-Ray adv 2.40.03 Plug in: no Animation: (refer to the preview GIF animation) 1. The snake crawls forward and opens its mouth  Rabbit eats radish  ===================================================== Scene:  Map: TGA PNG JPG format Number of faces: 24759314 points: 20532344  ===================================================== \"),\n",
       "       TextBlob(\"Dimensions: d. 4800 w. 440 h. 1840 mm. Factory Alf Dafre (Italy) produces this model according to the size of the customer, equipment according to the customer.In this case, the base model is presented according to the manufacturer's catalog. \"),\n",
       "       TextBlob(\"Model created in Blender 2.79 Product specs: 15 Mb - blend size (with packed textures) 200400 vertices 189400 polygons 512x512px PBR textures (5 Mb in zip-archive), brick wall textures are handmade, other textures are CC0 licensed. Product is designed for medium and long-range architectural visualization in Cycles and Eevee render engines. Mesh is grouped by material. If you remove the drainpipes and curtains, you get a low-poly model. If you have problems with the scale, you can check the dimensions of the base. Width / Depth / Height of base in file - 25,96x25,96x3,20 units \"),\n",
       "       TextBlob(\"Fantasy Building (Chicken Farm) \"),\n",
       "       TextBlob(\"Soldiers:  Roman, barbarian, knight. Include max, fbx, obj files. \"),\n",
       "       TextBlob(\"DEWALT Random Orbital Sander DWE6423K Autodesk Maya Version 2018                                                                                                                                                                                                                                                                                                                                                                                          3D model, Texctuer and Render with Autodesk Maya V-Ray Version 3.6 2018                                                                                                                                                                                                                                                                                                                                                                                                                                                                                                                                                                        low-poly mesh  polygon count - 796 vertices count - 832 \"),\n",
       "       TextBlob(\"Table  : TRIBECA / MAD COFFEE TABLE Sofa   : Soho sofa \"),\n",
       "       TextBlob(\"A set of sockets in the set of 2 patterned socket set will gradually be replenished, can apply their materials, the models made in Blender into 3ds bad mesh in obj and fbx all is wel \"),\n",
       "       TextBlob(\"Please let me know before making bad comments for mistakes and problems so l can fix them. And please do not hesitate to ask questions.  \"),\n",
       "       TextBlob(\"• Native application: Blender v2.80.45 • Formats: blend, fbx, obj, max 2018 • Maps: Base Color, Normal_GL, AO, Roughness • Verts: 10.127 Faces: 10.125 Tris: 20.250 Objects: 1/1 \"),\n",
       "       TextBlob(\"Please let me know before making bad comments for mistakes and problems so l can fix them. And please do not hesitate to ask questions.   In the format ztl (Zbrush)Separately hair,body,dress  \"),\n",
       "       TextBlob(\"The defensive tower was made for the game, but did not enter it. The model consists of two parts: base and separate rocket. The rocket has 3 different paint sets.Textures of the base 2048x2048 Polygons of the base 1807 . Textures of the rocket 1024x1024 Polygons of the rocket 341. include textures:  Textures, Textures Corona  Textures PBR MetalRough  Textures Unity 4  Textures Unreal Engine 4 \"),\n",
       "       TextBlob(\"WW2 Weapons Pack Textures: Base Color/Metallic/Roughness/ AO Map Texture Textures: 2048x2048.png   M1919 Browning Machine Gun: (Rig&Animation) MP40 Machine Gun: 3484 Verts: 3244 (Rig) Knife:  411 Verts: 415 Knife2: 261 Verts: 257  Luger P08 Pistol: 1658 Verts: 1464 (Rig) Colt Pistol:  545 Verts: 628 (Rig) ThompsonM1919: 2076 Verts: 2166 (Rig) Kar98: 1113 Verts: 1186 (Rig&Animation) Carbine: 915 Verts: 1035 (Rig) M1A1 Bazooka: 478 Verts: 571 M1A1 Ammo:  212: Verts: 228  \"),\n",
       "       TextBlob(\"this chrecter was ugly face  dangrous look  \"),\n",
       "       TextBlob(\"three random things i just made from photos \"),\n",
       "       TextBlob(\"Please let me know before making bad comments for mistakes and problems so l can fix them. And please do not hesitate to ask questions.   In the format ztl (Zbrush)Separately hair,body,dress  \"),\n",
       "       TextBlob(\"male base polycount 12528 femal base polycount 13522 faceless model based form anatomy \"),\n",
       "       TextBlob(\"Who is this one-eyed creature? Will he help your adventurer or will he be an evil villain? Add this cyclops to your scenes and you decide!Product Features:* Fully rigged character, at 13,290 polygons, for use in Studio Max 2009 and above.* Mouth & face morphs:-Eyes Close-Open Mouth-Oskal-Up Mouth-Nose* One set of textures for the pants, teeth, and body at 1024x1024.Original model by Olga Tkach, uploaded for sale here with permission. \"),\n",
       "       TextBlob(\"A 3d model of Grenade Cocktail Mug natively created and rendered in Blender 2.81. For adjustments or customizations please contact PM. This set includes: Glass base, metal cup and plastic straw. -Blend file which contains materials, shaders, textures and etc. -OBJ -FBX -STL -For other options please contact PM. \"),\n",
       "       TextBlob(\"Square Series Specifications SS-15:  15tall - 70 dia. - 58.5base (38cm x 178cm x 149cm) 665 lb. SS-18:  18 tall - 102dia. - 89 base (46cm x 259cm x 226cm) 1305 lb. SS-21:  21tall - 27 dia. - 14base (53cm x 69cm x 36cm) 495 lb. SS-27:  27 tall - 36dia. - 22.5 base (69cm x 91cm x 57cm) 995 lb. SS-30:  30tall - 19 dia. - 12base (76cm x 48cm x 30cm) 440 lb. SS-36:  36 tall - 48dia. - 32 base (91cm x 122cm x 81cm) 2830 lb. All weights are approximate Manufacturer - Kornegay Design Country of Origin - Phoenix, Arizon (USA) Site - http://kornegaydesign.com \"),\n",
       "       TextBlob(\"space jet 3d model with  2k   pbr textures.made in 3d max 2014 and render in substance painter model characteristics: .quad based topology .uv unwrapped (non overlaping) .(2048*2048) textures (ue4,pbr specular,vray) .polygons 5492 .verts  4924 file formats:  (max,obj,fbx) thankx for viewing like ,comment. \"),\n",
       "       TextBlob(\"Please let me know before making bad comments for mistakes and problems so l can fix them. And please do not hesitate to ask questions.   In the format Separately hair,body,dress  \"),\n",
       "       TextBlob(\"The set includes a base molding and a corresponding set of corner elements according to the catalog. The elements are joined in sequence without any visible seams.Manufacturer: \"Gaudi decor\" Article: CR3010, CF3010-A, CF3010-B, CF3010-C, CF3010-D, CF3010-EProduct dimensions: Profile - 40x25 mm CR3010 - 2440 x 40 x 25 mm CF3010-A - 230 x 230 x 25 mm CF3010-B - 275 x 275 x 25 mm CF3010-C - 330 x 330 x 25 mm CF3010-D - 235 x 235 x 25 mm CF3010-E - 100 x 100 x 25 mmFormats included: MAX, FBX, OBJ \"),\n",
       "       TextBlob(\"textures in png format (.png): 4096x4096 base color, 4096x4096 raughness,  4096x4096 metal, 4096x4096 mormal map. Blend files: aircraft.blend - no modifier, just mesh. With modifier.blend - mesh and modifiers. 45101 vert. 33268 fases. 65308 tris. \"),\n",
       "       TextBlob(\"Coffee, coffee, bedside table RISE TABLE By Vitra Type: Table Designers: Jasper Morrison Design Year: 2014 Column: steel, powder-coated textured finish. Extension bar: steel, polished chrome finish. Base: die-cast zinc, powder -coated textured finish. Name: BA_Vitra_RISE_TABLE Version: 2013 Units: Millimeters Dimension: 1642.78 x 500.38 x 560.7 Polys: 27 480 XForm: Yes Box Trick: Yes Model Parts: 4 Render: Corona Render: V-Ray Formats: 3Ds Max 2013, OBJ, 3DS \"),\n",
       "       TextBlob(\"Photogrammetry model scanned with DLSRs. Guy standing pose with a casual look. Looking towards something. \"),\n",
       "       TextBlob(\"Table lamp with base in Terrazzo, base in steel with black finish and diffuser in blown and sanded glass. https://www.roche-bobois.com/en-CN/product/flora-table-lamp All geometry under smoothing. For Corona render, it is recommended to install a version of at least 1.5, since the glossiness of materials is configured with PBR in mind. \"),\n",
       "       TextBlob(\"Collection - Clop  Name of product/article - CLOP | Chair with armrests  Type - Sled base polypropylene chair with armrests Materials - Polypropylene (PP)  Designers - Fiorenzo Dorigo  Design Year - 2018  Dimensions:  Width - 595mm  Depth - 550mm  Height - 830mm \")],\n",
       "      dtype=object)"
      ]
     },
     "execution_count": 15,
     "metadata": {},
     "output_type": "execute_result"
    }
   ],
   "source": [
    "np.array(blobs)[np.array(polarities) < -.45]"
   ]
  },
  {
   "cell_type": "code",
   "execution_count": 126,
   "metadata": {
    "collapsed": true,
    "jupyter": {
     "outputs_hidden": true
    }
   },
   "outputs": [
    {
     "data": {
      "text/plain": [
       "array([TextBlob(\"Restoration Hardware Dixon Upholstered Base Leather Armchair https://www.restorationhardware.com/catalog/product/product.jsp?productId=prod17510046&categoryId=search V-Ray render and materials All textures include in *.rar files Lighting setup is not included in the file \"),\n",
       "       TextBlob(\"2301CarpenterSofaC3seats_2280x974x1020 2638100F Fabric JY5680-3 2638800F Fabric ST9-4 230-1 Carpenter Sofa C 3-seats 2280x974x1020Polys: 59547 Verts: c \"),\n",
       "       TextBlob(\"Product: Tika lantern steel base Materials: HDPE wicker | powder coated aluminium frame | steel base Dimensions: 59 cm x 35 cm \"),\n",
       "       TextBlob(\"Please let me know before making bad comments for mistakes and problems so l can fix them. And please do not hesitate to ask questions.   In the format ztl (Zbrush)Separately hair,body,dress  \"),\n",
       "       TextBlob(\"army jeep 3d model with 2k and 4k pbr textures.made in 3d max 2014 and render in marmoset toolbag. model characteristics: .quad based topology .uv unwrapped (non overlaping) .(2048*2048)(4096*4096) textures (base color,normal,spacular,gloss,ao) .polygons 10643 .verts 10598 file formats:  (max,obj,fbx,stl) thankx for viewing like ,comment. \"),\n",
       "       TextBlob(\"This pack contains 11 heads, 6 man and 5 woman. Each head is in folder with its texture. (FBX and mb file) There is also a file with all the head in it (FBX, OBJ and mb) Polycount: Each Head Tris 14466   Texture: Metalness workflow for heads and Base color, Alpha, NormalMap, Specular for eyes *Texture resolution * 2048*2048 texture \"),\n",
       "       TextBlob(\"1470 polygons / 1665 vertices per base unit 2 premade structuresformats: .obj .fbxmodules: banner, flag-pole, walls, roof, support, window frame, window plane, window section, stairs, doors, door frame, chimney, vine, cratetexture: 2048x2048 .tga diffuse \"),\n",
       "       TextBlob(\"Ribbed Series RS-21: 21tall - 24 dia. - 11\" base (53cm - 61cm - 28cm) 145 lb. Manufacturer - Kornegay Design Country of Origin - Phoenix, Arizon (USA) Site - http://kornegaydesign.com \"),\n",
       "       TextBlob(\"simpl restaurant table mad of board and ss pipe for use at restaurnt inerior 3d seen \"),\n",
       "       TextBlob(\"3D low-poly model with base rig, materials and textures \"),\n",
       "       TextBlob(\"Photogrammetry model scanned with DLSRs. Guy standing pose with a casual look. Looking towards something. \"),\n",
       "       TextBlob(\"modeling in fusion 360 and moi3d and render in keyshot 6 unite used: mm file formated: (3dm-obj-fbx-step-iges-stl)and keyshot file \"),\n",
       "       TextBlob(\"Ribbed Series RS-27: 27tall - 33 dia. - 18\" base (69cm - 84cm - 46cm) 370 lb. Manufacturer - Kornegay Design Country of Origin - Phoenix, Arizon (USA) Site - http://kornegaydesign.com \"),\n",
       "       TextBlob(\"chair Beetles Chair metal dining casual sitting seat furniture; Max 2013, no materials, tree options \"),\n",
       "       TextBlob(\"Please let me know before making bad comments for mistakes and problems so l can fix them. And please do not hesitate to ask questions.   In the format ztl (Zbrush)Separately hair,body,dress  \"),\n",
       "       TextBlob(\"Photogrammetry model scanned with DLSRs. Guy standing pose with a casual look. Looking towards something. \"),\n",
       "       TextBlob(\"Dune Series DS-16: 16tall - 24 dia. - 12base (41cm x 61cm x 30cm) 180 lb. DS-17.5: 17.5 tall - 44dia. - 20 base (44cm x 112cm x 51cm) 555 lb. DS-23: 23tall - 36 dia. - 16base (58cm x 91cm x 41cm) 515 lb. DS-29: 29 tall - 72dia. - 29.75 base (74cm x 183cm x 76cm) 2280 lb. DS-32: 32tall - 44 dia. - 20base (81cm x 112cm x 51cm) 1020 lb. DS-38: 38 tall - 38dia. - 23 base (97cm x 97cm x 58cm) 1400 lb. DS-40: 40tall - 60 dia. - 28\" base (102cm x 152cm x 71cm) 2280 lb. All weights are approximate Manufacturer - Kornegay Design Country of Origin - Phoenix, Arizon (USA) Site - http://kornegaydesign.com \"),\n",
       "       TextBlob(\"smallalleway lamp based on the resident evil survivor lamp \"),\n",
       "       TextBlob(\"Units: mm Turbosmooth is on  JFK Desk - Living, Palisander by NORR11 DIMENSIONS: Width: 130 cm Depth: 65 cm Height: 76 cm Le Six Table Lamp, Brass by NORR11 DIMENSIONS: Width: 13 cm Depth: 41,5 cm Height: 42,5 Harbour Chair Swivel Base with Casters by MENU Dimensions: H: 82 cm  SH: 45 cm  D: 55,7 cm W: 58,5 cm Harbour Swivel Side Chair by MENU Dimensions: H: 81 cm SH: 45 cm D: 56 cm  W: 53 cm MANGO | Countertop mirror by 101 Copenhagen Dimensions : DIA 30xH50 cm \"),\n",
       "       TextBlob(\"base for walking robot, this base is like this video one https://www.youtube.com/watch?v=qC9eMtSK5LA this is for move the Kuka Robot over  base Krc2 \"),\n",
       "       TextBlob(\"CH24 CHAIR Dimensions: (WxHxD) 55 x 76 x 51 cm Dining table by wiener gtv design H740 L1000 W1800 \"),\n",
       "       TextBlob(\"The 3D model was created on Blender 2.8 Model is included in 3 file formats. .Blend .FBX .OBJ Texture include  Base Color Metallic Roughness  4096x4096 PNG texture 1242 poly    3726 vert Blender PBR shader using the Princlipled shader. Lighting and camera setup are included in the blender file. \"),\n",
       "       TextBlob(\"EQUIPE Chevron/Patchwork/Color/Blanco/Crema/Gris/Marron/Negro Manufacturer: Equipe Collection: Chevron Patchwork Color (52 textures) Category: Porcelain Tiles Size: 90x205 mm Manufacturer: Equipe Collection: Blanco matte (1 texture) Category: Porcelain Tiles Size: 90x205 mm Manufacturer: Equipe Collection: Crema matte (1 texture) Category: Porcelain Tiles Size: 90x205 mm Manufacturer: Equipe Collection: Gris matte (1 texture) Category: Porcelain Tiles Size: 90x205 mm Manufacturer: Equipe Collection: Marron matte (1 texture) Category: Porcelain Tiles Size: 90x205 mm Manufacturer: Equipe Collection: Negro matte (1 texture) Category: Porcelain Tiles Size: 90x205 mm The 3d file has 4 tile layouts For random texture use Seed                                          in MaterialByElement Texture size: 3017x1063 Px / 2608x1090 Px Using software: 3ds max 2010, 2013, 2016 Visualizer: Corona, Vray No plugins! Multi / Sub-Object Who has Vray below 3.4 version, change BRDF at your discretion! \"),\n",
       "       TextBlob(\"Wood Cutting Board \"),\n",
       "       TextBlob(\"archivo rar descomprimir y esta el STL  troncos, brazas, base  ,para chimeneas decoracion \"),\n",
       "       TextBlob(\"Photogrammetry model scanned with DLSRs. Guy standing pose with a casual look. Looking towards something. \"),\n",
       "       TextBlob(\"Carper grass tile File: Carpet.zip  Carpet.obj (File) Carpet_Edge_Fur.obj (File) Maya 2018 (File) Substance Painter 2018 (File) Base color (Png Texture, 4096x4096) Hight(displacement) (Png Texture, 4096x4096)  \"),\n",
       "       TextBlob(\"Please let me know before making bad comments for mistakes and problems so l can fix them. And please do not hesitate to ask questions.   In the format ztl (Zbrush)Separately hair,body,dress  \"),\n",
       "       TextBlob(\"Bremach t-rex motorhome base \"),\n",
       "       TextBlob(\"Water-Town 27420 polygons / 35066 verticesWater-Home 1275 polygons / 1538 vertices per base unitThe Merchant City of Gdina created with Water-Home base units.   Models are compatible with castle_101 plugin. https://youtu.be/qMVJWGAHIOo https://youtu.be/pFi14luGCQ8  The package contains both: a Water-Home base unit and an example seaport as seen on the preview images.textures: 2x 2048x2048 .tga diffuse \"),\n",
       "       TextBlob(\"frog crazy cartoon 3D modeling download \"),\n",
       "       TextBlob(\"CH24 CHAIR Dimensions: (WxHxD) 55 x 76 x 51 cm Dining table by wiener gtv design H740 L1000 W1800 \"),\n",
       "       TextBlob(\"Table lamps from the company Marioni, Notorious collection, models:Goldie A - 02822A Table lamp with column shape ceramic base and brass structure. WxHxD: 140x700x600  Goldie B - 02822B Table lamp with double cone shape ceramic base and brass structure WxHxD: 160x700x600  Goldie C - 02822C Table lamp with pyramid shape ceramic base and brass structure. WxHxD: 160x700x600  Malibu A - 02930A WxHxD: 160x840x360 Malibu B - 02930B WxHxD: 120x840x360  Malibu C - 02930C WxHxD: 120x820x360  \"),\n",
       "       TextBlob(\"Pipes cutting tool \"),\n",
       "       TextBlob(\"Photogrammetry model scanned with DLSRs. Guy standing pose with a casual look. Looking towards something. \"),\n",
       "       TextBlob(\"Cutting boards Collection.  The model includes: .MAX, .FBX, .MTL, .OBJ files. \"),\n",
       "       TextBlob(\"Smania Figi chair Figi - cod. PLFIGI01 Poltrona imbottita fissa rivestita in “EcoSun”, n. 1 cuscino poggiareni in tessuto per esterni, base in legno di teak, dettagli in acciaio lucido. V-Ray render and materials (1.50 SP4a) All textures include in *.rar files Lighting setup is not included in the file! \"),\n",
       "       TextBlob(\"Chia Chair Wood Base http://living.giuliomarelli.com/chairs/chia/ \"),\n",
       "       TextBlob(\"Please let me know before making bad comments for mistakes and problems so l can fix them. And please do not hesitate to ask questions.   In the format Separately hair,body,dress  \"),\n",
       "       TextBlob(\"Kitchen interior. The scene is made in 3ds max 2017 render Corona. Models in the scene - kitchen set, sink, oven, shelves, sofa, Ottoman, wardrobe, blinds, plates, chair, table, kitchen area, kettle, vase with flowers, basket wicker, cutting Board, rolling pin, towel, kitchen rag, hood, shelves, window, door, painting, carpet. There are formats - 3ds max 2017, 2016, 2014, obj, fbx.  In obj and fbx formats on some models you need to enable antialiasing in Editable Poly or throw the Turbosmooth modifier \"),\n",
       "       TextBlob(\"Material:  Gloss paint finish aluminum shade Chrome plated fittings Cast Iron base with steel cover aluminum arms  Dimensions:  Shade diameter: 14.5cm Shade height: 15cm Max reach: 60cm (from base to shade) Base size: 15 x 15cm Cable length: 200cm  \"),\n",
       "       TextBlob(\"Evil Joker \"),\n",
       "       TextBlob(\"AAAA - quality Created in Blender 2.83.13 and substance painter 2019.3.3 (steam edition). The archive includes all files (FBX, OBJ, BLEND, TXT) except one, it is a file of the substance painter (.spp) that takes up a lot of space and a link to it is in the archive “readme”. Textures are included in the archive for UNREAL ENGINE 4 and UNITY5 (metallic) and base textures. In the substance painter you can change the size to any. Tris: 38 591 / Verts: 20 060 Textures:  EOTECH553_GLASS: 2k EOTECH553_METAL: 4k EOTECH553_PLASTIC: 4k EOTECH553_RED_SIGHT: 1k MP9_DETAILS: 4k MP9_PLASTIC: 8k (1/2) MP9MAG: 4k MP9SUP: 4k WLIGHTX400V_BODY: 4k WLIGHTX400V_GLASS: 1k  \"),\n",
       "       TextBlob(\"City Block Base  City Block Base is model for placing buildings for mobile/console games for a city level.. Polys : - 4,864  Tris : - 11,364  Edges : - 14,124  Verts : - 9,264 \"),\n",
       "       TextBlob(\"Photogrammetry model scanned with DLSRs. Guy standing pose with a casual look. Looking towards something. \"),\n",
       "       TextBlob(\"Phoenix base model for Genesis 3 \"),\n",
       "       TextBlob(\"Description: Soda Model & Soda Cold, in archive .blend \"),\n",
       "       TextBlob(\"The Soviet secret police official in 1937. Because of his sadistic personality, he had a nickname The Bloody Dwarf. The model hasn't a mouth and a body under a cloth. \"),\n",
       "       TextBlob(\"BASE Bed size: 2315x2170x H990 mm Nightstand size: 500x525x505 mm Torchere size with cord: 1275x1380x2110 mm Chandelier size with cord: 110x110x1890 mm Wall  size: 11770x200x3100 mm Floor size: 8890x2700x10 mm DÉCOR Bowl size: 165x165x45 mm Saucer size: 115x115x80 mm Another décor size: 55x55x220 mm Modifier Turbosmooth applied in the mode render iters The model was created in 3ds max 2017 and converted in 3ds max 2014 The model uses Corona render materials The model includes files as: 3ds, obj, fbx   \"),\n",
       "       TextBlob(\"Drake base head \"),\n",
       "       TextBlob(\"Please let me know before making bad comments for mistakes and problems so l can fix them. And please do not hesitate to ask questions.   In the format ztl (Zbrush)Separately hair,body,dress \"),\n",
       "       TextBlob(\"Cartoon Food Pack 3d models in cartoon style.  Preview images are rendered in Vray.   This pack contains 15 foods.   Chicken Leg  [328 poly]  Popcorn  [8,901 poly]  Pizza  [693 poly]  Pancake  [1,649 poly]  Ham  [752 poly]  Hotdog  [1,312 poly]  Fried Egg  [608 poly]  Donut  [2,166 poly]  Cookie  [1,156 poly]  Chocolate  [1,707 poly]  Cake  [777 poly]  Burger  [3,890 poly]  Sandwich  [2,318 poly]  Taco  [14,116 poly]  Pie  [434 poly]   Formats  .max 2014   .FBX   .OBJ    2048x2048 JPG textures \"),\n",
       "       TextBlob(\"Photogrammetry model scanned with DLSRs. Guy standing pose with a casual look. Looking towards something. \"),\n",
       "       TextBlob(\"Casual man figurine. Made using a photogrammetry 3D scanning setup. 45.000 Poly OBJ file and 8192*8192px JPG texture Map Provided. \"),\n",
       "       TextBlob(\"A corinthian capital for use in arquitectural models,OBJ´s and ZTL from 30K polys to 1.900K polys,the base of the capital is the diameter of the column,unwraped and textured. \"),\n",
       "       TextBlob(\"Product: Tika lantern steel base Materials: HDPE wicker | powder coated aluminum frame | steel base Dimensions: 69 cm x 47 cm \"),\n",
       "       TextBlob(\"Polys: 900,561 Verts: 1,073,127 Units: Centimeter Dimension: (Lenght) 32cm x (Width) 200cm x (Height) 250cm Format: 3Ds Max 2013, OBJ Render: V-Ray All objects, textures are named and grouped in the scene. \"),\n",
       "       TextBlob(\"Please let me know before making bad comments for mistakes and problems so l can fix them. And please do not hesitate to ask questions.   In the format ztl (Zbrush)Separately hair,body,dress  \"),\n",
       "       TextBlob(\"There are 4 sets of files here (for each variant) and one with *max file that include all variants in accordance with the layers. Some parts of the model have TurboSmooth modifier in stack.  All objects are named and linked Rendered with V-Ray 3.20.03 File units: centimeters Contains materials and textures. Cameras, lights and HDRI are NOT included in files Saved as '3ds Max 2014' Skull Bomb (variant 1): Model size: 20.33cm x 22.12cm x 28.52cm Polygons: 31591 Skull Bomb (variant 2): Model size: 17.7cm x 18.4cm x 28.34cm Polygons: 45110 Skull Bomb (variant 3): Model size: 18.9cm x 19.66cm x 28.38cm Polygons: 54234 Skull Bomb (variant 4): Model size: 17.08cm x 18.7cm x 28.38cm Polygons: 27459 created by Alexander Nozdrenkov (aka Brutal) \"),\n",
       "       TextBlob(\"chair Eiffel Handle metal fame upholstered dining casual sitting seat furniture designer Max 2013, no materials \"),\n",
       "       TextBlob(\"Antique Cutting Boards Archive include: 2011 max, fbx, textures. \"),\n",
       "       TextBlob(\"This is a cyberpunk car, based on the MAD MAX movie. \"),\n",
       "       TextBlob(\"Please let me know before making bad comments for mistakes and problems so l can fix them. And please do not hesitate to ask questions.   In the format ztl (Zbrush)Separately hair,body,dress  \"),\n",
       "       TextBlob(\"Dimensions:  (chair): length: 480mm width: 530mm height: 800mm (table): length: 1920mm width: 790mm height: 750mm Unwrap UVW. Vray and Corona versions included. No unhide objects. Preview rendered in v-Ray. Opensubdiv recommended. \"),\n",
       "       TextBlob(\"The 3D model was created on Blender 2.8 Model is included in 3 file formats. .Blend .FBX .OBJ Texture include  Base Color Metallic Roughness Normal(directX,openGL)  4096x4096 PNG texture 24832 poly 17363 vert Blender PBR shader using the Princlipled shader. Lighting and camera setup are included in the blender file. \"),\n",
       "       TextBlob(\"Photogrammetry model scanned with DLSRs. Guy standing pose with a casual look. Looking towards something. \"),\n",
       "       TextBlob(\"Some parts of the model have TurboSmooth modifier in stack.  All objects are named and linked Rendered with V-Ray 3.20.03 File units: centimeters Model size: 17.7cm x 18.4cm x 28.34cm Contains materials and textures. Cameras, lights and HDRI are NOT included in files Saved as '3ds Max 2014' created by Alexander Nozdrenkov (aka Brutal) \"),\n",
       "       TextBlob(\"aereomobile a gonfdole rotanti   adecollo verticale  inpiego multi ruolo  realizzato in lightwave dalla mia fantasia  modello base    possibilita di portellone pèosteriore per trasportio merci e truppe  esportato in bryce eli renderizato marco lovi italia \"),\n",
       "       TextBlob(\"caccia creato da me dalla mia fantasia  in ligtwave  nevtek                                                 adecolloverticale  per trasporto truppe e merce portello posteriore apribile gondole orientabili  inpiego  militare che civile  con possente armamento   etipo il facocero degli stati uniti un caccia carrarmati abassa quota  era questo il mio intento forme rozze   munito grosssi cannoncini davanti edietro provisti di camera einfrarossi  con mitragliatrici acanna rotante   questa euna versione base  marco lovi italia \"),\n",
       "       TextBlob(\"Photogrammetry model scanned with DLSRs. Guy standing pose with a casual look. Looking towards something. \"),\n",
       "       TextBlob(\"COLUMBUS TALL Columbus Tall Lamp Lamp Base LUI/COLUMBUS TAL Lamp Shade Turquoise 41cm \"),\n",
       "       TextBlob(\"Estudio Frame15 Decor/Arrow/Gloucester/Kali/Newport/Providence/Clover/Origami/Star/Stripes/Tie Manufacturer: Estudio Frame15 Collection: Decor Arrow Chiс Category: Porcelain Tiles Size: 150x150 mm Country: Spain Surface Type: Matte Manufacturer: Estudio Frame15 Collection: Decor Gloucester Chic Category: Porcelain Tiles Size: 150x150 mm Country: Spain Surface Type: Matte Manufacturer: Estudio Frame15 Collection: Decor Kali Chic Category: Porcelain Tiles Size: 150x150 mm Country: Spain Surface Type: Matte Manufacturer: Estudio Frame15 Collection: Decor Newport Chic Category: Porcelain Tiles Size: 150x150 mm Country: Spain Surface Type: Matte Manufacturer: Estudio Frame15 Collection: Decor Providence Chic Category: Porcelain Tiles Size: 150x150 mm Country: Spain Surface Type: Matte Manufacturer: Estudio Frame15 Collection: Decor Clover B&W Category: Porcelain Tiles Size: 150x150 mm Country: Spain Surface Type: Matte Manufacturer: Estudio Frame15 Collection: Decor Origami B&W Category: Porcelain Tiles Size: 150x150 mm Country: Spain Surface Type: Matte Manufacturer: Estudio Frame15 Collection: Decor Star B&W Category: Porcelain Tiles Size: 150x150 mm Country: Spain Surface Type: Matte Manufacturer: Estudio Frame15 Collection: Decor Stripes B&W Category: Porcelain Tiles Size: 150x150 mm Country: Spain Surface Type: Matte Manufacturer: Estudio Frame15 Collection: Decor Tie B&W Category: Porcelain Tiles Size: 150x150 mm Country: Spain Surface Type: Matte For random texture use Seed                                        in MaterialByElement Tile in 2 variations of the layout. Texture size: 1600x1600 Px Using software: 3ds max 2010, 2013, 2016 Visualizer: Corona, Vray No plugins! Multi / Sub-Object Who has Vray below 3.4 version, change BRDF at your discretion! \"),\n",
       "       TextBlob(\"Textures size:  carLift (diffuse, specular, ao + additional dirty version) 2048x2048  \"),\n",
       "       TextBlob(\"Vives/Rift Hexagono/Bushmills/Fingal/Igneus Cemento/Kunashir/Yereban Manufacturer: Vives Collection: Rift Hexagono (8 textures / 4 colors) Category: Porcelain Tiles Size: 230x266 mm Country: Spain Surface Type: Matte Manufacturer: Vives Collection: Rift Hexagono Bushmills Multicolor (7 textures) Category: Porcelain Tiles Size: 230x266 mm Country: Spain Surface Type: Matte Manufacturer: Vives Collection: Rift Hexagono Fingal (6 textures) Category: Porcelain Tiles Size: 230x266 mm Country: Spain Surface Type: Matte Manufacturer: Vives Collection: Rift Hexagono Igneus Cemento (5 textures) Category: Porcelain Tiles Size: 230x266 mm Country: Spain Surface Type: Matte Manufacturer: Vives Collection: Rift Hexagono Kunashir (5 textures) Category: Porcelain Tiles Size: 230x266 mm Country: Spain Surface Type: Matte Manufacturer: Vives Collection: Rift Hexagono Yereban (5 textures) Category: Porcelain Tiles Size: 230x266 mm Country: Spain Surface Type: Matte For random texture use Seed                                        in MaterialByElement Tile in 4 layout variations Texture size: 2265x1965 Px / 815x707 Px Using software: 3ds max 2010, 2013, 2016 Visualizer: Corona, Vray Additional format: FBX / OBJ / MTL No plugins! Multi / Sub-Object In the BRDF section is Microfaset GTR (GGX), if the version of Vray is lower than 3.1, then change it as you wish. I put Blinn. Corona is also tuned for PBR. If the version is lower than 1.5, then there will be a change to Legacy Mode. \"),\n",
       "       TextBlob(\"Ribbed Series RS-12: 12tall - 28 dia. - 20.5\" base (31cm - 71cm - 52cm) 155 lb. Manufacturer - Kornegay Design Country of Origin - Phoenix, Arizon (USA) Site - http://kornegaydesign.com \"),\n",
       "       TextBlob(\"3D Scan Model of Onion. (scan+low) File was created in blender 2.79 (cycles). Asset includes Scan 3D (403k tris) and lowpoly model (3k tris) with textures 4k (Base color, normalmap). formats: blend obj fbx \"),\n",
       "       TextBlob(\"Who is this creature? Will he help your adventurer or will he be an evil villain? Add this brutal to your game and you decide!polys: 13612 animation: WALK ATTACK-3This product includes a .unitypackage file and requires Unity 4.5.4 or higher.This product is licensed for use in games and apps.Original model made by Moscowich80; uploaded and sold here with permission. \"),\n",
       "       TextBlob(\"Suspended ceiling lamp on a metal frame with decor in polished nickel finish and bronzed copper. Designed for one 50-watt bulb with base GU10. Dimensions H * D, cm: 10x12 (diameter). \"),\n",
       "       TextBlob(\"Casual man figurine. Made using a photogrammetry 3D scanning setup. 45.000 Poly OBJ file and 8192*8192px JPG texture Map Provided. \"),\n",
       "       TextBlob(\"casual sports high-heeled sandal # 36 \"),\n",
       "       TextBlob(\"cartoon girl base. obj and fbx files included. \"),\n",
       "       TextBlob(\"Sword for your game. On render texture with a resolution of 2048. But in the archive I put textures with a resolution of 4096 in PNG format (NormalOpenGL, Roughness, Metallic, AO, Base color) Polycount - 7404 tris. Archived Files: obj, fbx, 3dsmax (2016, 2017,2018,2019) Model created in 3ds max. \"),\n",
       "       TextBlob(\"Polys: 916,900 Verts: 1,088,749 Units: Centimeter Dimension: (Lenght) 320mm x (Width) 3000mm x (Height) 2500mm Format: 3Ds Max 2013, OBJ Render: V-Ray All objects are named and grouped in the scene. \"),\n",
       "       TextBlob(\"Photogrammetry model scanned with DSLRs. The guy has a casual look and he stares forward. \"),\n",
       "       TextBlob(\"Base Woman 2 for game \"),\n",
       "       TextBlob(\"grim modelled on 3dsmax with uvs and materials \"),\n",
       "       TextBlob(\"casual restaurant \"),\n",
       "       TextBlob(\"Low-poly 3d model of Diablo Barbarian. All textures are included. \"),\n",
       "       TextBlob(\"The 3D model was created AmericanMan helmet design with out body parts. No separated. Helmet models with texutres 2k and 4k file. (base color,roughness,metallic,normal,emissive(only 2k)). Base texture made in Substance Painter and finish material made in Substance Designer.Model formats: -*blend (with subdiv or without subdiv) (Blender 2.76) -*3ds (multi format) -*obj (multi format) -*fbx (multi format) If you need any other formats I make them for you. Renders are made in Substance Designer and Blender.Thank you for choosing to my 3D models and I hope will be useful.Sincerely Yours, David \"),\n",
       "       TextBlob(\"A pack with a piece of meat, a cutting board and some chopped onions. \"),\n",
       "       TextBlob(\"Model Blanca Capiz-Painted Buffet Bernhardt collection Horchow Dimensions: 66.625'W x 22.5'D x 36'T Handcrafted of maple with alabaster finish Metal base with decorative X-shaped stretchers Three doors with inset antiqued silver-leaf carved panels The archive contains file max2012 + FBX + library of the materials \"),\n",
       "       TextBlob(\"Photogrammetry model scanned with DLSRs. Guy standing pose with a casual look. Looking towards something. \"),\n",
       "       TextBlob(\"Please let me know before making bad comments for mistakes and problems so l can fix them. And please do not hesitate to ask questions.   In the format ztl (Zbrush)Separately hair,body,dress  \"),\n",
       "       TextBlob(\"Photogrammetry model scanned with DLSRs. Guy standing pose with a casual look. Looking towards something. \"),\n",
       "       TextBlob(\"Grim Reaper  Rigged with Scythe This is a model with body skin and CATrig.  Robe - 2125 poly Scythe - 8409 poly Skeleton - have 2 variant - 24176 polys and 61297 poly TEXTURES It has three texture sets, one for the Skeleton, one for the robe and one for scythe ..etc. All texture sets are 4096x4096 and they are include BaseColor,Haight,Normal,Roughness, AO All the textures are in PNG format. \"),\n",
       "       TextBlob(\"Dimensions:  (chair): length: 480mm width: 530mm height: 800mm (table): length: 1920mm width: 790mm height: 750mm Unwrap UVW. Vray and Corona versions included. No unhide objects. Preview rendered in v-Ray. Opensubdiv recommended. \"),\n",
       "       TextBlob(\"Dimensions:  (chair): length: 480mm width: 530mm height: 800mm Unwrap UVW. Vray and Corona versions included. No unhide objects. Preview rendered in v-Ray. Opensubdiv recommended. \"),\n",
       "       TextBlob(\"Inspired by late 60's/early70's sports touring cars from europe.  Model consists of :  Car  model without wheels: (34786 poly, 36347 verts) 32 objects and 12 predescribed materials. Car model objects names starts with PSB and materials naming as well. Car model origins are set to surface Wheel: (11609poly, 11976 verts) 2 objects and 4 predescribed materials. Wheel origins are set to volume  Car model with wheels: (81218 poly, 84251 verts): model does not include surrounding scene. **predescribed materials. **model is a shell with a dummy interior. \"),\n",
       "       TextBlob(\"Please let me know before making bad comments for mistakes and problems so l can fix them. And please do not hesitate to ask questions.   In the format ztl (Zbrush)Separately hair,body,dress  \"),\n",
       "       TextBlob(\"Please let me know before making bad comments for mistakes and problems so l can fix them. And please do not hesitate to ask questions.   In the format ztl (Zbrush)Separately hair,body,dress  \"),\n",
       "       TextBlob(\"This high-quality model of Tunnel Boring Machine TBM was created in 3DS MAX 2013. Please note that textures included in the 3ds Max zip file, and there are no errors. The preview is presented in vray. I wish you like it. \"),\n",
       "       TextBlob(\"Lowpoly Soviet Oldschool Teeter :  Base Color,Normal,Roughness,Height,Metallic   The textures are included in the rar file and the size is 2048x2048.  Formats:  FBX Textures/TGA  \"),\n",
       "       TextBlob(\"Poliform Mad Joker https://www.poliform.it/en-us/products/armchairs/mad-joker V-Ray render and materials All textures include in *.rar files Lighting setup is not included in the file \"),\n",
       "       TextBlob(\"Crazy Duck Monster \"),\n",
       "       TextBlob(\"Photogrammetry model scanned with DLSRs. Guy standing pose with a casual look. Looking towards something. \"),\n",
       "       TextBlob(\" Product Dimensions Height: 205.2cm Width: 64 cm Height: 45 cm Polys: 128,659 Verts: 129,000 Formats: 3Ds Max 2013 (Vray 3.4 + Corona 1.6), OBJ, MTL , Fbx, DWG, File Textures.zip For small file size (TurboSmooth is turned off) → turn it on when rendering I hope you like this! Thank you!!!  \"),\n",
       "       TextBlob(\"submarine 3d model with 1k,2k,4k pbr textures.made in 3d max 2014 and render in marmoset toolbag. model characteristics: .quad based topology .uv unwrapped (non overlaping) .(1024*1024),(2048* 2048),(4096*4096) textures (base color,normal,metalness,roughness,ao) .polygons 1284 .verts 1393 file formats:  (max,obj,fbx) thankx for viewing like ,comment. \"),\n",
       "       TextBlob(\"Please let me know before making bad comments for mistakes and problems so l can fix them. And please do not hesitate to ask questions.   In the format ztl (Zbrush)Separately hair,body,dress  \"),\n",
       "       TextBlob(\"Vases Vol 01 - PBR 5 x Vases  Objects in obj and fbx format PBR texture maps 2048 x 2048 png format Base color map Metalic map Roughness map Height map Ambient Occlusion map Verticess = 5299 Pollygons = 5240 \"),\n",
       "       TextBlob(\"3D model of a Wood Cutting Board \"),\n",
       "       TextBlob(\"Please let me know before making bad comments for mistakes and problems so l can fix them. And please do not hesitate to ask questions.   In the format ztl (Zbrush)Separately hair,body,dress  \"),\n",
       "       TextBlob(\"Photogrammetry model scanned with DLSRs. Guy standing pose with a casual look. Looking towards something. \"),\n",
       "       TextBlob(\"Geometry base of stylized male face Includes files (ztl fbx obj) tool with subdivision 1-3, base model of the face to learn its base forms. Intuitive learning for beginner and experts. \"),\n",
       "       TextBlob(\"Photogrammetry model scanned with DLSRs. Guy standing pose with a casual look. Looking towards something. \"),\n",
       "       TextBlob(\"For cutting , you may need it.... \"),\n",
       "       TextBlob(\"Copper Base Wall Lamp \"),\n",
       "       TextBlob(\"This pack contains 5 tools (hammer, saw, nippers, spanner, screwer) and a tool box (2 colors). Each model has 2 LODs and comes with PBR 2048*2048 textures (Albedo, Base color, Metalic/Roughness, OcclusionRoughnessMetallic, AO, Normal).-tool box LOD0 = 392 tri. -saw LOD0 = 160 tri. -hammer LOD0 = 150 tri. -spanner LOD0 = 300 tri. -screwer LOD = 192 tri. -nippers LOD0 = 248 tri.The pack contains 2 levels of details for each model.*Images rendered in Unity 5* \"),\n",
       "       TextBlob(\"This high-quality model of Tunnel Boring Machine Scence was created in 3DS MAX 2013. Please note that textures included in the 3ds Max zip file, and there are no errors. The preview is presented in vray. I wish you like it. \"),\n",
       "       TextBlob(\"Kitchen items to enhance your architectural or decorating project. Contains as native file 3D Studio Max 2017, also including file in FBX and OBJ.  The kit contains:  01 coffee pot  01 sugar pot  01 oil jar  01 pepper jar  01 cutting board   01 bowl stack.  \"),\n",
       "       TextBlob(\"Photogrammetry model scanned with DLSRs. Guy standing pose with a casual look. Looking towards something. \"),\n",
       "       TextBlob(\"The table lamp by Eichholtz have textile lampshade and metallic base. The model have disconnectable editor TurboSmooth (4575 polys, 4686 verts).  http://www.eichholtz.com/lamp-table-la-mode-nickel-0085002626114.aspx \"),\n",
       "       TextBlob(\"Scandinavian pendant lamp with glass shades Reference: HAGGE01 Material Metal, Glass Frame Color Gold Shade Color Smoky Gray, Transparent Dimensions 4 shades (vertical) 40 x H 135 cm 6 shades (horizontal) 135 x 40cm Cover D 15 cm Wire length 100 cm Type of lamp base E27 https://www.lampatron.ru/cat/item/design-lamps-hagge/   The stack is not collapsed, you can adjust the iterations of TurboSmooth, OBJ saved with TurboSmooth - 1. ** For users of V-ray below 3.1, switch in the materials in the BRDF scroll to Blinn, Phong or Ward.  MAX 2015, 2012 (Vray 4, Corona 4), OBJ, FBX \"),\n",
       "       TextBlob(\"Please let me know before making bad comments for mistakes and problems so l can fix them. And please do not hesitate to ask questions.   In the format ztl (Zbrush)Separately hair,body,dress  \"),\n",
       "       TextBlob(\"Casual man figurine. Made using a photogrammetry 3D scanning setup. 45.000 Poly OBJ file and 8192*8192px JPG texture Map Provided. \"),\n",
       "       TextBlob(\"Floor tiles CERAMICA RIBESALBES ANTIGUA Base blanco The size 20x20 cm vendor code PT01949 Floor tiles CERAMICA RIBESALBES ANTIGUA Base beige The size 20x20 cm vendor code PT02103 Floor tiles CERAMICA RIBESALBES ANTIGUA Base gris The size 20x20 cm vendor code PT02104 Floor tiles CERAMICA RIBESALBES ANTIGUA Base azul The size 20x20 cm vendor code PT02102 Decorative elements for the floor CERAMICA RIBESALBES ANTIGUA Beige 001 The size 20x20 cm vendor code PT02109 Decorative elements for the floor CERAMICA RIBESALBES ANTIGUA Beige 002 The size 20x20 cm vendor code PT02110 Decorative elements for the floor CERAMICA RIBESALBES ANTIGUA Beige 004 The size 20x20 cm vendor code PT02112 Decorative elements for the floor CERAMICA RIBESALBES ANTIGUA Beige 003 The size 20x20 cm Decorative elements for the floor CERAMICA RIBESALBES ANTIGUA Gris 001 The size 20x20 cm vendor code PT02113 Decorative elements for the floor CERAMICA RIBESALBES ANTIGUA Gris 002 The size 20x20 cm vendor code PT02114 Decorative elements for the floor CERAMICA RIBESALBES ANTIGUA Gris 004 The size 20x20 cm vendor code PT02116 Decorative elements for the floor CERAMICA RIBESALBES ANTIGUA Gris 003 The size 20x20 cm Decorative elements for the floor CERAMICA RIBESALBES ANTIGUA Azul 001 The size 20x20 cm vendor code PT02105 Decorative elements for the floor CERAMICA RIBESALBES ANTIGUA Azul 002 The size 20x20 cm vendor code PT02106 Decorative elements for the floor CERAMICA RIBESALBES ANTIGUA Azul 004 The size 20x20 cm vendor code PT02108 Decorative elements for the floor CERAMICA RIBESALBES ANTIGUA Azul 003 The size 20x20 cm Decorative elements for the floor CERAMICA RIBESALBES ANTIGUA Decor Beige (16 kinds of pattern) The size 20x20 cm Decorative elements for the floor CERAMICA RIBESALBES ANTIGUA Decor Gris (16 kinds of pattern) The size 20x20 cm vendor code PT01951 Decorative elements for the floor CERAMICA RIBESALBES ANTIGUA Decor Azul (16 kinds of pattern) The size 20x20 cm vendor code PT01950 \"),\n",
       "       TextBlob(\"Material (s)  Fabric + Pu leather & Steel base  Measurement (s)  W750 x D760 x H815 \"),\n",
       "       TextBlob(\"Buttoned Swivel Chair by Dolfi Italy BUTTONED SWIVEL CHAIR WITH STEEL BASE, GOLD FINISH Ø 63 X 73 CM \"),\n",
       "       TextBlob(\"Photogrammetry model scanned with DLSRs. Guy standing pose with a casual look. Looking towards something. \"),\n",
       "       TextBlob(\"Base: 9½W x 4¾D x 30½H Cord: 9L Weight: 18 lbs. https://www.restorationhardware.com/catalog/product/product.jsp?productId=prod8900755 I hope you like it.  \"),\n",
       "       TextBlob(\"Poltrona com assento estofado e base em metal folheado. (L) X (P) X (H) cm 70 x 67 x 77 \"),\n",
       "       TextBlob(\"Please let me know before making bad comments for mistakes and problems so l can fix them. And please do not hesitate to ask questions.   In the format ztl (Zbrush)Separately hair,body,dress \"),\n",
       "       TextBlob(\"Software: 3dmax2014 rendering: V-Ray adv 2.40.03 Plug in: no Animation: (refer to the preview GIF animation) 1. The snake crawls forward and opens its mouth  Rabbit eats radish  ===================================================== Scene:  Map: TGA PNG JPG format Number of faces: 24759314 points: 20532344  ===================================================== \"),\n",
       "       TextBlob(\"Dimensions: d. 4800 w. 440 h. 1840 mm. Factory Alf Dafre (Italy) produces this model according to the size of the customer, equipment according to the customer.In this case, the base model is presented according to the manufacturer's catalog. \"),\n",
       "       TextBlob(\"Model created in Blender 2.79 Product specs: 15 Mb - blend size (with packed textures) 200400 vertices 189400 polygons 512x512px PBR textures (5 Mb in zip-archive), brick wall textures are handmade, other textures are CC0 licensed. Product is designed for medium and long-range architectural visualization in Cycles and Eevee render engines. Mesh is grouped by material. If you remove the drainpipes and curtains, you get a low-poly model. If you have problems with the scale, you can check the dimensions of the base. Width / Depth / Height of base in file - 25,96x25,96x3,20 units \"),\n",
       "       TextBlob(\"Fantasy Building (Chicken Farm) \"),\n",
       "       TextBlob(\"Soldiers:  Roman, barbarian, knight. Include max, fbx, obj files. \"),\n",
       "       TextBlob(\"Table  : TRIBECA / MAD COFFEE TABLE Sofa   : Soho sofa \"),\n",
       "       TextBlob(\"A set of sockets in the set of 2 patterned socket set will gradually be replenished, can apply their materials, the models made in Blender into 3ds bad mesh in obj and fbx all is wel \"),\n",
       "       TextBlob(\"Please let me know before making bad comments for mistakes and problems so l can fix them. And please do not hesitate to ask questions.  \"),\n",
       "       TextBlob(\"• Native application: Blender v2.80.45 • Formats: blend, fbx, obj, max 2018 • Maps: Base Color, Normal_GL, AO, Roughness • Verts: 10.127 Faces: 10.125 Tris: 20.250 Objects: 1/1 \"),\n",
       "       TextBlob(\"Please let me know before making bad comments for mistakes and problems so l can fix them. And please do not hesitate to ask questions.   In the format ztl (Zbrush)Separately hair,body,dress  \"),\n",
       "       TextBlob(\"The defensive tower was made for the game, but did not enter it. The model consists of two parts: base and separate rocket. The rocket has 3 different paint sets.Textures of the base 2048x2048 Polygons of the base 1807 . Textures of the rocket 1024x1024 Polygons of the rocket 341. include textures:  Textures, Textures Corona  Textures PBR MetalRough  Textures Unity 4  Textures Unreal Engine 4 \"),\n",
       "       TextBlob(\"WW2 Weapons Pack Textures: Base Color/Metallic/Roughness/ AO Map Texture Textures: 2048x2048.png   M1919 Browning Machine Gun: (Rig&Animation) MP40 Machine Gun: 3484 Verts: 3244 (Rig) Knife:  411 Verts: 415 Knife2: 261 Verts: 257  Luger P08 Pistol: 1658 Verts: 1464 (Rig) Colt Pistol:  545 Verts: 628 (Rig) ThompsonM1919: 2076 Verts: 2166 (Rig) Kar98: 1113 Verts: 1186 (Rig&Animation) Carbine: 915 Verts: 1035 (Rig) M1A1 Bazooka: 478 Verts: 571 M1A1 Ammo:  212: Verts: 228  \"),\n",
       "       TextBlob(\"this chrecter was ugly face  dangrous look  \"),\n",
       "       TextBlob(\"Please let me know before making bad comments for mistakes and problems so l can fix them. And please do not hesitate to ask questions.   In the format ztl (Zbrush)Separately hair,body,dress  \"),\n",
       "       TextBlob(\"male base polycount 12528 femal base polycount 13522 faceless model based form anatomy \"),\n",
       "       TextBlob(\"Square Series Specifications SS-15:  15tall - 70 dia. - 58.5base (38cm x 178cm x 149cm) 665 lb. SS-18:  18 tall - 102dia. - 89 base (46cm x 259cm x 226cm) 1305 lb. SS-21:  21tall - 27 dia. - 14base (53cm x 69cm x 36cm) 495 lb. SS-27:  27 tall - 36dia. - 22.5 base (69cm x 91cm x 57cm) 995 lb. SS-30:  30tall - 19 dia. - 12base (76cm x 48cm x 30cm) 440 lb. SS-36:  36 tall - 48dia. - 32 base (91cm x 122cm x 81cm) 2830 lb. All weights are approximate Manufacturer - Kornegay Design Country of Origin - Phoenix, Arizon (USA) Site - http://kornegaydesign.com \"),\n",
       "       TextBlob(\"space jet 3d model with  2k   pbr textures.made in 3d max 2014 and render in substance painter model characteristics: .quad based topology .uv unwrapped (non overlaping) .(2048*2048) textures (ue4,pbr specular,vray) .polygons 5492 .verts  4924 file formats:  (max,obj,fbx) thankx for viewing like ,comment. \"),\n",
       "       TextBlob(\"Please let me know before making bad comments for mistakes and problems so l can fix them. And please do not hesitate to ask questions.   In the format Separately hair,body,dress  \"),\n",
       "       TextBlob(\"The set includes a base molding and a corresponding set of corner elements according to the catalog. The elements are joined in sequence without any visible seams.Manufacturer: \"Gaudi decor\" Article: CR3010, CF3010-A, CF3010-B, CF3010-C, CF3010-D, CF3010-EProduct dimensions: Profile - 40x25 mm CR3010 - 2440 x 40 x 25 mm CF3010-A - 230 x 230 x 25 mm CF3010-B - 275 x 275 x 25 mm CF3010-C - 330 x 330 x 25 mm CF3010-D - 235 x 235 x 25 mm CF3010-E - 100 x 100 x 25 mmFormats included: MAX, FBX, OBJ \"),\n",
       "       TextBlob(\"textures in png format (.png): 4096x4096 base color, 4096x4096 raughness,  4096x4096 metal, 4096x4096 mormal map. Blend files: aircraft.blend - no modifier, just mesh. With modifier.blend - mesh and modifiers. 45101 vert. 33268 fases. 65308 tris. \"),\n",
       "       TextBlob(\"Coffee, coffee, bedside table RISE TABLE By Vitra Type: Table Designers: Jasper Morrison Design Year: 2014 Column: steel, powder-coated textured finish. Extension bar: steel, polished chrome finish. Base: die-cast zinc, powder -coated textured finish. Name: BA_Vitra_RISE_TABLE Version: 2013 Units: Millimeters Dimension: 1642.78 x 500.38 x 560.7 Polys: 27 480 XForm: Yes Box Trick: Yes Model Parts: 4 Render: Corona Render: V-Ray Formats: 3Ds Max 2013, OBJ, 3DS \"),\n",
       "       TextBlob(\"Photogrammetry model scanned with DLSRs. Guy standing pose with a casual look. Looking towards something. \"),\n",
       "       TextBlob(\"Table lamp with base in Terrazzo, base in steel with black finish and diffuser in blown and sanded glass. https://www.roche-bobois.com/en-CN/product/flora-table-lamp All geometry under smoothing. For Corona render, it is recommended to install a version of at least 1.5, since the glossiness of materials is configured with PBR in mind. \"),\n",
       "       TextBlob(\"Collection - Clop  Name of product/article - CLOP | Chair with armrests  Type - Sled base polypropylene chair with armrests Materials - Polypropylene (PP)  Designers - Fiorenzo Dorigo  Design Year - 2018  Dimensions:  Width - 595mm  Depth - 550mm  Height - 830mm \")],\n",
       "      dtype=object)"
      ]
     },
     "execution_count": 126,
     "metadata": {},
     "output_type": "execute_result"
    }
   ],
   "source": [
    "import numpy as np\n",
    "\n",
    "np.array(blobs)[np.array(polarities) < -0.5]"
   ]
  },
  {
   "cell_type": "code",
   "execution_count": 119,
   "metadata": {},
   "outputs": [
    {
     "data": {
      "text/plain": [
       "(array([1.2000e+01, 9.9000e+01, 3.8800e+02, 7.6300e+02, 4.6930e+03,\n",
       "        4.0493e+04, 1.8023e+04, 2.8590e+03, 4.3100e+02, 2.7800e+02]),\n",
       " array([-1. , -0.8, -0.6, -0.4, -0.2,  0. ,  0.2,  0.4,  0.6,  0.8,  1. ]),\n",
       " <a list of 10 Patch objects>)"
      ]
     },
     "execution_count": 119,
     "metadata": {},
     "output_type": "execute_result"
    },
    {
     "data": {
      "image/png": "[encoded data removed]",
      "text/plain": [
       "<Figure size 432x288 with 1 Axes>"
      ]
     },
     "metadata": {
      "needs_background": "light"
     },
     "output_type": "display_data"
    }
   ],
   "source": [
    "plt.hist(polarities)"
   ]
  },
  {
   "cell_type": "code",
   "execution_count": 100,
   "metadata": {},
   "outputs": [
    {
     "data": {
      "text/plain": [
       "WordList(['high quality 3d models', 'barazza', 'reasonable amount', 'accurate grid', 'sinks cod', 'sinks cod', 'sinks cod', 'sinks cod', 'sinks cod', 'sinks cod', 'sinks cod', 'geometry', 'polygonal quads', 'turbosmooth', 'polys', 'verts', 'turbosmooth', 'polys', 'verts'])"
      ]
     },
     "execution_count": 100,
     "metadata": {},
     "output_type": "execute_result"
    }
   ],
   "source": [
    "example_blob.noun_phrases"
   ]
  },
  {
   "cell_type": "code",
   "execution_count": 89,
   "metadata": {
    "collapsed": true,
    "jupyter": {
     "outputs_hidden": true
    }
   },
   "outputs": [
    {
     "ename": "KeyboardInterrupt",
     "evalue": "",
     "output_type": "error",
     "traceback": [
      "\u001b[0;31m---------------------------------------------------------------------------\u001b[0m",
      "\u001b[0;31mKeyboardInterrupt\u001b[0m                         Traceback (most recent call last)",
      "\u001b[0;32m<ipython-input-89-6b91ad8cd7fe>\u001b[0m in \u001b[0;36m<module>\u001b[0;34m\u001b[0m\n\u001b[0;32m----> 1\u001b[0;31m \u001b[0mdf\u001b[0m\u001b[0;34m.\u001b[0m\u001b[0mmodel_description\u001b[0m\u001b[0;34m.\u001b[0m\u001b[0mapply\u001b[0m\u001b[0;34m(\u001b[0m\u001b[0;32mlambda\u001b[0m \u001b[0mx\u001b[0m\u001b[0;34m:\u001b[0m \u001b[0mTextBlob\u001b[0m\u001b[0;34m(\u001b[0m\u001b[0mx\u001b[0m\u001b[0;34m)\u001b[0m\u001b[0;34m.\u001b[0m\u001b[0mtags\u001b[0m\u001b[0;34m)\u001b[0m\u001b[0;34m\u001b[0m\u001b[0;34m\u001b[0m\u001b[0m\n\u001b[0m",
      "\u001b[0;32m~/anaconda3/envs/ds/lib/python3.8/site-packages/pandas/core/series.py\u001b[0m in \u001b[0;36mapply\u001b[0;34m(self, func, convert_dtype, args, **kwds)\u001b[0m\n\u001b[1;32m   3846\u001b[0m             \u001b[0;32melse\u001b[0m\u001b[0;34m:\u001b[0m\u001b[0;34m\u001b[0m\u001b[0;34m\u001b[0m\u001b[0m\n\u001b[1;32m   3847\u001b[0m                 \u001b[0mvalues\u001b[0m \u001b[0;34m=\u001b[0m \u001b[0mself\u001b[0m\u001b[0;34m.\u001b[0m\u001b[0mastype\u001b[0m\u001b[0;34m(\u001b[0m\u001b[0mobject\u001b[0m\u001b[0;34m)\u001b[0m\u001b[0;34m.\u001b[0m\u001b[0mvalues\u001b[0m\u001b[0;34m\u001b[0m\u001b[0;34m\u001b[0m\u001b[0m\n\u001b[0;32m-> 3848\u001b[0;31m                 \u001b[0mmapped\u001b[0m \u001b[0;34m=\u001b[0m \u001b[0mlib\u001b[0m\u001b[0;34m.\u001b[0m\u001b[0mmap_infer\u001b[0m\u001b[0;34m(\u001b[0m\u001b[0mvalues\u001b[0m\u001b[0;34m,\u001b[0m \u001b[0mf\u001b[0m\u001b[0;34m,\u001b[0m \u001b[0mconvert\u001b[0m\u001b[0;34m=\u001b[0m\u001b[0mconvert_dtype\u001b[0m\u001b[0;34m)\u001b[0m\u001b[0;34m\u001b[0m\u001b[0;34m\u001b[0m\u001b[0m\n\u001b[0m\u001b[1;32m   3849\u001b[0m \u001b[0;34m\u001b[0m\u001b[0m\n\u001b[1;32m   3850\u001b[0m         \u001b[0;32mif\u001b[0m \u001b[0mlen\u001b[0m\u001b[0;34m(\u001b[0m\u001b[0mmapped\u001b[0m\u001b[0;34m)\u001b[0m \u001b[0;32mand\u001b[0m \u001b[0misinstance\u001b[0m\u001b[0;34m(\u001b[0m\u001b[0mmapped\u001b[0m\u001b[0;34m[\u001b[0m\u001b[0;36m0\u001b[0m\u001b[0;34m]\u001b[0m\u001b[0;34m,\u001b[0m \u001b[0mSeries\u001b[0m\u001b[0;34m)\u001b[0m\u001b[0;34m:\u001b[0m\u001b[0;34m\u001b[0m\u001b[0;34m\u001b[0m\u001b[0m\n",
      "\u001b[0;32mpandas/_libs/lib.pyx\u001b[0m in \u001b[0;36mpandas._libs.lib.map_infer\u001b[0;34m()\u001b[0m\n",
      "\u001b[0;32m<ipython-input-89-6b91ad8cd7fe>\u001b[0m in \u001b[0;36m<lambda>\u001b[0;34m(x)\u001b[0m\n\u001b[0;32m----> 1\u001b[0;31m \u001b[0mdf\u001b[0m\u001b[0;34m.\u001b[0m\u001b[0mmodel_description\u001b[0m\u001b[0;34m.\u001b[0m\u001b[0mapply\u001b[0m\u001b[0;34m(\u001b[0m\u001b[0;32mlambda\u001b[0m \u001b[0mx\u001b[0m\u001b[0;34m:\u001b[0m \u001b[0mTextBlob\u001b[0m\u001b[0;34m(\u001b[0m\u001b[0mx\u001b[0m\u001b[0;34m)\u001b[0m\u001b[0;34m.\u001b[0m\u001b[0mtags\u001b[0m\u001b[0;34m)\u001b[0m\u001b[0;34m\u001b[0m\u001b[0;34m\u001b[0m\u001b[0m\n\u001b[0m",
      "\u001b[0;32m~/anaconda3/envs/ds/lib/python3.8/site-packages/textblob/decorators.py\u001b[0m in \u001b[0;36m__get__\u001b[0;34m(self, obj, cls)\u001b[0m\n\u001b[1;32m     22\u001b[0m         \u001b[0;32mif\u001b[0m \u001b[0mobj\u001b[0m \u001b[0;32mis\u001b[0m \u001b[0;32mNone\u001b[0m\u001b[0;34m:\u001b[0m\u001b[0;34m\u001b[0m\u001b[0;34m\u001b[0m\u001b[0m\n\u001b[1;32m     23\u001b[0m             \u001b[0;32mreturn\u001b[0m \u001b[0mself\u001b[0m\u001b[0;34m\u001b[0m\u001b[0;34m\u001b[0m\u001b[0m\n\u001b[0;32m---> 24\u001b[0;31m         \u001b[0mvalue\u001b[0m \u001b[0;34m=\u001b[0m \u001b[0mobj\u001b[0m\u001b[0;34m.\u001b[0m\u001b[0m__dict__\u001b[0m\u001b[0;34m[\u001b[0m\u001b[0mself\u001b[0m\u001b[0;34m.\u001b[0m\u001b[0mfunc\u001b[0m\u001b[0;34m.\u001b[0m\u001b[0m__name__\u001b[0m\u001b[0;34m]\u001b[0m \u001b[0;34m=\u001b[0m \u001b[0mself\u001b[0m\u001b[0;34m.\u001b[0m\u001b[0mfunc\u001b[0m\u001b[0;34m(\u001b[0m\u001b[0mobj\u001b[0m\u001b[0;34m)\u001b[0m\u001b[0;34m\u001b[0m\u001b[0;34m\u001b[0m\u001b[0m\n\u001b[0m\u001b[1;32m     25\u001b[0m         \u001b[0;32mreturn\u001b[0m \u001b[0mvalue\u001b[0m\u001b[0;34m\u001b[0m\u001b[0;34m\u001b[0m\u001b[0m\n\u001b[1;32m     26\u001b[0m \u001b[0;34m\u001b[0m\u001b[0m\n",
      "\u001b[0;32m~/anaconda3/envs/ds/lib/python3.8/site-packages/textblob/blob.py\u001b[0m in \u001b[0;36mpos_tags\u001b[0;34m(self)\u001b[0m\n\u001b[1;32m    482\u001b[0m         \"\"\"\n\u001b[1;32m    483\u001b[0m         \u001b[0;32mif\u001b[0m \u001b[0misinstance\u001b[0m\u001b[0;34m(\u001b[0m\u001b[0mself\u001b[0m\u001b[0;34m,\u001b[0m \u001b[0mTextBlob\u001b[0m\u001b[0;34m)\u001b[0m\u001b[0;34m:\u001b[0m\u001b[0;34m\u001b[0m\u001b[0;34m\u001b[0m\u001b[0m\n\u001b[0;32m--> 484\u001b[0;31m             \u001b[0;32mreturn\u001b[0m \u001b[0;34m[\u001b[0m\u001b[0mval\u001b[0m \u001b[0;32mfor\u001b[0m \u001b[0msublist\u001b[0m \u001b[0;32min\u001b[0m \u001b[0;34m[\u001b[0m\u001b[0ms\u001b[0m\u001b[0;34m.\u001b[0m\u001b[0mpos_tags\u001b[0m \u001b[0;32mfor\u001b[0m \u001b[0ms\u001b[0m \u001b[0;32min\u001b[0m \u001b[0mself\u001b[0m\u001b[0;34m.\u001b[0m\u001b[0msentences\u001b[0m\u001b[0;34m]\u001b[0m \u001b[0;32mfor\u001b[0m \u001b[0mval\u001b[0m \u001b[0;32min\u001b[0m \u001b[0msublist\u001b[0m\u001b[0;34m]\u001b[0m\u001b[0;34m\u001b[0m\u001b[0;34m\u001b[0m\u001b[0m\n\u001b[0m\u001b[1;32m    485\u001b[0m         \u001b[0;32melse\u001b[0m\u001b[0;34m:\u001b[0m\u001b[0;34m\u001b[0m\u001b[0;34m\u001b[0m\u001b[0m\n\u001b[1;32m    486\u001b[0m             return [(Word(unicode(word), pos_tag=t), unicode(t))\n",
      "\u001b[0;32m~/anaconda3/envs/ds/lib/python3.8/site-packages/textblob/blob.py\u001b[0m in \u001b[0;36m<listcomp>\u001b[0;34m(.0)\u001b[0m\n\u001b[1;32m    482\u001b[0m         \"\"\"\n\u001b[1;32m    483\u001b[0m         \u001b[0;32mif\u001b[0m \u001b[0misinstance\u001b[0m\u001b[0;34m(\u001b[0m\u001b[0mself\u001b[0m\u001b[0;34m,\u001b[0m \u001b[0mTextBlob\u001b[0m\u001b[0;34m)\u001b[0m\u001b[0;34m:\u001b[0m\u001b[0;34m\u001b[0m\u001b[0;34m\u001b[0m\u001b[0m\n\u001b[0;32m--> 484\u001b[0;31m             \u001b[0;32mreturn\u001b[0m \u001b[0;34m[\u001b[0m\u001b[0mval\u001b[0m \u001b[0;32mfor\u001b[0m \u001b[0msublist\u001b[0m \u001b[0;32min\u001b[0m \u001b[0;34m[\u001b[0m\u001b[0ms\u001b[0m\u001b[0;34m.\u001b[0m\u001b[0mpos_tags\u001b[0m \u001b[0;32mfor\u001b[0m \u001b[0ms\u001b[0m \u001b[0;32min\u001b[0m \u001b[0mself\u001b[0m\u001b[0;34m.\u001b[0m\u001b[0msentences\u001b[0m\u001b[0;34m]\u001b[0m \u001b[0;32mfor\u001b[0m \u001b[0mval\u001b[0m \u001b[0;32min\u001b[0m \u001b[0msublist\u001b[0m\u001b[0;34m]\u001b[0m\u001b[0;34m\u001b[0m\u001b[0;34m\u001b[0m\u001b[0m\n\u001b[0m\u001b[1;32m    485\u001b[0m         \u001b[0;32melse\u001b[0m\u001b[0;34m:\u001b[0m\u001b[0;34m\u001b[0m\u001b[0;34m\u001b[0m\u001b[0m\n\u001b[1;32m    486\u001b[0m             return [(Word(unicode(word), pos_tag=t), unicode(t))\n",
      "\u001b[0;32m~/anaconda3/envs/ds/lib/python3.8/site-packages/textblob/decorators.py\u001b[0m in \u001b[0;36m__get__\u001b[0;34m(self, obj, cls)\u001b[0m\n\u001b[1;32m     22\u001b[0m         \u001b[0;32mif\u001b[0m \u001b[0mobj\u001b[0m \u001b[0;32mis\u001b[0m \u001b[0;32mNone\u001b[0m\u001b[0;34m:\u001b[0m\u001b[0;34m\u001b[0m\u001b[0;34m\u001b[0m\u001b[0m\n\u001b[1;32m     23\u001b[0m             \u001b[0;32mreturn\u001b[0m \u001b[0mself\u001b[0m\u001b[0;34m\u001b[0m\u001b[0;34m\u001b[0m\u001b[0m\n\u001b[0;32m---> 24\u001b[0;31m         \u001b[0mvalue\u001b[0m \u001b[0;34m=\u001b[0m \u001b[0mobj\u001b[0m\u001b[0;34m.\u001b[0m\u001b[0m__dict__\u001b[0m\u001b[0;34m[\u001b[0m\u001b[0mself\u001b[0m\u001b[0;34m.\u001b[0m\u001b[0mfunc\u001b[0m\u001b[0;34m.\u001b[0m\u001b[0m__name__\u001b[0m\u001b[0;34m]\u001b[0m \u001b[0;34m=\u001b[0m \u001b[0mself\u001b[0m\u001b[0;34m.\u001b[0m\u001b[0mfunc\u001b[0m\u001b[0;34m(\u001b[0m\u001b[0mobj\u001b[0m\u001b[0;34m)\u001b[0m\u001b[0;34m\u001b[0m\u001b[0;34m\u001b[0m\u001b[0m\n\u001b[0m\u001b[1;32m     25\u001b[0m         \u001b[0;32mreturn\u001b[0m \u001b[0mvalue\u001b[0m\u001b[0;34m\u001b[0m\u001b[0;34m\u001b[0m\u001b[0m\n\u001b[1;32m     26\u001b[0m \u001b[0;34m\u001b[0m\u001b[0m\n",
      "\u001b[0;32m~/anaconda3/envs/ds/lib/python3.8/site-packages/textblob/blob.py\u001b[0m in \u001b[0;36mpos_tags\u001b[0;34m(self)\u001b[0m\n\u001b[1;32m    485\u001b[0m         \u001b[0;32melse\u001b[0m\u001b[0;34m:\u001b[0m\u001b[0;34m\u001b[0m\u001b[0;34m\u001b[0m\u001b[0m\n\u001b[1;32m    486\u001b[0m             return [(Word(unicode(word), pos_tag=t), unicode(t))\n\u001b[0;32m--> 487\u001b[0;31m                     \u001b[0;32mfor\u001b[0m \u001b[0mword\u001b[0m\u001b[0;34m,\u001b[0m \u001b[0mt\u001b[0m \u001b[0;32min\u001b[0m \u001b[0mself\u001b[0m\u001b[0;34m.\u001b[0m\u001b[0mpos_tagger\u001b[0m\u001b[0;34m.\u001b[0m\u001b[0mtag\u001b[0m\u001b[0;34m(\u001b[0m\u001b[0mself\u001b[0m\u001b[0;34m)\u001b[0m\u001b[0;34m\u001b[0m\u001b[0;34m\u001b[0m\u001b[0m\n\u001b[0m\u001b[1;32m    488\u001b[0m                     if not PUNCTUATION_REGEX.match(unicode(t))]\n\u001b[1;32m    489\u001b[0m \u001b[0;34m\u001b[0m\u001b[0m\n",
      "\u001b[0;32m~/anaconda3/envs/ds/lib/python3.8/site-packages/textblob/decorators.py\u001b[0m in \u001b[0;36mdecorated\u001b[0;34m(*args, **kwargs)\u001b[0m\n\u001b[1;32m     33\u001b[0m     \u001b[0;32mdef\u001b[0m \u001b[0mdecorated\u001b[0m\u001b[0;34m(\u001b[0m\u001b[0;34m*\u001b[0m\u001b[0margs\u001b[0m\u001b[0;34m,\u001b[0m \u001b[0;34m**\u001b[0m\u001b[0mkwargs\u001b[0m\u001b[0;34m)\u001b[0m\u001b[0;34m:\u001b[0m\u001b[0;34m\u001b[0m\u001b[0;34m\u001b[0m\u001b[0m\n\u001b[1;32m     34\u001b[0m         \u001b[0;32mtry\u001b[0m\u001b[0;34m:\u001b[0m\u001b[0;34m\u001b[0m\u001b[0;34m\u001b[0m\u001b[0m\n\u001b[0;32m---> 35\u001b[0;31m             \u001b[0;32mreturn\u001b[0m \u001b[0mfunc\u001b[0m\u001b[0;34m(\u001b[0m\u001b[0;34m*\u001b[0m\u001b[0margs\u001b[0m\u001b[0;34m,\u001b[0m \u001b[0;34m**\u001b[0m\u001b[0mkwargs\u001b[0m\u001b[0;34m)\u001b[0m\u001b[0;34m\u001b[0m\u001b[0;34m\u001b[0m\u001b[0m\n\u001b[0m\u001b[1;32m     36\u001b[0m         \u001b[0;32mexcept\u001b[0m \u001b[0mLookupError\u001b[0m \u001b[0;32mas\u001b[0m \u001b[0merr\u001b[0m\u001b[0;34m:\u001b[0m\u001b[0;34m\u001b[0m\u001b[0;34m\u001b[0m\u001b[0m\n\u001b[1;32m     37\u001b[0m             \u001b[0mprint\u001b[0m\u001b[0;34m(\u001b[0m\u001b[0merr\u001b[0m\u001b[0;34m)\u001b[0m\u001b[0;34m\u001b[0m\u001b[0;34m\u001b[0m\u001b[0m\n",
      "\u001b[0;32m~/anaconda3/envs/ds/lib/python3.8/site-packages/textblob/en/taggers.py\u001b[0m in \u001b[0;36mtag\u001b[0;34m(self, text)\u001b[0m\n\u001b[1;32m     36\u001b[0m             \u001b[0mtext\u001b[0m \u001b[0;34m=\u001b[0m \u001b[0mtb\u001b[0m\u001b[0;34m.\u001b[0m\u001b[0mTextBlob\u001b[0m\u001b[0;34m(\u001b[0m\u001b[0mtext\u001b[0m\u001b[0;34m)\u001b[0m\u001b[0;34m\u001b[0m\u001b[0;34m\u001b[0m\u001b[0m\n\u001b[1;32m     37\u001b[0m \u001b[0;34m\u001b[0m\u001b[0m\n\u001b[0;32m---> 38\u001b[0;31m         \u001b[0;32mreturn\u001b[0m \u001b[0mnltk\u001b[0m\u001b[0;34m.\u001b[0m\u001b[0mtag\u001b[0m\u001b[0;34m.\u001b[0m\u001b[0mpos_tag\u001b[0m\u001b[0;34m(\u001b[0m\u001b[0mtext\u001b[0m\u001b[0;34m.\u001b[0m\u001b[0mtokens\u001b[0m\u001b[0;34m)\u001b[0m\u001b[0;34m\u001b[0m\u001b[0;34m\u001b[0m\u001b[0m\n\u001b[0m",
      "\u001b[0;32m~/anaconda3/envs/ds/lib/python3.8/site-packages/nltk/tag/__init__.py\u001b[0m in \u001b[0;36mpos_tag\u001b[0;34m(tokens, tagset, lang)\u001b[0m\n\u001b[1;32m    158\u001b[0m     \u001b[0;34m:\u001b[0m\u001b[0mrtype\u001b[0m\u001b[0;34m:\u001b[0m \u001b[0mlist\u001b[0m\u001b[0;34m(\u001b[0m\u001b[0mtuple\u001b[0m\u001b[0;34m(\u001b[0m\u001b[0mstr\u001b[0m\u001b[0;34m,\u001b[0m \u001b[0mstr\u001b[0m\u001b[0;34m)\u001b[0m\u001b[0;34m)\u001b[0m\u001b[0;34m\u001b[0m\u001b[0;34m\u001b[0m\u001b[0m\n\u001b[1;32m    159\u001b[0m     \"\"\"\n\u001b[0;32m--> 160\u001b[0;31m     \u001b[0mtagger\u001b[0m \u001b[0;34m=\u001b[0m \u001b[0m_get_tagger\u001b[0m\u001b[0;34m(\u001b[0m\u001b[0mlang\u001b[0m\u001b[0;34m)\u001b[0m\u001b[0;34m\u001b[0m\u001b[0;34m\u001b[0m\u001b[0m\n\u001b[0m\u001b[1;32m    161\u001b[0m     \u001b[0;32mreturn\u001b[0m \u001b[0m_pos_tag\u001b[0m\u001b[0;34m(\u001b[0m\u001b[0mtokens\u001b[0m\u001b[0;34m,\u001b[0m \u001b[0mtagset\u001b[0m\u001b[0;34m,\u001b[0m \u001b[0mtagger\u001b[0m\u001b[0;34m,\u001b[0m \u001b[0mlang\u001b[0m\u001b[0;34m)\u001b[0m\u001b[0;34m\u001b[0m\u001b[0;34m\u001b[0m\u001b[0m\n\u001b[1;32m    162\u001b[0m \u001b[0;34m\u001b[0m\u001b[0m\n",
      "\u001b[0;32m~/anaconda3/envs/ds/lib/python3.8/site-packages/nltk/tag/__init__.py\u001b[0m in \u001b[0;36m_get_tagger\u001b[0;34m(lang)\u001b[0m\n\u001b[1;32m    104\u001b[0m         \u001b[0mtagger\u001b[0m\u001b[0;34m.\u001b[0m\u001b[0mload\u001b[0m\u001b[0;34m(\u001b[0m\u001b[0map_russian_model_loc\u001b[0m\u001b[0;34m)\u001b[0m\u001b[0;34m\u001b[0m\u001b[0;34m\u001b[0m\u001b[0m\n\u001b[1;32m    105\u001b[0m     \u001b[0;32melse\u001b[0m\u001b[0;34m:\u001b[0m\u001b[0;34m\u001b[0m\u001b[0;34m\u001b[0m\u001b[0m\n\u001b[0;32m--> 106\u001b[0;31m         \u001b[0mtagger\u001b[0m \u001b[0;34m=\u001b[0m \u001b[0mPerceptronTagger\u001b[0m\u001b[0;34m(\u001b[0m\u001b[0;34m)\u001b[0m\u001b[0;34m\u001b[0m\u001b[0;34m\u001b[0m\u001b[0m\n\u001b[0m\u001b[1;32m    107\u001b[0m     \u001b[0;32mreturn\u001b[0m \u001b[0mtagger\u001b[0m\u001b[0;34m\u001b[0m\u001b[0;34m\u001b[0m\u001b[0m\n\u001b[1;32m    108\u001b[0m \u001b[0;34m\u001b[0m\u001b[0m\n",
      "\u001b[0;32m~/anaconda3/envs/ds/lib/python3.8/site-packages/nltk/tag/perceptron.py\u001b[0m in \u001b[0;36m__init__\u001b[0;34m(self, load)\u001b[0m\n\u001b[1;32m    166\u001b[0m         \u001b[0;32mif\u001b[0m \u001b[0mload\u001b[0m\u001b[0;34m:\u001b[0m\u001b[0;34m\u001b[0m\u001b[0;34m\u001b[0m\u001b[0m\n\u001b[1;32m    167\u001b[0m             AP_MODEL_LOC = \"file:\" + str(\n\u001b[0;32m--> 168\u001b[0;31m                 \u001b[0mfind\u001b[0m\u001b[0;34m(\u001b[0m\u001b[0;34m\"taggers/averaged_perceptron_tagger/\"\u001b[0m \u001b[0;34m+\u001b[0m \u001b[0mPICKLE\u001b[0m\u001b[0;34m)\u001b[0m\u001b[0;34m\u001b[0m\u001b[0;34m\u001b[0m\u001b[0m\n\u001b[0m\u001b[1;32m    169\u001b[0m             )\n\u001b[1;32m    170\u001b[0m             \u001b[0mself\u001b[0m\u001b[0;34m.\u001b[0m\u001b[0mload\u001b[0m\u001b[0;34m(\u001b[0m\u001b[0mAP_MODEL_LOC\u001b[0m\u001b[0;34m)\u001b[0m\u001b[0;34m\u001b[0m\u001b[0;34m\u001b[0m\u001b[0m\n",
      "\u001b[0;32m~/anaconda3/envs/ds/lib/python3.8/site-packages/nltk/data.py\u001b[0m in \u001b[0;36mfind\u001b[0;34m(resource_name, paths)\u001b[0m\n\u001b[1;32m    537\u001b[0m                         \u001b[0;32mreturn\u001b[0m \u001b[0mGzipFileSystemPathPointer\u001b[0m\u001b[0;34m(\u001b[0m\u001b[0mp\u001b[0m\u001b[0;34m)\u001b[0m\u001b[0;34m\u001b[0m\u001b[0;34m\u001b[0m\u001b[0m\n\u001b[1;32m    538\u001b[0m                     \u001b[0;32melse\u001b[0m\u001b[0;34m:\u001b[0m\u001b[0;34m\u001b[0m\u001b[0;34m\u001b[0m\u001b[0m\n\u001b[0;32m--> 539\u001b[0;31m                         \u001b[0;32mreturn\u001b[0m \u001b[0mFileSystemPathPointer\u001b[0m\u001b[0;34m(\u001b[0m\u001b[0mp\u001b[0m\u001b[0;34m)\u001b[0m\u001b[0;34m\u001b[0m\u001b[0;34m\u001b[0m\u001b[0m\n\u001b[0m\u001b[1;32m    540\u001b[0m             \u001b[0;32melse\u001b[0m\u001b[0;34m:\u001b[0m\u001b[0;34m\u001b[0m\u001b[0;34m\u001b[0m\u001b[0m\n\u001b[1;32m    541\u001b[0m                 \u001b[0mp\u001b[0m \u001b[0;34m=\u001b[0m \u001b[0mos\u001b[0m\u001b[0;34m.\u001b[0m\u001b[0mpath\u001b[0m\u001b[0;34m.\u001b[0m\u001b[0mjoin\u001b[0m\u001b[0;34m(\u001b[0m\u001b[0mpath_\u001b[0m\u001b[0;34m,\u001b[0m \u001b[0murl2pathname\u001b[0m\u001b[0;34m(\u001b[0m\u001b[0mzipfile\u001b[0m\u001b[0;34m)\u001b[0m\u001b[0;34m)\u001b[0m\u001b[0;34m\u001b[0m\u001b[0;34m\u001b[0m\u001b[0m\n",
      "\u001b[0;32m~/anaconda3/envs/ds/lib/python3.8/site-packages/nltk/compat.py\u001b[0m in \u001b[0;36m_decorator\u001b[0;34m(*args, **kwargs)\u001b[0m\n\u001b[1;32m     39\u001b[0m     \u001b[0;32mdef\u001b[0m \u001b[0m_decorator\u001b[0m\u001b[0;34m(\u001b[0m\u001b[0;34m*\u001b[0m\u001b[0margs\u001b[0m\u001b[0;34m,\u001b[0m \u001b[0;34m**\u001b[0m\u001b[0mkwargs\u001b[0m\u001b[0;34m)\u001b[0m\u001b[0;34m:\u001b[0m\u001b[0;34m\u001b[0m\u001b[0;34m\u001b[0m\u001b[0m\n\u001b[1;32m     40\u001b[0m         \u001b[0margs\u001b[0m \u001b[0;34m=\u001b[0m \u001b[0;34m(\u001b[0m\u001b[0margs\u001b[0m\u001b[0;34m[\u001b[0m\u001b[0;36m0\u001b[0m\u001b[0;34m]\u001b[0m\u001b[0;34m,\u001b[0m \u001b[0madd_py3_data\u001b[0m\u001b[0;34m(\u001b[0m\u001b[0margs\u001b[0m\u001b[0;34m[\u001b[0m\u001b[0;36m1\u001b[0m\u001b[0;34m]\u001b[0m\u001b[0;34m)\u001b[0m\u001b[0;34m)\u001b[0m \u001b[0;34m+\u001b[0m \u001b[0margs\u001b[0m\u001b[0;34m[\u001b[0m\u001b[0;36m2\u001b[0m\u001b[0;34m:\u001b[0m\u001b[0;34m]\u001b[0m\u001b[0;34m\u001b[0m\u001b[0;34m\u001b[0m\u001b[0m\n\u001b[0;32m---> 41\u001b[0;31m         \u001b[0;32mreturn\u001b[0m \u001b[0minit_func\u001b[0m\u001b[0;34m(\u001b[0m\u001b[0;34m*\u001b[0m\u001b[0margs\u001b[0m\u001b[0;34m,\u001b[0m \u001b[0;34m**\u001b[0m\u001b[0mkwargs\u001b[0m\u001b[0;34m)\u001b[0m\u001b[0;34m\u001b[0m\u001b[0;34m\u001b[0m\u001b[0m\n\u001b[0m\u001b[1;32m     42\u001b[0m \u001b[0;34m\u001b[0m\u001b[0m\n\u001b[1;32m     43\u001b[0m     \u001b[0;32mreturn\u001b[0m \u001b[0mwraps\u001b[0m\u001b[0;34m(\u001b[0m\u001b[0minit_func\u001b[0m\u001b[0;34m)\u001b[0m\u001b[0;34m(\u001b[0m\u001b[0m_decorator\u001b[0m\u001b[0;34m)\u001b[0m\u001b[0;34m\u001b[0m\u001b[0;34m\u001b[0m\u001b[0m\n",
      "\u001b[0;32m~/anaconda3/envs/ds/lib/python3.8/site-packages/nltk/data.py\u001b[0m in \u001b[0;36m__init__\u001b[0;34m(self, _path)\u001b[0m\n\u001b[1;32m    311\u001b[0m         \"\"\"\n\u001b[1;32m    312\u001b[0m \u001b[0;34m\u001b[0m\u001b[0m\n\u001b[0;32m--> 313\u001b[0;31m         \u001b[0m_path\u001b[0m \u001b[0;34m=\u001b[0m \u001b[0mos\u001b[0m\u001b[0;34m.\u001b[0m\u001b[0mpath\u001b[0m\u001b[0;34m.\u001b[0m\u001b[0mabspath\u001b[0m\u001b[0;34m(\u001b[0m\u001b[0m_path\u001b[0m\u001b[0;34m)\u001b[0m\u001b[0;34m\u001b[0m\u001b[0;34m\u001b[0m\u001b[0m\n\u001b[0m\u001b[1;32m    314\u001b[0m         \u001b[0;32mif\u001b[0m \u001b[0;32mnot\u001b[0m \u001b[0mos\u001b[0m\u001b[0;34m.\u001b[0m\u001b[0mpath\u001b[0m\u001b[0;34m.\u001b[0m\u001b[0mexists\u001b[0m\u001b[0;34m(\u001b[0m\u001b[0m_path\u001b[0m\u001b[0;34m)\u001b[0m\u001b[0;34m:\u001b[0m\u001b[0;34m\u001b[0m\u001b[0;34m\u001b[0m\u001b[0m\n\u001b[1;32m    315\u001b[0m             \u001b[0;32mraise\u001b[0m \u001b[0mIOError\u001b[0m\u001b[0;34m(\u001b[0m\u001b[0;34m\"No such file or directory: %r\"\u001b[0m \u001b[0;34m%\u001b[0m \u001b[0m_path\u001b[0m\u001b[0;34m)\u001b[0m\u001b[0;34m\u001b[0m\u001b[0;34m\u001b[0m\u001b[0m\n",
      "\u001b[0;32m~/anaconda3/envs/ds/lib/python3.8/posixpath.py\u001b[0m in \u001b[0;36mabspath\u001b[0;34m(path)\u001b[0m\n\u001b[1;32m    379\u001b[0m             \u001b[0mcwd\u001b[0m \u001b[0;34m=\u001b[0m \u001b[0mos\u001b[0m\u001b[0;34m.\u001b[0m\u001b[0mgetcwd\u001b[0m\u001b[0;34m(\u001b[0m\u001b[0;34m)\u001b[0m\u001b[0;34m\u001b[0m\u001b[0;34m\u001b[0m\u001b[0m\n\u001b[1;32m    380\u001b[0m         \u001b[0mpath\u001b[0m \u001b[0;34m=\u001b[0m \u001b[0mjoin\u001b[0m\u001b[0;34m(\u001b[0m\u001b[0mcwd\u001b[0m\u001b[0;34m,\u001b[0m \u001b[0mpath\u001b[0m\u001b[0;34m)\u001b[0m\u001b[0;34m\u001b[0m\u001b[0;34m\u001b[0m\u001b[0m\n\u001b[0;32m--> 381\u001b[0;31m     \u001b[0;32mreturn\u001b[0m \u001b[0mnormpath\u001b[0m\u001b[0;34m(\u001b[0m\u001b[0mpath\u001b[0m\u001b[0;34m)\u001b[0m\u001b[0;34m\u001b[0m\u001b[0;34m\u001b[0m\u001b[0m\n\u001b[0m\u001b[1;32m    382\u001b[0m \u001b[0;34m\u001b[0m\u001b[0m\n\u001b[1;32m    383\u001b[0m \u001b[0;34m\u001b[0m\u001b[0m\n",
      "\u001b[0;32m~/anaconda3/envs/ds/lib/python3.8/posixpath.py\u001b[0m in \u001b[0;36mnormpath\u001b[0;34m(path)\u001b[0m\n\u001b[1;32m    347\u001b[0m     \u001b[0;32mif\u001b[0m \u001b[0mpath\u001b[0m \u001b[0;34m==\u001b[0m \u001b[0mempty\u001b[0m\u001b[0;34m:\u001b[0m\u001b[0;34m\u001b[0m\u001b[0;34m\u001b[0m\u001b[0m\n\u001b[1;32m    348\u001b[0m         \u001b[0;32mreturn\u001b[0m \u001b[0mdot\u001b[0m\u001b[0;34m\u001b[0m\u001b[0;34m\u001b[0m\u001b[0m\n\u001b[0;32m--> 349\u001b[0;31m     \u001b[0minitial_slashes\u001b[0m \u001b[0;34m=\u001b[0m \u001b[0mpath\u001b[0m\u001b[0;34m.\u001b[0m\u001b[0mstartswith\u001b[0m\u001b[0;34m(\u001b[0m\u001b[0msep\u001b[0m\u001b[0;34m)\u001b[0m\u001b[0;34m\u001b[0m\u001b[0;34m\u001b[0m\u001b[0m\n\u001b[0m\u001b[1;32m    350\u001b[0m     \u001b[0;31m# POSIX allows one or two initial slashes, but treats three or more\u001b[0m\u001b[0;34m\u001b[0m\u001b[0;34m\u001b[0m\u001b[0;34m\u001b[0m\u001b[0m\n\u001b[1;32m    351\u001b[0m     \u001b[0;31m# as single slash.\u001b[0m\u001b[0;34m\u001b[0m\u001b[0;34m\u001b[0m\u001b[0;34m\u001b[0m\u001b[0m\n",
      "\u001b[0;31mKeyboardInterrupt\u001b[0m: "
     ]
    }
   ],
   "source": [
    "df.model_description.apply(lambda x: TextBlob(x).tags)"
   ]
  },
  {
   "cell_type": "code",
   "execution_count": 3,
   "metadata": {},
   "outputs": [
    {
     "data": {
      "text/html": [
       "<div>\n",
       "<style scoped>\n",
       "    .dataframe tbody tr th:only-of-type {\n",
       "        vertical-align: middle;\n",
       "    }\n",
       "\n",
       "    .dataframe tbody tr th {\n",
       "        vertical-align: top;\n",
       "    }\n",
       "\n",
       "    .dataframe thead th {\n",
       "        text-align: right;\n",
       "    }\n",
       "</style>\n",
       "<table border=\"1\" class=\"dataframe\">\n",
       "  <thead>\n",
       "    <tr style=\"text-align: right;\">\n",
       "      <th></th>\n",
       "      <th>modeler</th>\n",
       "      <th>modeler_response</th>\n",
       "      <th>modeler_ratings</th>\n",
       "      <th>tags</th>\n",
       "      <th>views</th>\n",
       "      <th>likes</th>\n",
       "      <th>review_count</th>\n",
       "      <th>comments</th>\n",
       "      <th>price</th>\n",
       "      <th>pic_count</th>\n",
       "      <th>model_description</th>\n",
       "      <th>model_details</th>\n",
       "      <th>price_usd</th>\n",
       "      <th>tag_count</th>\n",
       "      <th>response_time</th>\n",
       "    </tr>\n",
       "  </thead>\n",
       "  <tbody>\n",
       "    <tr>\n",
       "      <th>0</th>\n",
       "      <td>andriy115599</td>\n",
       "      <td>{'percent': 100, 'time': '5.0h'}</td>\n",
       "      <td>{'avg_rating': 3.9, 'num_rating': 14}</td>\n",
       "      <td>[accessorie, appliance, barazza, furniture, ki...</td>\n",
       "      <td>351</td>\n",
       "      <td>0</td>\n",
       "      <td>0</td>\n",
       "      <td>{'authors': [], 'texts': [], 'datetimes': []}</td>\n",
       "      <td>$6.00</td>\n",
       "      <td>30</td>\n",
       "      <td>High quality 3d models of Barazza. The models ...</td>\n",
       "      <td>{'model_id': '801556', 'geometry': 'Subdivisio...</td>\n",
       "      <td>6.00</td>\n",
       "      <td>7</td>\n",
       "      <td>5.0</td>\n",
       "    </tr>\n",
       "    <tr>\n",
       "      <th>1</th>\n",
       "      <td>sinartur</td>\n",
       "      <td>{'percent': 0, 'time': 0}</td>\n",
       "      <td>{'avg_rating': 0, 'num_rating': 0}</td>\n",
       "      <td>[bed, furniture, pillow, comfort, modern, styl...</td>\n",
       "      <td>96</td>\n",
       "      <td>1</td>\n",
       "      <td>0</td>\n",
       "      <td>{'authors': ['GGAF'], 'texts': ['cool'], 'date...</td>\n",
       "      <td>$14.99</td>\n",
       "      <td>10</td>\n",
       "      <td>This 3d model Lipende sofa has a fully texture...</td>\n",
       "      <td>{'model_id': '2095846', 'geometry': 'Polygon m...</td>\n",
       "      <td>14.99</td>\n",
       "      <td>19</td>\n",
       "      <td>0.0</td>\n",
       "    </tr>\n",
       "    <tr>\n",
       "      <th>2</th>\n",
       "      <td>hq3dmodel</td>\n",
       "      <td>{'percent': 0, 'time': 0}</td>\n",
       "      <td>{'avg_rating': 5.0, 'num_rating': 1}</td>\n",
       "      <td>[rug, carpet, fur, interior, floor, cloth, woo...</td>\n",
       "      <td>15</td>\n",
       "      <td>0</td>\n",
       "      <td>0</td>\n",
       "      <td>{'authors': [], 'texts': [], 'datetimes': []}</td>\n",
       "      <td>$5.00</td>\n",
       "      <td>8</td>\n",
       "      <td>The set consists of 3 rugs. All high quality t...</td>\n",
       "      <td>{'model_id': '2418972', 'geometry': 'Polygon m...</td>\n",
       "      <td>5.00</td>\n",
       "      <td>20</td>\n",
       "      <td>0.0</td>\n",
       "    </tr>\n",
       "    <tr>\n",
       "      <th>3</th>\n",
       "      <td>-snake-</td>\n",
       "      <td>{'percent': 0, 'time': 0}</td>\n",
       "      <td>{'avg_rating': 0, 'num_rating': 0}</td>\n",
       "      <td>[aquanet, modena, furniture, sink, mixer, mirr...</td>\n",
       "      <td>19</td>\n",
       "      <td>0</td>\n",
       "      <td>0</td>\n",
       "      <td>{'authors': [], 'texts': [], 'datetimes': []}</td>\n",
       "      <td>$7.00</td>\n",
       "      <td>9</td>\n",
       "      <td>Furniture set Modena 65/85/100 White gloss. Di...</td>\n",
       "      <td>{'model_id': '2372429', 'geometry': 'Polygon m...</td>\n",
       "      <td>7.00</td>\n",
       "      <td>18</td>\n",
       "      <td>0.0</td>\n",
       "    </tr>\n",
       "    <tr>\n",
       "      <th>4</th>\n",
       "      <td>zifir3d</td>\n",
       "      <td>{'percent': 88, 'time': '0.2h'}</td>\n",
       "      <td>{'avg_rating': 4.7, 'num_rating': 33}</td>\n",
       "      <td>[flexform, ettore, sofa, divan, lounge, pillow...</td>\n",
       "      <td>77</td>\n",
       "      <td>2</td>\n",
       "      <td>0</td>\n",
       "      <td>{'authors': [], 'texts': [], 'datetimes': []}</td>\n",
       "      <td>$39.00</td>\n",
       "      <td>8</td>\n",
       "      <td>Flexform Ettore https://www.flexform.it/en/pro...</td>\n",
       "      <td>{'model_id': '2251378', 'geometry': 'Polygon m...</td>\n",
       "      <td>39.00</td>\n",
       "      <td>21</td>\n",
       "      <td>0.2</td>\n",
       "    </tr>\n",
       "    <tr>\n",
       "      <th>...</th>\n",
       "      <td>...</td>\n",
       "      <td>...</td>\n",
       "      <td>...</td>\n",
       "      <td>...</td>\n",
       "      <td>...</td>\n",
       "      <td>...</td>\n",
       "      <td>...</td>\n",
       "      <td>...</td>\n",
       "      <td>...</td>\n",
       "      <td>...</td>\n",
       "      <td>...</td>\n",
       "      <td>...</td>\n",
       "      <td>...</td>\n",
       "      <td>...</td>\n",
       "      <td>...</td>\n",
       "    </tr>\n",
       "    <tr>\n",
       "      <th>995</th>\n",
       "      <td>aviato</td>\n",
       "      <td>{'percent': 100, 'time': '68.5h'}</td>\n",
       "      <td>{'avg_rating': 4.3, 'num_rating': 7}</td>\n",
       "      <td>[sink, washbasin, stone, oval, invoice, marble...</td>\n",
       "      <td>43</td>\n",
       "      <td>0</td>\n",
       "      <td>0</td>\n",
       "      <td>{'authors': [], 'texts': [], 'datetimes': []}</td>\n",
       "      <td>$13.00</td>\n",
       "      <td>5</td>\n",
       "      <td>Stone sink and faucet Grohe Atrio 32129 Suitab...</td>\n",
       "      <td>{'model_id': '2252178', 'geometry': 'Polygon m...</td>\n",
       "      <td>13.00</td>\n",
       "      <td>10</td>\n",
       "      <td>68.5</td>\n",
       "    </tr>\n",
       "    <tr>\n",
       "      <th>996</th>\n",
       "      <td>ikhlasmiftah</td>\n",
       "      <td>{'percent': 67, 'time': '26.3h'}</td>\n",
       "      <td>{'avg_rating': 2.5, 'num_rating': 2}</td>\n",
       "      <td>[car, vehicle, wheel, automotive, tire, headli...</td>\n",
       "      <td>148</td>\n",
       "      <td>0</td>\n",
       "      <td>0</td>\n",
       "      <td>{'authors': [], 'texts': [], 'datetimes': []}</td>\n",
       "      <td>$19.00</td>\n",
       "      <td>4</td>\n",
       "      <td>Ready to render at sketch up 2015 with vray 2 ...</td>\n",
       "      <td>{'model_id': '2029813', 'geometry': '- ', 'pol...</td>\n",
       "      <td>19.00</td>\n",
       "      <td>15</td>\n",
       "      <td>26.3</td>\n",
       "    </tr>\n",
       "    <tr>\n",
       "      <th>997</th>\n",
       "      <td>lockemreality</td>\n",
       "      <td>{'percent': 50, 'time': '48.0h'}</td>\n",
       "      <td>{'avg_rating': 4.4, 'num_rating': 8}</td>\n",
       "      <td>[anchovy, can, protein, food, cooked, burnt, g...</td>\n",
       "      <td>237</td>\n",
       "      <td>0</td>\n",
       "      <td>0</td>\n",
       "      <td>{'authors': [], 'texts': [], 'datetimes': []}</td>\n",
       "      <td>$2.00</td>\n",
       "      <td>7</td>\n",
       "      <td>High quality low poly model of anchovies. This...</td>\n",
       "      <td>{'model_id': '904538', 'geometry': 'Polygon me...</td>\n",
       "      <td>2.00</td>\n",
       "      <td>9</td>\n",
       "      <td>48.0</td>\n",
       "    </tr>\n",
       "    <tr>\n",
       "      <th>998</th>\n",
       "      <td>ineedsomesleep17</td>\n",
       "      <td>{'percent': 0, 'time': 0}</td>\n",
       "      <td>{'avg_rating': 4.0, 'num_rating': 5}</td>\n",
       "      <td>[harri, more, trixy, ozzio, console, consolle,...</td>\n",
       "      <td>89</td>\n",
       "      <td>0</td>\n",
       "      <td>0</td>\n",
       "      <td>{'authors': [], 'texts': [], 'datetimes': []}</td>\n",
       "      <td>$2.00</td>\n",
       "      <td>7</td>\n",
       "      <td>3DS MAX 2015 AND VRAY RENDER MAX+FBX+3DS FORMAT</td>\n",
       "      <td>{'model_id': '2003192', 'geometry': '- ', 'pol...</td>\n",
       "      <td>2.00</td>\n",
       "      <td>19</td>\n",
       "      <td>0.0</td>\n",
       "    </tr>\n",
       "    <tr>\n",
       "      <th>999</th>\n",
       "      <td>muhamedraouf2000</td>\n",
       "      <td>{'percent': 100, 'time': '0.4h'}</td>\n",
       "      <td>{'avg_rating': 0, 'num_rating': 0}</td>\n",
       "      <td>[office, table, cupbord, chair, room, livingro...</td>\n",
       "      <td>33</td>\n",
       "      <td>0</td>\n",
       "      <td>0</td>\n",
       "      <td>{'authors': [], 'texts': [], 'datetimes': []}</td>\n",
       "      <td>$5.00</td>\n",
       "      <td>2</td>\n",
       "      <td>3d office table textured model made in blender...</td>\n",
       "      <td>{'model_id': '2035331', 'geometry': '- ', 'pol...</td>\n",
       "      <td>5.00</td>\n",
       "      <td>22</td>\n",
       "      <td>0.4</td>\n",
       "    </tr>\n",
       "  </tbody>\n",
       "</table>\n",
       "<p>68039 rows × 15 columns</p>\n",
       "</div>"
      ],
      "text/plain": [
       "              modeler                   modeler_response  \\\n",
       "0        andriy115599   {'percent': 100, 'time': '5.0h'}   \n",
       "1            sinartur          {'percent': 0, 'time': 0}   \n",
       "2           hq3dmodel          {'percent': 0, 'time': 0}   \n",
       "3             -snake-          {'percent': 0, 'time': 0}   \n",
       "4             zifir3d    {'percent': 88, 'time': '0.2h'}   \n",
       "..                ...                                ...   \n",
       "995            aviato  {'percent': 100, 'time': '68.5h'}   \n",
       "996      ikhlasmiftah   {'percent': 67, 'time': '26.3h'}   \n",
       "997     lockemreality   {'percent': 50, 'time': '48.0h'}   \n",
       "998  ineedsomesleep17          {'percent': 0, 'time': 0}   \n",
       "999  muhamedraouf2000   {'percent': 100, 'time': '0.4h'}   \n",
       "\n",
       "                           modeler_ratings  \\\n",
       "0    {'avg_rating': 3.9, 'num_rating': 14}   \n",
       "1       {'avg_rating': 0, 'num_rating': 0}   \n",
       "2     {'avg_rating': 5.0, 'num_rating': 1}   \n",
       "3       {'avg_rating': 0, 'num_rating': 0}   \n",
       "4    {'avg_rating': 4.7, 'num_rating': 33}   \n",
       "..                                     ...   \n",
       "995   {'avg_rating': 4.3, 'num_rating': 7}   \n",
       "996   {'avg_rating': 2.5, 'num_rating': 2}   \n",
       "997   {'avg_rating': 4.4, 'num_rating': 8}   \n",
       "998   {'avg_rating': 4.0, 'num_rating': 5}   \n",
       "999     {'avg_rating': 0, 'num_rating': 0}   \n",
       "\n",
       "                                                  tags  views  likes  \\\n",
       "0    [accessorie, appliance, barazza, furniture, ki...    351      0   \n",
       "1    [bed, furniture, pillow, comfort, modern, styl...     96      1   \n",
       "2    [rug, carpet, fur, interior, floor, cloth, woo...     15      0   \n",
       "3    [aquanet, modena, furniture, sink, mixer, mirr...     19      0   \n",
       "4    [flexform, ettore, sofa, divan, lounge, pillow...     77      2   \n",
       "..                                                 ...    ...    ...   \n",
       "995  [sink, washbasin, stone, oval, invoice, marble...     43      0   \n",
       "996  [car, vehicle, wheel, automotive, tire, headli...    148      0   \n",
       "997  [anchovy, can, protein, food, cooked, burnt, g...    237      0   \n",
       "998  [harri, more, trixy, ozzio, console, consolle,...     89      0   \n",
       "999  [office, table, cupbord, chair, room, livingro...     33      0   \n",
       "\n",
       "     review_count                                           comments   price  \\\n",
       "0               0      {'authors': [], 'texts': [], 'datetimes': []}   $6.00   \n",
       "1               0  {'authors': ['GGAF'], 'texts': ['cool'], 'date...  $14.99   \n",
       "2               0      {'authors': [], 'texts': [], 'datetimes': []}   $5.00   \n",
       "3               0      {'authors': [], 'texts': [], 'datetimes': []}   $7.00   \n",
       "4               0      {'authors': [], 'texts': [], 'datetimes': []}  $39.00   \n",
       "..            ...                                                ...     ...   \n",
       "995             0      {'authors': [], 'texts': [], 'datetimes': []}  $13.00   \n",
       "996             0      {'authors': [], 'texts': [], 'datetimes': []}  $19.00   \n",
       "997             0      {'authors': [], 'texts': [], 'datetimes': []}   $2.00   \n",
       "998             0      {'authors': [], 'texts': [], 'datetimes': []}   $2.00   \n",
       "999             0      {'authors': [], 'texts': [], 'datetimes': []}   $5.00   \n",
       "\n",
       "     pic_count                                  model_description  \\\n",
       "0           30  High quality 3d models of Barazza. The models ...   \n",
       "1           10  This 3d model Lipende sofa has a fully texture...   \n",
       "2            8  The set consists of 3 rugs. All high quality t...   \n",
       "3            9  Furniture set Modena 65/85/100 White gloss. Di...   \n",
       "4            8  Flexform Ettore https://www.flexform.it/en/pro...   \n",
       "..         ...                                                ...   \n",
       "995          5  Stone sink and faucet Grohe Atrio 32129 Suitab...   \n",
       "996          4  Ready to render at sketch up 2015 with vray 2 ...   \n",
       "997          7  High quality low poly model of anchovies. This...   \n",
       "998          7   3DS MAX 2015 AND VRAY RENDER MAX+FBX+3DS FORMAT    \n",
       "999          2  3d office table textured model made in blender...   \n",
       "\n",
       "                                         model_details  price_usd  tag_count  \\\n",
       "0    {'model_id': '801556', 'geometry': 'Subdivisio...       6.00          7   \n",
       "1    {'model_id': '2095846', 'geometry': 'Polygon m...      14.99         19   \n",
       "2    {'model_id': '2418972', 'geometry': 'Polygon m...       5.00         20   \n",
       "3    {'model_id': '2372429', 'geometry': 'Polygon m...       7.00         18   \n",
       "4    {'model_id': '2251378', 'geometry': 'Polygon m...      39.00         21   \n",
       "..                                                 ...        ...        ...   \n",
       "995  {'model_id': '2252178', 'geometry': 'Polygon m...      13.00         10   \n",
       "996  {'model_id': '2029813', 'geometry': '- ', 'pol...      19.00         15   \n",
       "997  {'model_id': '904538', 'geometry': 'Polygon me...       2.00          9   \n",
       "998  {'model_id': '2003192', 'geometry': '- ', 'pol...       2.00         19   \n",
       "999  {'model_id': '2035331', 'geometry': '- ', 'pol...       5.00         22   \n",
       "\n",
       "     response_time  \n",
       "0              5.0  \n",
       "1              0.0  \n",
       "2              0.0  \n",
       "3              0.0  \n",
       "4              0.2  \n",
       "..             ...  \n",
       "995           68.5  \n",
       "996           26.3  \n",
       "997           48.0  \n",
       "998            0.0  \n",
       "999            0.4  \n",
       "\n",
       "[68039 rows x 15 columns]"
      ]
     },
     "execution_count": 3,
     "metadata": {},
     "output_type": "execute_result"
    }
   ],
   "source": [
    "df"
   ]
  },
  {
   "cell_type": "code",
   "execution_count": 11,
   "metadata": {},
   "outputs": [],
   "source": [
    "comments = df['comments'].apply(lambda x: x if len(x['authors']) > 0 else None).dropna()"
   ]
  },
  {
   "cell_type": "code",
   "execution_count": 23,
   "metadata": {},
   "outputs": [
    {
     "data": {
      "text/plain": [
       "1    {'authors': ['GGAF'], 'texts': ['cool'], 'date...\n",
       "1        {'authors': [], 'texts': [], 'datetimes': []}\n",
       "1        {'authors': [], 'texts': [], 'datetimes': []}\n",
       "1        {'authors': [], 'texts': [], 'datetimes': []}\n",
       "1        {'authors': [], 'texts': [], 'datetimes': []}\n",
       "                           ...                        \n",
       "1        {'authors': [], 'texts': [], 'datetimes': []}\n",
       "1        {'authors': [], 'texts': [], 'datetimes': []}\n",
       "1        {'authors': [], 'texts': [], 'datetimes': []}\n",
       "1        {'authors': [], 'texts': [], 'datetimes': []}\n",
       "1        {'authors': [], 'texts': [], 'datetimes': []}\n",
       "Name: comments, Length: 69, dtype: object"
      ]
     },
     "execution_count": 23,
     "metadata": {},
     "output_type": "execute_result"
    }
   ],
   "source": [
    "df['comments'][1]"
   ]
  },
  {
   "cell_type": "code",
   "execution_count": 34,
   "metadata": {},
   "outputs": [
    {
     "data": {
      "text/plain": [
       "(array([6.5212e+04, 1.5720e+03, 8.7300e+02, 1.9400e+02, 1.6400e+02,\n",
       "        1.5000e+01, 5.0000e+00, 2.0000e+00, 0.0000e+00, 2.0000e+00]),\n",
       " array([ 0. ,  2.1,  4.2,  6.3,  8.4, 10.5, 12.6, 14.7, 16.8, 18.9, 21. ]),\n",
       " <a list of 10 Patch objects>)"
      ]
     },
     "execution_count": 34,
     "metadata": {},
     "output_type": "execute_result"
    },
    {
     "data": {
      "image/png": "[encoded data removed]",
      "text/plain": [
       "<Figure size 432x288 with 1 Axes>"
      ]
     },
     "metadata": {
      "needs_background": "light"
     },
     "output_type": "display_data"
    }
   ],
   "source": [
    "import matplotlib.pyplot as plt\n",
    "\n",
    "fig, ax = plt.subplots()\n",
    "\n",
    "plt.hist(df['comments'].apply(lambda x: len(x['authors'])))"
   ]
  },
  {
   "cell_type": "code",
   "execution_count": 49,
   "metadata": {},
   "outputs": [
    {
     "data": {
      "text/plain": [
       "array([{'authors': ['GGAF'], 'texts': ['cool'], 'datetimes': [datetime.datetime(2019, 9, 16, 17, 5)]},\n",
       "       {'authors': ['piyushp7879', 'aanthony-jegu', 'ppukamakara', 'sixam'], 'texts': ['Nice', 'This is great work, great models and the support from the team Sixam is really profesional. I had some issue importing the models correctly in C4D and they helped me within the hour. So yes Highly recommended. ', 'Gorgeous', 'Thank you for your feedback. :)'], 'datetimes': [datetime.datetime(2019, 8, 1, 3, 36), datetime.datetime(2019, 10, 31, 13, 46), datetime.datetime(2020, 2, 10, 9, 24), datetime.datetime(2020, 2, 10, 9, 47)]},\n",
       "       {'authors': ['Dolphin-GS'], 'texts': ['Good'], 'datetimes': [datetime.datetime(2018, 1, 25, 4, 46)]},\n",
       "       ...,\n",
       "       {'authors': ['PBRCool'], 'texts': ['superb!'], 'datetimes': [datetime.datetime(2018, 11, 2, 4, 49)]},\n",
       "       {'authors': ['lyivan'], 'texts': ['nice'], 'datetimes': [datetime.datetime(2018, 11, 24, 8, 15)]},\n",
       "       {'authors': ['Kado3D'], 'texts': ['nice'], 'datetimes': [datetime.datetime(2019, 9, 27, 11, 34)]}],\n",
       "      dtype=object)"
      ]
     },
     "execution_count": 49,
     "metadata": {},
     "output_type": "execute_result"
    }
   ],
   "source": [
    "comments.values"
   ]
  },
  {
   "cell_type": "code",
   "execution_count": 92,
   "metadata": {},
   "outputs": [],
   "source": [
    "model_detail_df = pd.DataFrame(list(df['model_details']))"
   ]
  },
  {
   "cell_type": "code",
   "execution_count": 102,
   "metadata": {},
   "outputs": [],
   "source": [
    "model_detail_df\n",
    "\n",
    "binary_cols = ['animated', 'rigged', 'vr/ar/low-poly', 'pbr', 'textures', 'materials', 'uv_mapping', 'plugins_used']"
   ]
  },
  {
   "cell_type": "code",
   "execution_count": 106,
   "metadata": {},
   "outputs": [],
   "source": [
    "model_detail_df = model_detail_df.dropna()"
   ]
  },
  {
   "cell_type": "code",
   "execution_count": 107,
   "metadata": {},
   "outputs": [],
   "source": [
    "for col in binary_cols:\n",
    "    model_detail_df[col] = model_detail_df[col].astype(int)"
   ]
  },
  {
   "cell_type": "code",
   "execution_count": 132,
   "metadata": {},
   "outputs": [],
   "source": [
    "from sklearn.feature_extraction.text import CountVectorizer\n",
    "from sklearn.feature_extraction.text import TfidfTransformer\n",
    "from nltk.corpus import stopwords"
   ]
  },
  {
   "cell_type": "code",
   "execution_count": 134,
   "metadata": {},
   "outputs": [],
   "source": [
    "vectorizer = CountVectorizer(stop_words = stopwords)\n",
    "transformer = TfidfTransformer()"
   ]
  },
  {
   "cell_type": "code",
   "execution_count": null,
   "metadata": {},
   "outputs": [],
   "source": [
    "trainVectorizerArray = vectorizer.fit_transform(train_set).toarray()\n",
    "testVectorizerArray = vectorizer.transform(test_set).toarray()"
   ]
  },
  {
   "cell_type": "code",
   "execution_count": 110,
   "metadata": {},
   "outputs": [],
   "source": [
    "# importing one hot encoder \n",
    "from sklearn.preprocessing import OneHotEncoder\n",
    "# creating one hot encoder object \n",
    "ohe = OneHotEncoder()"
   ]
  },
  {
   "cell_type": "code",
   "execution_count": null,
   "metadata": {},
   "outputs": [],
   "source": []
  },
  {
   "cell_type": "code",
   "execution_count": 116,
   "metadata": {},
   "outputs": [
    {
     "data": {
      "text/plain": [
       "array([[1., 0., 0., ..., 0., 0., 0.],\n",
       "       [0., 0., 0., ..., 0., 0., 0.],\n",
       "       [0., 0., 0., ..., 1., 0., 0.],\n",
       "       ...,\n",
       "       [0., 1., 0., ..., 0., 0., 0.],\n",
       "       [0., 0., 0., ..., 1., 0., 0.],\n",
       "       [0., 1., 0., ..., 0., 0., 0.]])"
      ]
     },
     "execution_count": 116,
     "metadata": {},
     "output_type": "execute_result"
    }
   ],
   "source": [
    "ohe.fit_transform(model_detail_df[['unwrapped_uvs', 'geometry']].values.reshape(-1, 1)).toarray()"
   ]
  },
  {
   "cell_type": "code",
   "execution_count": 118,
   "metadata": {},
   "outputs": [
    {
     "data": {
      "text/plain": [
       "Polygon mesh            47652\n",
       "-                        9578\n",
       "Subdivision ready        1613\n",
       "Subdivision              1572\n",
       "Other                    1153\n",
       "Nurbs                     243\n",
       "Polygon                   181\n",
       "Choose Geometry           111\n",
       "                            5\n",
       "选择几何                        2\n",
       "Выбрать геометрию           2\n",
       "Odaberite Geometriju        1\n",
       "Elige La Geometría          1\n",
       "Name: geometry, dtype: int64"
      ]
     },
     "execution_count": 118,
     "metadata": {},
     "output_type": "execute_result"
    }
   ],
   "source": [
    "model_detail_df['geometry'].value_counts()"
   ]
  },
  {
   "cell_type": "code",
   "execution_count": 122,
   "metadata": {},
   "outputs": [],
   "source": [
    "valid_df = model_detail_df.drop(['model_id', 'geometry', 'unwrapped_uvs'], axis=1)"
   ]
  },
  {
   "cell_type": "code",
   "execution_count": 129,
   "metadata": {},
   "outputs": [],
   "source": [
    "pretext_df = pd.merge(df.iloc[valid_df.index, :].drop(['modeler', 'modeler_response', 'modeler_ratings', 'tags', 'comments', 'price', 'model_details'], axis=1), valid_df, left_index=True, right_index=True)"
   ]
  },
  {
   "cell_type": "code",
   "execution_count": 130,
   "metadata": {},
   "outputs": [
    {
     "data": {
      "text/html": [
       "<div>\n",
       "<style scoped>\n",
       "    .dataframe tbody tr th:only-of-type {\n",
       "        vertical-align: middle;\n",
       "    }\n",
       "\n",
       "    .dataframe tbody tr th {\n",
       "        vertical-align: top;\n",
       "    }\n",
       "\n",
       "    .dataframe thead th {\n",
       "        text-align: right;\n",
       "    }\n",
       "</style>\n",
       "<table border=\"1\" class=\"dataframe\">\n",
       "  <thead>\n",
       "    <tr style=\"text-align: right;\">\n",
       "      <th></th>\n",
       "      <th>views</th>\n",
       "      <th>likes</th>\n",
       "      <th>review_count</th>\n",
       "      <th>pic_count</th>\n",
       "      <th>model_description</th>\n",
       "      <th>price_usd</th>\n",
       "      <th>tag_count</th>\n",
       "      <th>response_time</th>\n",
       "      <th>polygons</th>\n",
       "      <th>vertices</th>\n",
       "      <th>animated</th>\n",
       "      <th>rigged</th>\n",
       "      <th>vr/ar/low-poly</th>\n",
       "      <th>pbr</th>\n",
       "      <th>textures</th>\n",
       "      <th>materials</th>\n",
       "      <th>uv_mapping</th>\n",
       "      <th>plugins_used</th>\n",
       "    </tr>\n",
       "  </thead>\n",
       "  <tbody>\n",
       "    <tr>\n",
       "      <th>0</th>\n",
       "      <td>351</td>\n",
       "      <td>0</td>\n",
       "      <td>0</td>\n",
       "      <td>30</td>\n",
       "      <td>High quality 3d models of Barazza. The models ...</td>\n",
       "      <td>6.0</td>\n",
       "      <td>7</td>\n",
       "      <td>5.0</td>\n",
       "      <td>273224</td>\n",
       "      <td>365483</td>\n",
       "      <td>0</td>\n",
       "      <td>0</td>\n",
       "      <td>1</td>\n",
       "      <td>0</td>\n",
       "      <td>1</td>\n",
       "      <td>1</td>\n",
       "      <td>1</td>\n",
       "      <td>0</td>\n",
       "    </tr>\n",
       "    <tr>\n",
       "      <th>0</th>\n",
       "      <td>170</td>\n",
       "      <td>0</td>\n",
       "      <td>0</td>\n",
       "      <td>2</td>\n",
       "      <td>Cast iron plantSorry I don't know how to expor...</td>\n",
       "      <td>4.0</td>\n",
       "      <td>6</td>\n",
       "      <td>5.4</td>\n",
       "      <td>273224</td>\n",
       "      <td>365483</td>\n",
       "      <td>0</td>\n",
       "      <td>0</td>\n",
       "      <td>1</td>\n",
       "      <td>0</td>\n",
       "      <td>1</td>\n",
       "      <td>1</td>\n",
       "      <td>1</td>\n",
       "      <td>0</td>\n",
       "    </tr>\n",
       "    <tr>\n",
       "      <th>0</th>\n",
       "      <td>103</td>\n",
       "      <td>1</td>\n",
       "      <td>0</td>\n",
       "      <td>6</td>\n",
       "      <td>Coffee table Tray Rimadesio Dimensions: W x D ...</td>\n",
       "      <td>12.0</td>\n",
       "      <td>16</td>\n",
       "      <td>0.0</td>\n",
       "      <td>273224</td>\n",
       "      <td>365483</td>\n",
       "      <td>0</td>\n",
       "      <td>0</td>\n",
       "      <td>1</td>\n",
       "      <td>0</td>\n",
       "      <td>1</td>\n",
       "      <td>1</td>\n",
       "      <td>1</td>\n",
       "      <td>0</td>\n",
       "    </tr>\n",
       "    <tr>\n",
       "      <th>0</th>\n",
       "      <td>43</td>\n",
       "      <td>1</td>\n",
       "      <td>0</td>\n",
       "      <td>5</td>\n",
       "      <td>Chicken Turkey Leg Thigh Photogrammetry 3d Mod...</td>\n",
       "      <td>4.0</td>\n",
       "      <td>15</td>\n",
       "      <td>48.0</td>\n",
       "      <td>273224</td>\n",
       "      <td>365483</td>\n",
       "      <td>0</td>\n",
       "      <td>0</td>\n",
       "      <td>1</td>\n",
       "      <td>0</td>\n",
       "      <td>1</td>\n",
       "      <td>1</td>\n",
       "      <td>1</td>\n",
       "      <td>0</td>\n",
       "    </tr>\n",
       "    <tr>\n",
       "      <th>0</th>\n",
       "      <td>1330</td>\n",
       "      <td>2</td>\n",
       "      <td>0</td>\n",
       "      <td>25</td>\n",
       "      <td>HIGHLY DETAILED 3D MODEL OF A HOSPITAL HALLWAY...</td>\n",
       "      <td>179.0</td>\n",
       "      <td>20</td>\n",
       "      <td>24.4</td>\n",
       "      <td>273224</td>\n",
       "      <td>365483</td>\n",
       "      <td>0</td>\n",
       "      <td>0</td>\n",
       "      <td>1</td>\n",
       "      <td>0</td>\n",
       "      <td>1</td>\n",
       "      <td>1</td>\n",
       "      <td>1</td>\n",
       "      <td>0</td>\n",
       "    </tr>\n",
       "  </tbody>\n",
       "</table>\n",
       "</div>"
      ],
      "text/plain": [
       "   views  likes  review_count  pic_count  \\\n",
       "0    351      0             0         30   \n",
       "0    170      0             0          2   \n",
       "0    103      1             0          6   \n",
       "0     43      1             0          5   \n",
       "0   1330      2             0         25   \n",
       "\n",
       "                                   model_description  price_usd  tag_count  \\\n",
       "0  High quality 3d models of Barazza. The models ...        6.0          7   \n",
       "0  Cast iron plantSorry I don't know how to expor...        4.0          6   \n",
       "0  Coffee table Tray Rimadesio Dimensions: W x D ...       12.0         16   \n",
       "0  Chicken Turkey Leg Thigh Photogrammetry 3d Mod...        4.0         15   \n",
       "0  HIGHLY DETAILED 3D MODEL OF A HOSPITAL HALLWAY...      179.0         20   \n",
       "\n",
       "   response_time  polygons  vertices  animated  rigged  vr/ar/low-poly  pbr  \\\n",
       "0            5.0    273224    365483         0       0               1    0   \n",
       "0            5.4    273224    365483         0       0               1    0   \n",
       "0            0.0    273224    365483         0       0               1    0   \n",
       "0           48.0    273224    365483         0       0               1    0   \n",
       "0           24.4    273224    365483         0       0               1    0   \n",
       "\n",
       "   textures  materials  uv_mapping  plugins_used  \n",
       "0         1          1           1             0  \n",
       "0         1          1           1             0  \n",
       "0         1          1           1             0  \n",
       "0         1          1           1             0  \n",
       "0         1          1           1             0  "
      ]
     },
     "execution_count": 130,
     "metadata": {},
     "output_type": "execute_result"
    }
   ],
   "source": [
    "pretext_df.head()"
   ]
  },
  {
   "cell_type": "code",
   "execution_count": null,
   "metadata": {},
   "outputs": [],
   "source": [
    "list(pretext_df['model_description'])"
   ]
  },
  {
   "cell_type": "code",
   "execution_count": 117,
   "metadata": {},
   "outputs": [
    {
     "data": {
      "text/plain": [
       "[array(['', '- ', 'Choose Geometry', 'Elige La Geometría', 'Mixed', 'No',\n",
       "        'Non-overlapping', 'Nurbs', 'Odaberite Geometriju', 'Other',\n",
       "        'Overlapping', 'Polygon', 'Polygon mesh', 'Subdivision',\n",
       "        'Subdivision ready', 'Unknown', 'Выбрать геометрию', '选择几何'],\n",
       "       dtype=object)]"
      ]
     },
     "execution_count": 117,
     "metadata": {},
     "output_type": "execute_result"
    }
   ],
   "source": [
    "ohe.categories_"
   ]
  },
  {
   "cell_type": "code",
   "execution_count": 108,
   "metadata": {},
   "outputs": [
    {
     "data": {
      "text/html": [
       "<div>\n",
       "<style scoped>\n",
       "    .dataframe tbody tr th:only-of-type {\n",
       "        vertical-align: middle;\n",
       "    }\n",
       "\n",
       "    .dataframe tbody tr th {\n",
       "        vertical-align: top;\n",
       "    }\n",
       "\n",
       "    .dataframe thead th {\n",
       "        text-align: right;\n",
       "    }\n",
       "</style>\n",
       "<table border=\"1\" class=\"dataframe\">\n",
       "  <thead>\n",
       "    <tr style=\"text-align: right;\">\n",
       "      <th></th>\n",
       "      <th>model_id</th>\n",
       "      <th>geometry</th>\n",
       "      <th>polygons</th>\n",
       "      <th>vertices</th>\n",
       "      <th>unwrapped_uvs</th>\n",
       "      <th>animated</th>\n",
       "      <th>rigged</th>\n",
       "      <th>vr/ar/low-poly</th>\n",
       "      <th>pbr</th>\n",
       "      <th>textures</th>\n",
       "      <th>materials</th>\n",
       "      <th>uv_mapping</th>\n",
       "      <th>plugins_used</th>\n",
       "    </tr>\n",
       "  </thead>\n",
       "  <tbody>\n",
       "    <tr>\n",
       "      <th>0</th>\n",
       "      <td>801556</td>\n",
       "      <td>Subdivision ready</td>\n",
       "      <td>273224</td>\n",
       "      <td>365483</td>\n",
       "      <td></td>\n",
       "      <td>0</td>\n",
       "      <td>0</td>\n",
       "      <td>1</td>\n",
       "      <td>0</td>\n",
       "      <td>1</td>\n",
       "      <td>1</td>\n",
       "      <td>1</td>\n",
       "      <td>0</td>\n",
       "    </tr>\n",
       "    <tr>\n",
       "      <th>1</th>\n",
       "      <td>2095846</td>\n",
       "      <td>Polygon mesh</td>\n",
       "      <td>389886</td>\n",
       "      <td>395824</td>\n",
       "      <td>Unknown</td>\n",
       "      <td>0</td>\n",
       "      <td>0</td>\n",
       "      <td>0</td>\n",
       "      <td>0</td>\n",
       "      <td>1</td>\n",
       "      <td>1</td>\n",
       "      <td>0</td>\n",
       "      <td>1</td>\n",
       "    </tr>\n",
       "    <tr>\n",
       "      <th>2</th>\n",
       "      <td>2418972</td>\n",
       "      <td>Polygon mesh</td>\n",
       "      <td>34752</td>\n",
       "      <td>17630</td>\n",
       "      <td>Non-overlapping</td>\n",
       "      <td>0</td>\n",
       "      <td>0</td>\n",
       "      <td>0</td>\n",
       "      <td>0</td>\n",
       "      <td>1</td>\n",
       "      <td>1</td>\n",
       "      <td>1</td>\n",
       "      <td>0</td>\n",
       "    </tr>\n",
       "    <tr>\n",
       "      <th>3</th>\n",
       "      <td>2372429</td>\n",
       "      <td>Polygon mesh</td>\n",
       "      <td>236424</td>\n",
       "      <td>241981</td>\n",
       "      <td>No</td>\n",
       "      <td>0</td>\n",
       "      <td>0</td>\n",
       "      <td>0</td>\n",
       "      <td>0</td>\n",
       "      <td>1</td>\n",
       "      <td>1</td>\n",
       "      <td>1</td>\n",
       "      <td>1</td>\n",
       "    </tr>\n",
       "    <tr>\n",
       "      <th>4</th>\n",
       "      <td>2251378</td>\n",
       "      <td>Polygon mesh</td>\n",
       "      <td>500000</td>\n",
       "      <td>500000</td>\n",
       "      <td>Mixed</td>\n",
       "      <td>0</td>\n",
       "      <td>0</td>\n",
       "      <td>0</td>\n",
       "      <td>0</td>\n",
       "      <td>1</td>\n",
       "      <td>1</td>\n",
       "      <td>1</td>\n",
       "      <td>0</td>\n",
       "    </tr>\n",
       "    <tr>\n",
       "      <th>...</th>\n",
       "      <td>...</td>\n",
       "      <td>...</td>\n",
       "      <td>...</td>\n",
       "      <td>...</td>\n",
       "      <td>...</td>\n",
       "      <td>...</td>\n",
       "      <td>...</td>\n",
       "      <td>...</td>\n",
       "      <td>...</td>\n",
       "      <td>...</td>\n",
       "      <td>...</td>\n",
       "      <td>...</td>\n",
       "      <td>...</td>\n",
       "    </tr>\n",
       "    <tr>\n",
       "      <th>68034</th>\n",
       "      <td>2252178</td>\n",
       "      <td>Polygon mesh</td>\n",
       "      <td>61852</td>\n",
       "      <td>63731</td>\n",
       "      <td>Mixed</td>\n",
       "      <td>0</td>\n",
       "      <td>0</td>\n",
       "      <td>0</td>\n",
       "      <td>0</td>\n",
       "      <td>1</td>\n",
       "      <td>1</td>\n",
       "      <td>1</td>\n",
       "      <td>1</td>\n",
       "    </tr>\n",
       "    <tr>\n",
       "      <th>68035</th>\n",
       "      <td>2029813</td>\n",
       "      <td>-</td>\n",
       "      <td>0</td>\n",
       "      <td>0</td>\n",
       "      <td>Unknown</td>\n",
       "      <td>0</td>\n",
       "      <td>0</td>\n",
       "      <td>0</td>\n",
       "      <td>0</td>\n",
       "      <td>1</td>\n",
       "      <td>1</td>\n",
       "      <td>0</td>\n",
       "      <td>1</td>\n",
       "    </tr>\n",
       "    <tr>\n",
       "      <th>68036</th>\n",
       "      <td>904538</td>\n",
       "      <td>Polygon mesh</td>\n",
       "      <td>1501</td>\n",
       "      <td>1460</td>\n",
       "      <td>Non-overlapping</td>\n",
       "      <td>0</td>\n",
       "      <td>0</td>\n",
       "      <td>1</td>\n",
       "      <td>0</td>\n",
       "      <td>1</td>\n",
       "      <td>0</td>\n",
       "      <td>1</td>\n",
       "      <td>0</td>\n",
       "    </tr>\n",
       "    <tr>\n",
       "      <th>68037</th>\n",
       "      <td>2003192</td>\n",
       "      <td>-</td>\n",
       "      <td>20471</td>\n",
       "      <td>20278</td>\n",
       "      <td>No</td>\n",
       "      <td>0</td>\n",
       "      <td>0</td>\n",
       "      <td>0</td>\n",
       "      <td>0</td>\n",
       "      <td>1</td>\n",
       "      <td>1</td>\n",
       "      <td>1</td>\n",
       "      <td>1</td>\n",
       "    </tr>\n",
       "    <tr>\n",
       "      <th>68038</th>\n",
       "      <td>2035331</td>\n",
       "      <td>-</td>\n",
       "      <td>0</td>\n",
       "      <td>0</td>\n",
       "      <td>Unknown</td>\n",
       "      <td>0</td>\n",
       "      <td>0</td>\n",
       "      <td>0</td>\n",
       "      <td>0</td>\n",
       "      <td>1</td>\n",
       "      <td>1</td>\n",
       "      <td>0</td>\n",
       "      <td>1</td>\n",
       "    </tr>\n",
       "  </tbody>\n",
       "</table>\n",
       "<p>62114 rows × 13 columns</p>\n",
       "</div>"
      ],
      "text/plain": [
       "      model_id           geometry  polygons  vertices    unwrapped_uvs  \\\n",
       "0       801556  Subdivision ready    273224    365483                    \n",
       "1      2095846       Polygon mesh    389886    395824          Unknown   \n",
       "2      2418972       Polygon mesh     34752     17630  Non-overlapping   \n",
       "3      2372429       Polygon mesh    236424    241981               No   \n",
       "4      2251378       Polygon mesh    500000    500000            Mixed   \n",
       "...        ...                ...       ...       ...              ...   \n",
       "68034  2252178       Polygon mesh     61852     63731            Mixed   \n",
       "68035  2029813                 -          0         0          Unknown   \n",
       "68036   904538       Polygon mesh      1501      1460  Non-overlapping   \n",
       "68037  2003192                 -      20471     20278               No   \n",
       "68038  2035331                 -          0         0          Unknown   \n",
       "\n",
       "       animated  rigged  vr/ar/low-poly  pbr  textures  materials  uv_mapping  \\\n",
       "0             0       0               1    0         1          1           1   \n",
       "1             0       0               0    0         1          1           0   \n",
       "2             0       0               0    0         1          1           1   \n",
       "3             0       0               0    0         1          1           1   \n",
       "4             0       0               0    0         1          1           1   \n",
       "...         ...     ...             ...  ...       ...        ...         ...   \n",
       "68034         0       0               0    0         1          1           1   \n",
       "68035         0       0               0    0         1          1           0   \n",
       "68036         0       0               1    0         1          0           1   \n",
       "68037         0       0               0    0         1          1           1   \n",
       "68038         0       0               0    0         1          1           0   \n",
       "\n",
       "       plugins_used  \n",
       "0                 0  \n",
       "1                 1  \n",
       "2                 0  \n",
       "3                 1  \n",
       "4                 0  \n",
       "...             ...  \n",
       "68034             1  \n",
       "68035             1  \n",
       "68036             0  \n",
       "68037             1  \n",
       "68038             1  \n",
       "\n",
       "[62114 rows x 13 columns]"
      ]
     },
     "execution_count": 108,
     "metadata": {},
     "output_type": "execute_result"
    }
   ],
   "source": [
    "model_detail_df"
   ]
  },
  {
   "cell_type": "code",
   "execution_count": 55,
   "metadata": {},
   "outputs": [
    {
     "data": {
      "text/html": [
       "<div>\n",
       "<style scoped>\n",
       "    .dataframe tbody tr th:only-of-type {\n",
       "        vertical-align: middle;\n",
       "    }\n",
       "\n",
       "    .dataframe tbody tr th {\n",
       "        vertical-align: top;\n",
       "    }\n",
       "\n",
       "    .dataframe thead th {\n",
       "        text-align: right;\n",
       "    }\n",
       "</style>\n",
       "<table border=\"1\" class=\"dataframe\">\n",
       "  <thead>\n",
       "    <tr style=\"text-align: right;\">\n",
       "      <th></th>\n",
       "      <th>model_id</th>\n",
       "      <th>geometry</th>\n",
       "      <th>polygons</th>\n",
       "      <th>vertices</th>\n",
       "      <th>unwrapped_uvs</th>\n",
       "      <th>animated</th>\n",
       "      <th>rigged</th>\n",
       "      <th>vr/ar/low-poly</th>\n",
       "      <th>pbr</th>\n",
       "      <th>textures</th>\n",
       "      <th>materials</th>\n",
       "      <th>uv_mapping</th>\n",
       "      <th>plugins_used</th>\n",
       "    </tr>\n",
       "  </thead>\n",
       "  <tbody>\n",
       "    <tr>\n",
       "      <th>5</th>\n",
       "      <td>34572</td>\n",
       "      <td>-</td>\n",
       "      <td>0</td>\n",
       "      <td>0</td>\n",
       "      <td>Unknown</td>\n",
       "      <td>False</td>\n",
       "      <td>False</td>\n",
       "      <td>False</td>\n",
       "      <td>False</td>\n",
       "      <td>NaN</td>\n",
       "      <td>NaN</td>\n",
       "      <td>NaN</td>\n",
       "      <td>NaN</td>\n",
       "    </tr>\n",
       "    <tr>\n",
       "      <th>13</th>\n",
       "      <td>142530</td>\n",
       "      <td>Polygon mesh</td>\n",
       "      <td>0</td>\n",
       "      <td>0</td>\n",
       "      <td>Unknown</td>\n",
       "      <td>False</td>\n",
       "      <td>False</td>\n",
       "      <td>False</td>\n",
       "      <td>False</td>\n",
       "      <td>NaN</td>\n",
       "      <td>NaN</td>\n",
       "      <td>NaN</td>\n",
       "      <td>NaN</td>\n",
       "    </tr>\n",
       "    <tr>\n",
       "      <th>36</th>\n",
       "      <td>137245</td>\n",
       "      <td>Polygon mesh</td>\n",
       "      <td>0</td>\n",
       "      <td>0</td>\n",
       "      <td>Unknown</td>\n",
       "      <td>False</td>\n",
       "      <td>False</td>\n",
       "      <td>False</td>\n",
       "      <td>False</td>\n",
       "      <td>NaN</td>\n",
       "      <td>NaN</td>\n",
       "      <td>NaN</td>\n",
       "      <td>NaN</td>\n",
       "    </tr>\n",
       "    <tr>\n",
       "      <th>37</th>\n",
       "      <td>30707</td>\n",
       "      <td>-</td>\n",
       "      <td>0</td>\n",
       "      <td>0</td>\n",
       "      <td>Unknown</td>\n",
       "      <td>False</td>\n",
       "      <td>False</td>\n",
       "      <td>False</td>\n",
       "      <td>False</td>\n",
       "      <td>NaN</td>\n",
       "      <td>NaN</td>\n",
       "      <td>NaN</td>\n",
       "      <td>NaN</td>\n",
       "    </tr>\n",
       "    <tr>\n",
       "      <th>48</th>\n",
       "      <td>35740</td>\n",
       "      <td>-</td>\n",
       "      <td>0</td>\n",
       "      <td>0</td>\n",
       "      <td>Unknown</td>\n",
       "      <td>False</td>\n",
       "      <td>False</td>\n",
       "      <td>False</td>\n",
       "      <td>False</td>\n",
       "      <td>NaN</td>\n",
       "      <td>NaN</td>\n",
       "      <td>NaN</td>\n",
       "      <td>NaN</td>\n",
       "    </tr>\n",
       "    <tr>\n",
       "      <th>...</th>\n",
       "      <td>...</td>\n",
       "      <td>...</td>\n",
       "      <td>...</td>\n",
       "      <td>...</td>\n",
       "      <td>...</td>\n",
       "      <td>...</td>\n",
       "      <td>...</td>\n",
       "      <td>...</td>\n",
       "      <td>...</td>\n",
       "      <td>...</td>\n",
       "      <td>...</td>\n",
       "      <td>...</td>\n",
       "      <td>...</td>\n",
       "    </tr>\n",
       "    <tr>\n",
       "      <th>67928</th>\n",
       "      <td>208974</td>\n",
       "      <td>-</td>\n",
       "      <td>0</td>\n",
       "      <td>0</td>\n",
       "      <td>Unknown</td>\n",
       "      <td>False</td>\n",
       "      <td>False</td>\n",
       "      <td>False</td>\n",
       "      <td>False</td>\n",
       "      <td>NaN</td>\n",
       "      <td>NaN</td>\n",
       "      <td>NaN</td>\n",
       "      <td>NaN</td>\n",
       "    </tr>\n",
       "    <tr>\n",
       "      <th>67975</th>\n",
       "      <td>155632</td>\n",
       "      <td>Polygon mesh</td>\n",
       "      <td>0</td>\n",
       "      <td>0</td>\n",
       "      <td>Unknown</td>\n",
       "      <td>False</td>\n",
       "      <td>False</td>\n",
       "      <td>False</td>\n",
       "      <td>False</td>\n",
       "      <td>NaN</td>\n",
       "      <td>NaN</td>\n",
       "      <td>NaN</td>\n",
       "      <td>NaN</td>\n",
       "    </tr>\n",
       "    <tr>\n",
       "      <th>67992</th>\n",
       "      <td>151621</td>\n",
       "      <td>-</td>\n",
       "      <td>0</td>\n",
       "      <td>0</td>\n",
       "      <td>Unknown</td>\n",
       "      <td>False</td>\n",
       "      <td>False</td>\n",
       "      <td>False</td>\n",
       "      <td>False</td>\n",
       "      <td>NaN</td>\n",
       "      <td>NaN</td>\n",
       "      <td>NaN</td>\n",
       "      <td>NaN</td>\n",
       "    </tr>\n",
       "    <tr>\n",
       "      <th>68022</th>\n",
       "      <td>133154</td>\n",
       "      <td>Polygon mesh</td>\n",
       "      <td>0</td>\n",
       "      <td>0</td>\n",
       "      <td>Unknown</td>\n",
       "      <td>False</td>\n",
       "      <td>False</td>\n",
       "      <td>False</td>\n",
       "      <td>False</td>\n",
       "      <td>NaN</td>\n",
       "      <td>NaN</td>\n",
       "      <td>NaN</td>\n",
       "      <td>NaN</td>\n",
       "    </tr>\n",
       "    <tr>\n",
       "      <th>68027</th>\n",
       "      <td>164599</td>\n",
       "      <td>-</td>\n",
       "      <td>0</td>\n",
       "      <td>0</td>\n",
       "      <td>Unknown</td>\n",
       "      <td>False</td>\n",
       "      <td>False</td>\n",
       "      <td>False</td>\n",
       "      <td>False</td>\n",
       "      <td>NaN</td>\n",
       "      <td>NaN</td>\n",
       "      <td>NaN</td>\n",
       "      <td>NaN</td>\n",
       "    </tr>\n",
       "  </tbody>\n",
       "</table>\n",
       "<p>5303 rows × 13 columns</p>\n",
       "</div>"
      ],
      "text/plain": [
       "      model_id      geometry  polygons  vertices unwrapped_uvs  animated  \\\n",
       "5        34572            -          0         0       Unknown     False   \n",
       "13      142530  Polygon mesh         0         0       Unknown     False   \n",
       "36      137245  Polygon mesh         0         0       Unknown     False   \n",
       "37       30707            -          0         0       Unknown     False   \n",
       "48       35740            -          0         0       Unknown     False   \n",
       "...        ...           ...       ...       ...           ...       ...   \n",
       "67928   208974            -          0         0       Unknown     False   \n",
       "67975   155632  Polygon mesh         0         0       Unknown     False   \n",
       "67992   151621            -          0         0       Unknown     False   \n",
       "68022   133154  Polygon mesh         0         0       Unknown     False   \n",
       "68027   164599            -          0         0       Unknown     False   \n",
       "\n",
       "       rigged  vr/ar/low-poly    pbr textures materials uv_mapping  \\\n",
       "5       False           False  False      NaN       NaN        NaN   \n",
       "13      False           False  False      NaN       NaN        NaN   \n",
       "36      False           False  False      NaN       NaN        NaN   \n",
       "37      False           False  False      NaN       NaN        NaN   \n",
       "48      False           False  False      NaN       NaN        NaN   \n",
       "...       ...             ...    ...      ...       ...        ...   \n",
       "67928   False           False  False      NaN       NaN        NaN   \n",
       "67975   False           False  False      NaN       NaN        NaN   \n",
       "67992   False           False  False      NaN       NaN        NaN   \n",
       "68022   False           False  False      NaN       NaN        NaN   \n",
       "68027   False           False  False      NaN       NaN        NaN   \n",
       "\n",
       "      plugins_used  \n",
       "5              NaN  \n",
       "13             NaN  \n",
       "36             NaN  \n",
       "37             NaN  \n",
       "48             NaN  \n",
       "...            ...  \n",
       "67928          NaN  \n",
       "67975          NaN  \n",
       "67992          NaN  \n",
       "68022          NaN  \n",
       "68027          NaN  \n",
       "\n",
       "[5303 rows x 13 columns]"
      ]
     },
     "execution_count": 55,
     "metadata": {},
     "output_type": "execute_result"
    }
   ],
   "source": [
    "# probably drop all 0/0 rows\n",
    "model_detail_df[model_detail_df['materials'].isna()]"
   ]
  },
  {
   "cell_type": "code",
   "execution_count": 61,
   "metadata": {},
   "outputs": [
    {
     "data": {
      "text/plain": [
       "20035"
      ]
     },
     "execution_count": 61,
     "metadata": {},
     "output_type": "execute_result"
    }
   ],
   "source": [
    "sum(model_detail_df['polygons'] == 0)"
   ]
  },
  {
   "cell_type": "code",
   "execution_count": 62,
   "metadata": {},
   "outputs": [
    {
     "data": {
      "text/plain": [
       "22651"
      ]
     },
     "execution_count": 62,
     "metadata": {},
     "output_type": "execute_result"
    }
   ],
   "source": [
    "sum(model_detail_df['vertices'] == 0)"
   ]
  },
  {
   "cell_type": "code",
   "execution_count": 73,
   "metadata": {},
   "outputs": [],
   "source": [
    "test = set(model_detail_df[model_detail_df['vertices'] == 0].index)\n",
    "test.update(list(set(model_detail_df[model_detail_df['polygons'] == 0].index)))"
   ]
  },
  {
   "cell_type": "code",
   "execution_count": 84,
   "metadata": {},
   "outputs": [],
   "source": [
    "better_df = model_detail_df.drop(list(test))"
   ]
  },
  {
   "cell_type": "code",
   "execution_count": 86,
   "metadata": {},
   "outputs": [
    {
     "data": {
      "text/plain": [
       "''"
      ]
     },
     "execution_count": 86,
     "metadata": {},
     "output_type": "execute_result"
    }
   ],
   "source": [
    "better_df.iloc[0, 4]"
   ]
  },
  {
   "cell_type": "code",
   "execution_count": 58,
   "metadata": {},
   "outputs": [
    {
     "data": {
      "text/html": [
       "<div>\n",
       "<style scoped>\n",
       "    .dataframe tbody tr th:only-of-type {\n",
       "        vertical-align: middle;\n",
       "    }\n",
       "\n",
       "    .dataframe tbody tr th {\n",
       "        vertical-align: top;\n",
       "    }\n",
       "\n",
       "    .dataframe thead th {\n",
       "        text-align: right;\n",
       "    }\n",
       "</style>\n",
       "<table border=\"1\" class=\"dataframe\">\n",
       "  <thead>\n",
       "    <tr style=\"text-align: right;\">\n",
       "      <th></th>\n",
       "      <th>model_id</th>\n",
       "      <th>geometry</th>\n",
       "      <th>polygons</th>\n",
       "      <th>vertices</th>\n",
       "      <th>unwrapped_uvs</th>\n",
       "      <th>animated</th>\n",
       "      <th>rigged</th>\n",
       "      <th>vr/ar/low-poly</th>\n",
       "      <th>pbr</th>\n",
       "      <th>textures</th>\n",
       "      <th>materials</th>\n",
       "      <th>uv_mapping</th>\n",
       "      <th>plugins_used</th>\n",
       "    </tr>\n",
       "  </thead>\n",
       "  <tbody>\n",
       "    <tr>\n",
       "      <th>0</th>\n",
       "      <td>NaN</td>\n",
       "      <td>NaN</td>\n",
       "      <td>NaN</td>\n",
       "      <td>NaN</td>\n",
       "      <td>NaN</td>\n",
       "      <td>NaN</td>\n",
       "      <td>NaN</td>\n",
       "      <td>NaN</td>\n",
       "      <td>NaN</td>\n",
       "      <td>NaN</td>\n",
       "      <td>NaN</td>\n",
       "      <td>NaN</td>\n",
       "      <td>NaN</td>\n",
       "    </tr>\n",
       "    <tr>\n",
       "      <th>1</th>\n",
       "      <td>NaN</td>\n",
       "      <td>NaN</td>\n",
       "      <td>NaN</td>\n",
       "      <td>NaN</td>\n",
       "      <td>NaN</td>\n",
       "      <td>NaN</td>\n",
       "      <td>NaN</td>\n",
       "      <td>NaN</td>\n",
       "      <td>NaN</td>\n",
       "      <td>NaN</td>\n",
       "      <td>NaN</td>\n",
       "      <td>NaN</td>\n",
       "      <td>NaN</td>\n",
       "    </tr>\n",
       "    <tr>\n",
       "      <th>2</th>\n",
       "      <td>NaN</td>\n",
       "      <td>NaN</td>\n",
       "      <td>NaN</td>\n",
       "      <td>NaN</td>\n",
       "      <td>NaN</td>\n",
       "      <td>NaN</td>\n",
       "      <td>NaN</td>\n",
       "      <td>NaN</td>\n",
       "      <td>NaN</td>\n",
       "      <td>NaN</td>\n",
       "      <td>NaN</td>\n",
       "      <td>NaN</td>\n",
       "      <td>NaN</td>\n",
       "    </tr>\n",
       "    <tr>\n",
       "      <th>3</th>\n",
       "      <td>NaN</td>\n",
       "      <td>NaN</td>\n",
       "      <td>NaN</td>\n",
       "      <td>NaN</td>\n",
       "      <td>NaN</td>\n",
       "      <td>NaN</td>\n",
       "      <td>NaN</td>\n",
       "      <td>NaN</td>\n",
       "      <td>NaN</td>\n",
       "      <td>NaN</td>\n",
       "      <td>NaN</td>\n",
       "      <td>NaN</td>\n",
       "      <td>NaN</td>\n",
       "    </tr>\n",
       "    <tr>\n",
       "      <th>4</th>\n",
       "      <td>NaN</td>\n",
       "      <td>NaN</td>\n",
       "      <td>NaN</td>\n",
       "      <td>NaN</td>\n",
       "      <td>NaN</td>\n",
       "      <td>NaN</td>\n",
       "      <td>NaN</td>\n",
       "      <td>NaN</td>\n",
       "      <td>NaN</td>\n",
       "      <td>NaN</td>\n",
       "      <td>NaN</td>\n",
       "      <td>NaN</td>\n",
       "      <td>NaN</td>\n",
       "    </tr>\n",
       "    <tr>\n",
       "      <th>...</th>\n",
       "      <td>...</td>\n",
       "      <td>...</td>\n",
       "      <td>...</td>\n",
       "      <td>...</td>\n",
       "      <td>...</td>\n",
       "      <td>...</td>\n",
       "      <td>...</td>\n",
       "      <td>...</td>\n",
       "      <td>...</td>\n",
       "      <td>...</td>\n",
       "      <td>...</td>\n",
       "      <td>...</td>\n",
       "      <td>...</td>\n",
       "    </tr>\n",
       "    <tr>\n",
       "      <th>68034</th>\n",
       "      <td>NaN</td>\n",
       "      <td>NaN</td>\n",
       "      <td>NaN</td>\n",
       "      <td>NaN</td>\n",
       "      <td>NaN</td>\n",
       "      <td>NaN</td>\n",
       "      <td>NaN</td>\n",
       "      <td>NaN</td>\n",
       "      <td>NaN</td>\n",
       "      <td>NaN</td>\n",
       "      <td>NaN</td>\n",
       "      <td>NaN</td>\n",
       "      <td>NaN</td>\n",
       "    </tr>\n",
       "    <tr>\n",
       "      <th>68035</th>\n",
       "      <td>NaN</td>\n",
       "      <td>NaN</td>\n",
       "      <td>NaN</td>\n",
       "      <td>NaN</td>\n",
       "      <td>NaN</td>\n",
       "      <td>NaN</td>\n",
       "      <td>NaN</td>\n",
       "      <td>NaN</td>\n",
       "      <td>NaN</td>\n",
       "      <td>NaN</td>\n",
       "      <td>NaN</td>\n",
       "      <td>NaN</td>\n",
       "      <td>NaN</td>\n",
       "    </tr>\n",
       "    <tr>\n",
       "      <th>68036</th>\n",
       "      <td>NaN</td>\n",
       "      <td>NaN</td>\n",
       "      <td>NaN</td>\n",
       "      <td>NaN</td>\n",
       "      <td>NaN</td>\n",
       "      <td>NaN</td>\n",
       "      <td>NaN</td>\n",
       "      <td>NaN</td>\n",
       "      <td>NaN</td>\n",
       "      <td>NaN</td>\n",
       "      <td>NaN</td>\n",
       "      <td>NaN</td>\n",
       "      <td>NaN</td>\n",
       "    </tr>\n",
       "    <tr>\n",
       "      <th>68037</th>\n",
       "      <td>NaN</td>\n",
       "      <td>NaN</td>\n",
       "      <td>NaN</td>\n",
       "      <td>NaN</td>\n",
       "      <td>NaN</td>\n",
       "      <td>NaN</td>\n",
       "      <td>NaN</td>\n",
       "      <td>NaN</td>\n",
       "      <td>NaN</td>\n",
       "      <td>NaN</td>\n",
       "      <td>NaN</td>\n",
       "      <td>NaN</td>\n",
       "      <td>NaN</td>\n",
       "    </tr>\n",
       "    <tr>\n",
       "      <th>68038</th>\n",
       "      <td>NaN</td>\n",
       "      <td>NaN</td>\n",
       "      <td>NaN</td>\n",
       "      <td>NaN</td>\n",
       "      <td>NaN</td>\n",
       "      <td>NaN</td>\n",
       "      <td>NaN</td>\n",
       "      <td>NaN</td>\n",
       "      <td>NaN</td>\n",
       "      <td>NaN</td>\n",
       "      <td>NaN</td>\n",
       "      <td>NaN</td>\n",
       "      <td>NaN</td>\n",
       "    </tr>\n",
       "  </tbody>\n",
       "</table>\n",
       "<p>68039 rows × 13 columns</p>\n",
       "</div>"
      ],
      "text/plain": [
       "      model_id geometry  polygons  vertices unwrapped_uvs  animated  rigged  \\\n",
       "0          NaN      NaN       NaN       NaN           NaN       NaN     NaN   \n",
       "1          NaN      NaN       NaN       NaN           NaN       NaN     NaN   \n",
       "2          NaN      NaN       NaN       NaN           NaN       NaN     NaN   \n",
       "3          NaN      NaN       NaN       NaN           NaN       NaN     NaN   \n",
       "4          NaN      NaN       NaN       NaN           NaN       NaN     NaN   \n",
       "...        ...      ...       ...       ...           ...       ...     ...   \n",
       "68034      NaN      NaN       NaN       NaN           NaN       NaN     NaN   \n",
       "68035      NaN      NaN       NaN       NaN           NaN       NaN     NaN   \n",
       "68036      NaN      NaN       NaN       NaN           NaN       NaN     NaN   \n",
       "68037      NaN      NaN       NaN       NaN           NaN       NaN     NaN   \n",
       "68038      NaN      NaN       NaN       NaN           NaN       NaN     NaN   \n",
       "\n",
       "       vr/ar/low-poly  pbr textures materials uv_mapping plugins_used  \n",
       "0                 NaN  NaN      NaN       NaN        NaN          NaN  \n",
       "1                 NaN  NaN      NaN       NaN        NaN          NaN  \n",
       "2                 NaN  NaN      NaN       NaN        NaN          NaN  \n",
       "3                 NaN  NaN      NaN       NaN        NaN          NaN  \n",
       "4                 NaN  NaN      NaN       NaN        NaN          NaN  \n",
       "...               ...  ...      ...       ...        ...          ...  \n",
       "68034             NaN  NaN      NaN       NaN        NaN          NaN  \n",
       "68035             NaN  NaN      NaN       NaN        NaN          NaN  \n",
       "68036             NaN  NaN      NaN       NaN        NaN          NaN  \n",
       "68037             NaN  NaN      NaN       NaN        NaN          NaN  \n",
       "68038             NaN  NaN      NaN       NaN        NaN          NaN  \n",
       "\n",
       "[68039 rows x 13 columns]"
      ]
     },
     "execution_count": 58,
     "metadata": {},
     "output_type": "execute_result"
    }
   ],
   "source": [
    "model_detail_df.where(~(model_detail_df.polygons == 0.0) & (model_detail_df.vertices == 0.0))"
   ]
  },
  {
   "cell_type": "code",
   "execution_count": 50,
   "metadata": {},
   "outputs": [
    {
     "ename": "KeyError",
     "evalue": "nan",
     "output_type": "error",
     "traceback": [
      "\u001b[0;31m---------------------------------------------------------------------------\u001b[0m",
      "\u001b[0;31mKeyError\u001b[0m                                  Traceback (most recent call last)",
      "\u001b[0;32m<ipython-input-50-12bcc3d3266b>\u001b[0m in \u001b[0;36m<module>\u001b[0;34m\u001b[0m\n\u001b[0;32m----> 1\u001b[0;31m \u001b[0mmodel_detail_df\u001b[0m\u001b[0;34m[\u001b[0m\u001b[0;34m'materials'\u001b[0m\u001b[0;34m]\u001b[0m\u001b[0;34m.\u001b[0m\u001b[0mapply\u001b[0m\u001b[0;34m(\u001b[0m\u001b[0;32mlambda\u001b[0m \u001b[0mx\u001b[0m\u001b[0;34m:\u001b[0m \u001b[0;34m{\u001b[0m\u001b[0;32mTrue\u001b[0m\u001b[0;34m:\u001b[0m \u001b[0;36m1\u001b[0m\u001b[0;34m,\u001b[0m \u001b[0;32mFalse\u001b[0m\u001b[0;34m:\u001b[0m \u001b[0;36m0\u001b[0m\u001b[0;34m}\u001b[0m\u001b[0;34m[\u001b[0m\u001b[0mx\u001b[0m\u001b[0;34m]\u001b[0m\u001b[0;34m)\u001b[0m\u001b[0;34m\u001b[0m\u001b[0;34m\u001b[0m\u001b[0m\n\u001b[0m",
      "\u001b[0;32m~/anaconda3/envs/ds/lib/python3.8/site-packages/pandas/core/series.py\u001b[0m in \u001b[0;36mapply\u001b[0;34m(self, func, convert_dtype, args, **kwds)\u001b[0m\n\u001b[1;32m   3846\u001b[0m             \u001b[0;32melse\u001b[0m\u001b[0;34m:\u001b[0m\u001b[0;34m\u001b[0m\u001b[0;34m\u001b[0m\u001b[0m\n\u001b[1;32m   3847\u001b[0m                 \u001b[0mvalues\u001b[0m \u001b[0;34m=\u001b[0m \u001b[0mself\u001b[0m\u001b[0;34m.\u001b[0m\u001b[0mastype\u001b[0m\u001b[0;34m(\u001b[0m\u001b[0mobject\u001b[0m\u001b[0;34m)\u001b[0m\u001b[0;34m.\u001b[0m\u001b[0mvalues\u001b[0m\u001b[0;34m\u001b[0m\u001b[0;34m\u001b[0m\u001b[0m\n\u001b[0;32m-> 3848\u001b[0;31m                 \u001b[0mmapped\u001b[0m \u001b[0;34m=\u001b[0m \u001b[0mlib\u001b[0m\u001b[0;34m.\u001b[0m\u001b[0mmap_infer\u001b[0m\u001b[0;34m(\u001b[0m\u001b[0mvalues\u001b[0m\u001b[0;34m,\u001b[0m \u001b[0mf\u001b[0m\u001b[0;34m,\u001b[0m \u001b[0mconvert\u001b[0m\u001b[0;34m=\u001b[0m\u001b[0mconvert_dtype\u001b[0m\u001b[0;34m)\u001b[0m\u001b[0;34m\u001b[0m\u001b[0;34m\u001b[0m\u001b[0m\n\u001b[0m\u001b[1;32m   3849\u001b[0m \u001b[0;34m\u001b[0m\u001b[0m\n\u001b[1;32m   3850\u001b[0m         \u001b[0;32mif\u001b[0m \u001b[0mlen\u001b[0m\u001b[0;34m(\u001b[0m\u001b[0mmapped\u001b[0m\u001b[0;34m)\u001b[0m \u001b[0;32mand\u001b[0m \u001b[0misinstance\u001b[0m\u001b[0;34m(\u001b[0m\u001b[0mmapped\u001b[0m\u001b[0;34m[\u001b[0m\u001b[0;36m0\u001b[0m\u001b[0;34m]\u001b[0m\u001b[0;34m,\u001b[0m \u001b[0mSeries\u001b[0m\u001b[0;34m)\u001b[0m\u001b[0;34m:\u001b[0m\u001b[0;34m\u001b[0m\u001b[0;34m\u001b[0m\u001b[0m\n",
      "\u001b[0;32mpandas/_libs/lib.pyx\u001b[0m in \u001b[0;36mpandas._libs.lib.map_infer\u001b[0;34m()\u001b[0m\n",
      "\u001b[0;32m<ipython-input-50-12bcc3d3266b>\u001b[0m in \u001b[0;36m<lambda>\u001b[0;34m(x)\u001b[0m\n\u001b[0;32m----> 1\u001b[0;31m \u001b[0mmodel_detail_df\u001b[0m\u001b[0;34m[\u001b[0m\u001b[0;34m'materials'\u001b[0m\u001b[0;34m]\u001b[0m\u001b[0;34m.\u001b[0m\u001b[0mapply\u001b[0m\u001b[0;34m(\u001b[0m\u001b[0;32mlambda\u001b[0m \u001b[0mx\u001b[0m\u001b[0;34m:\u001b[0m \u001b[0;34m{\u001b[0m\u001b[0;32mTrue\u001b[0m\u001b[0;34m:\u001b[0m \u001b[0;36m1\u001b[0m\u001b[0;34m,\u001b[0m \u001b[0;32mFalse\u001b[0m\u001b[0;34m:\u001b[0m \u001b[0;36m0\u001b[0m\u001b[0;34m}\u001b[0m\u001b[0;34m[\u001b[0m\u001b[0mx\u001b[0m\u001b[0;34m]\u001b[0m\u001b[0;34m)\u001b[0m\u001b[0;34m\u001b[0m\u001b[0;34m\u001b[0m\u001b[0m\n\u001b[0m",
      "\u001b[0;31mKeyError\u001b[0m: nan"
     ]
    }
   ],
   "source": [
    "model_detail_df['materials'].apply(lambda x: {True: 1, False: 0}[x])"
   ]
  },
  {
   "cell_type": "code",
   "execution_count": null,
   "metadata": {},
   "outputs": [],
   "source": []
  },
  {
   "cell_type": "code",
   "execution_count": null,
   "metadata": {},
   "outputs": [],
   "source": []
  },
  {
   "cell_type": "code",
   "execution_count": null,
   "metadata": {},
   "outputs": [],
   "source": []
  },
  {
   "cell_type": "code",
   "execution_count": null,
   "metadata": {},
   "outputs": [],
   "source": []
  },
  {
   "cell_type": "code",
   "execution_count": null,
   "metadata": {},
   "outputs": [],
   "source": [
    "from sklearn.feature_extraction.text import TfidfVectorizer\n",
    "\n",
    "#define vectorizer parameters\n",
    "tfidf_vectorizer = TfidfVectorizer(max_df=0.9, max_features=200000,\n",
    "                                 min_df=0.1, stop_words=stopwords,\n",
    "                                 use_idf=True, tokenizer=tokenize_and_stem, ngram_range=(1,3))\n",
    "\n",
    "tfidf_matrix = tfidf_vectorizer.fit_transform(df.model_description.values) #fit the vectorizer to synopses\n",
    "\n",
    "print(tfidf_matrix.shape)"
   ]
  },
  {
   "cell_type": "code",
   "execution_count": null,
   "metadata": {},
   "outputs": [],
   "source": []
  }
 ],
 "metadata": {
  "kernelspec": {
   "display_name": "Python 3",
   "language": "python",
   "name": "python3"
  },
  "language_info": {
   "codemirror_mode": {
    "name": "ipython",
    "version": 3
   },
   "file_extension": ".py",
   "mimetype": "text/x-python",
   "name": "python",
   "nbconvert_exporter": "python",
   "pygments_lexer": "ipython3",
   "version": "3.8.5"
  }
 },
 "nbformat": 4,
 "nbformat_minor": 4
}
